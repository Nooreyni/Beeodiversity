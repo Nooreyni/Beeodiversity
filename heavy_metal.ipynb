{
 "metadata": {
  "language_info": {
   "codemirror_mode": {
    "name": "ipython",
    "version": 3
   },
   "file_extension": ".py",
   "mimetype": "text/x-python",
   "name": "python",
   "nbconvert_exporter": "python",
   "pygments_lexer": "ipython3",
   "version": "3.8.5-final"
  },
  "orig_nbformat": 2,
  "kernelspec": {
   "name": "python38564bit5f2391659b0b4e51a5ae522873c52736",
   "display_name": "Python 3.8.5 64-bit",
   "language": "python"
  }
 },
 "nbformat": 4,
 "nbformat_minor": 2,
 "cells": [
  {
   "cell_type": "code",
   "execution_count": 1,
   "metadata": {},
   "outputs": [],
   "source": [
    "# import relaited librairies\n",
    "\n",
    "import pandas as pd\n",
    "import numpy as np\n",
    "import seaborn as sns\n",
    "import matplotlib.pyplot as plt"
   ]
  },
  {
   "source": [
    " import datasets"
   ],
   "cell_type": "markdown",
   "metadata": {}
  },
  {
   "cell_type": "code",
   "execution_count": 2,
   "metadata": {},
   "outputs": [],
   "source": [
    "# heavy metals from 2017 to 2020\n",
    "hm1 = pd.read_excel('data/2017/HM/HM_2017_P1.xlsx')\n",
    "hm2 = pd.read_excel('data/2017/HM/HM_2017_P2.xlsx')\n",
    "hm3 = pd.read_excel('data/2017/HM/HM_2017_P3.xlsx')\n",
    "hm4 = pd.read_excel('data/2017/HM/HM_2017_P4.xlsx')\n",
    "hm5 = pd.read_excel('data/2018/HM/HM_2018_P1.xlsx')\n",
    "hm6 = pd.read_excel('data/2018/HM/HM_2018_P2.xlsx')\n",
    "hm7 = pd.read_excel('data/2018/HM/HM_2018_P3.xlsx')\n",
    "hm8 = pd.read_excel('data/2018/HM/HM_2018_P4.xlsx')\n",
    "hm9 = pd.read_excel('data/2019/HM/HM_2019_P1.xlsx')\n",
    "hm10 = pd.read_excel('data/2019/HM/HM_2019_P2.xlsx')\n",
    "hm11 = pd.read_excel('data/2019/HM/HM_2019_P3.xlsx')\n",
    "hm12 = pd.read_excel('data/2019/HM/HM_2019_P4.xlsx')\n",
    "hm13 = pd.read_excel('data/2020/HM/HM_2020_P1.xlsx')\n",
    "hm14 = pd.read_excel('data/2020/HM/HM_2020_P2.xlsx')\n",
    "hm15 = pd.read_excel('data/2020/HM/HM_2020_P3.xlsx')\n",
    "hm16 = pd.read_excel('data/2020/HM/HM_2020_P4.xlsx')\n"
   ]
  },
  {
   "cell_type": "code",
   "execution_count": 3,
   "metadata": {},
   "outputs": [
    {
     "output_type": "stream",
     "name": "stdout",
     "text": [
      "Index(['REF....SUBSTANCE', 'PERIOD', 'Lead', 'Cadmium', 'Arsenic', 'Mercury',\n       'Copper', 'Chromium', 'Zinc'],\n      dtype='object')\nIndex(['REF....SUBSTANCE', 'PERIOD', 'Lead', 'Cadmium', 'Arsenic', 'Mercury',\n       'Copper', 'Chromium', 'Zinc'],\n      dtype='object')\nIndex(['REF....SUBSTANCE', 'PERIOD', 'Lead', 'Cadmium', 'Arsenic', 'Mercury',\n       'Copper', 'Chromium', 'Zinc'],\n      dtype='object')\nIndex(['REF....SUBSTANCE', 'PERIOD', 'Lead', 'Cadmium', 'Arsenic', 'Mercury',\n       'Copper', 'Chromium', 'Zinc'],\n      dtype='object')\nIndex(['REF....SUBSTANCE', 'PERIOD', 'Lead', 'Cadmium', 'Arsenic', 'Mercury',\n       'Copper', 'Chrome', 'Zinc'],\n      dtype='object')\nIndex(['REF....SUBSTANCE', 'PERIOD', 'Lead', 'Cadmium', 'Arsenic', 'Mercury',\n       'Copper', 'Chrome', 'Zinc'],\n      dtype='object')\nIndex(['REF....SUBSTANCE', 'PERIOD', 'Lead', 'Cadmium', 'Arsenic', 'Mercury',\n       'Copper', 'Chrome', 'Zinc'],\n      dtype='object')\nIndex(['REF....SUBSTANCE', 'PERIOD', 'Lead', 'Cadmium', 'Arsenic', 'Mercury',\n       'Copper', 'Chrome', 'Zinc'],\n      dtype='object')\nIndex(['REF....SUBSTANCE', 'PERIOD', 'Lead', 'Cadmium', 'Arsenic', 'Mercury',\n       'Copper', 'Chrome', 'Zinc'],\n      dtype='object')\nIndex(['REF....SUBSTANCE', 'PERIOD', 'Lead', 'Cadmium', 'Arsenic', 'Mercury',\n       'Copper', 'Chrome', 'Zinc'],\n      dtype='object')\nIndex(['REF....SUBSTANCE', 'PERIOD', 'Lead', 'Cadmium', 'Arsenic', 'Mercury',\n       'Copper', 'Chrome', 'Zinc'],\n      dtype='object')\nIndex(['REF....SUBSTANCE', 'PERIOD', 'Lead', 'Cadmium', 'Arsenic', 'Mercury',\n       'Copper', 'Chrome', 'Zinc'],\n      dtype='object')\nIndex(['REF....SUBSTANCE', 'PERIOD', 'Lead', 'Cadmium', 'Arsenic', 'Mercury',\n       'Copper', 'Chrome', 'Zinc'],\n      dtype='object')\nIndex(['REF....SUBSTANCE', 'PERIOD', 'Lead', 'Cadmium', 'Arsenic', 'Mercury',\n       'Copper', 'Chrome', 'Zinc'],\n      dtype='object')\nIndex(['REF....SUBSTANCE', 'PERIOD', 'Lead', 'Cadmium', 'Arsenic', 'Mercury',\n       'Copper', 'Chrome', 'Zinc'],\n      dtype='object')\nIndex(['REF....SUBSTANCE', 'PERIOD', 'Lead', 'Cadmium', 'Arsenic', 'Mercury',\n       'Copper', 'Chrome', 'Zinc'],\n      dtype='object')\n"
     ]
    }
   ],
   "source": [
    "list1 = [hm1, hm2, hm3, hm4, hm5, hm6, hm7, hm8, hm9, hm10, hm11, hm12, hm13, hm14, hm15, hm16]\n",
    "\n",
    "# checking for columns dispositons\n",
    "for i in list1:\n",
    "    print(i.columns)"
   ]
  },
  {
   "cell_type": "code",
   "execution_count": 4,
   "metadata": {},
   "outputs": [],
   "source": [
    "# join the hm datasets\n",
    "hm = pd.concat([hm1, hm2, hm3, hm4, hm5, hm6, hm7, hm8, hm9, hm10, hm11, hm12, hm13, hm14, hm15, hm16], axis=0)"
   ]
  },
  {
   "cell_type": "code",
   "execution_count": 5,
   "metadata": {},
   "outputs": [
    {
     "output_type": "execute_result",
     "data": {
      "text/plain": [
       "   REF....SUBSTANCE   PERIOD   Lead  Cadmium  Arsenic  Mercury  Copper  \\\n",
       "0             B0017  2017/P1  0.081    0.810    0.000      0.0     5.5   \n",
       "1             B0019  2017/P1  0.062    0.360    0.000      0.0     8.5   \n",
       "2             B0021  2017/P1  0.150    0.610    0.000      0.0     7.0   \n",
       "3             B0023  2017/P1  0.067    0.350    0.000      0.0     6.9   \n",
       "4             B0037  2017/P1  0.120    0.070    0.000      0.0     5.6   \n",
       "..              ...      ...    ...      ...      ...      ...     ...   \n",
       "19            F0035  2020/P4  0.049    0.150    0.093      0.0     6.3   \n",
       "20            F0065  2020/P4  1.400    0.085    0.081      0.0    11.0   \n",
       "21            F0067  2020/P4  0.047    0.090    0.000      0.0     5.1   \n",
       "22            F0071  2020/P4  0.000    0.075    0.035      0.0     5.0   \n",
       "23            F0073  2020/P4  0.058    0.025    0.000      0.0     7.6   \n",
       "\n",
       "    Chromium  Zinc  Chrome  \n",
       "0      0.032    40     NaN  \n",
       "1      0.029    33     NaN  \n",
       "2      0.038    37     NaN  \n",
       "3      0.031    37     NaN  \n",
       "4      0.052    35     NaN  \n",
       "..       ...   ...     ...  \n",
       "19       NaN    54   0.087  \n",
       "20       NaN    37   0.340  \n",
       "21       NaN    21   0.049  \n",
       "22       NaN    33   0.056  \n",
       "23       NaN    34   0.064  \n",
       "\n",
       "[431 rows x 10 columns]"
      ],
      "text/html": "<div>\n<style scoped>\n    .dataframe tbody tr th:only-of-type {\n        vertical-align: middle;\n    }\n\n    .dataframe tbody tr th {\n        vertical-align: top;\n    }\n\n    .dataframe thead th {\n        text-align: right;\n    }\n</style>\n<table border=\"1\" class=\"dataframe\">\n  <thead>\n    <tr style=\"text-align: right;\">\n      <th></th>\n      <th>REF....SUBSTANCE</th>\n      <th>PERIOD</th>\n      <th>Lead</th>\n      <th>Cadmium</th>\n      <th>Arsenic</th>\n      <th>Mercury</th>\n      <th>Copper</th>\n      <th>Chromium</th>\n      <th>Zinc</th>\n      <th>Chrome</th>\n    </tr>\n  </thead>\n  <tbody>\n    <tr>\n      <th>0</th>\n      <td>B0017</td>\n      <td>2017/P1</td>\n      <td>0.081</td>\n      <td>0.810</td>\n      <td>0.000</td>\n      <td>0.0</td>\n      <td>5.5</td>\n      <td>0.032</td>\n      <td>40</td>\n      <td>NaN</td>\n    </tr>\n    <tr>\n      <th>1</th>\n      <td>B0019</td>\n      <td>2017/P1</td>\n      <td>0.062</td>\n      <td>0.360</td>\n      <td>0.000</td>\n      <td>0.0</td>\n      <td>8.5</td>\n      <td>0.029</td>\n      <td>33</td>\n      <td>NaN</td>\n    </tr>\n    <tr>\n      <th>2</th>\n      <td>B0021</td>\n      <td>2017/P1</td>\n      <td>0.150</td>\n      <td>0.610</td>\n      <td>0.000</td>\n      <td>0.0</td>\n      <td>7.0</td>\n      <td>0.038</td>\n      <td>37</td>\n      <td>NaN</td>\n    </tr>\n    <tr>\n      <th>3</th>\n      <td>B0023</td>\n      <td>2017/P1</td>\n      <td>0.067</td>\n      <td>0.350</td>\n      <td>0.000</td>\n      <td>0.0</td>\n      <td>6.9</td>\n      <td>0.031</td>\n      <td>37</td>\n      <td>NaN</td>\n    </tr>\n    <tr>\n      <th>4</th>\n      <td>B0037</td>\n      <td>2017/P1</td>\n      <td>0.120</td>\n      <td>0.070</td>\n      <td>0.000</td>\n      <td>0.0</td>\n      <td>5.6</td>\n      <td>0.052</td>\n      <td>35</td>\n      <td>NaN</td>\n    </tr>\n    <tr>\n      <th>...</th>\n      <td>...</td>\n      <td>...</td>\n      <td>...</td>\n      <td>...</td>\n      <td>...</td>\n      <td>...</td>\n      <td>...</td>\n      <td>...</td>\n      <td>...</td>\n      <td>...</td>\n    </tr>\n    <tr>\n      <th>19</th>\n      <td>F0035</td>\n      <td>2020/P4</td>\n      <td>0.049</td>\n      <td>0.150</td>\n      <td>0.093</td>\n      <td>0.0</td>\n      <td>6.3</td>\n      <td>NaN</td>\n      <td>54</td>\n      <td>0.087</td>\n    </tr>\n    <tr>\n      <th>20</th>\n      <td>F0065</td>\n      <td>2020/P4</td>\n      <td>1.400</td>\n      <td>0.085</td>\n      <td>0.081</td>\n      <td>0.0</td>\n      <td>11.0</td>\n      <td>NaN</td>\n      <td>37</td>\n      <td>0.340</td>\n    </tr>\n    <tr>\n      <th>21</th>\n      <td>F0067</td>\n      <td>2020/P4</td>\n      <td>0.047</td>\n      <td>0.090</td>\n      <td>0.000</td>\n      <td>0.0</td>\n      <td>5.1</td>\n      <td>NaN</td>\n      <td>21</td>\n      <td>0.049</td>\n    </tr>\n    <tr>\n      <th>22</th>\n      <td>F0071</td>\n      <td>2020/P4</td>\n      <td>0.000</td>\n      <td>0.075</td>\n      <td>0.035</td>\n      <td>0.0</td>\n      <td>5.0</td>\n      <td>NaN</td>\n      <td>33</td>\n      <td>0.056</td>\n    </tr>\n    <tr>\n      <th>23</th>\n      <td>F0073</td>\n      <td>2020/P4</td>\n      <td>0.058</td>\n      <td>0.025</td>\n      <td>0.000</td>\n      <td>0.0</td>\n      <td>7.6</td>\n      <td>NaN</td>\n      <td>34</td>\n      <td>0.064</td>\n    </tr>\n  </tbody>\n</table>\n<p>431 rows × 10 columns</p>\n</div>"
     },
     "metadata": {},
     "execution_count": 5
    }
   ],
   "source": [
    "hm"
   ]
  },
  {
   "cell_type": "code",
   "execution_count": 6,
   "metadata": {},
   "outputs": [
    {
     "output_type": "execute_result",
     "data": {
      "text/plain": [
       "          count       mean        std     min       25%     50%       75%  \\\n",
       "Lead      431.0   0.221285   0.322265   0.000   0.06250   0.130   0.24500   \n",
       "Cadmium   431.0   0.186947   0.221463   0.011   0.06000   0.110   0.22000   \n",
       "Arsenic   431.0   0.037369   0.040220   0.000   0.00000   0.037   0.05700   \n",
       "Mercury   431.0   0.000427   0.002567   0.000   0.00000   0.000   0.00000   \n",
       "Copper    431.0   7.972158   2.809016   0.000   6.60000   7.700   9.00000   \n",
       "Chromium   66.0   0.088727   0.144092   0.000   0.02725   0.044   0.11225   \n",
       "Zinc      431.0  38.679814  10.387808  15.000  32.00000  37.000  44.00000   \n",
       "Chrome    365.0   0.107748   0.091180   0.015   0.05100   0.081   0.12000   \n",
       "\n",
       "              max  \n",
       "Lead        3.000  \n",
       "Cadmium     2.100  \n",
       "Arsenic     0.340  \n",
       "Mercury     0.042  \n",
       "Copper     37.000  \n",
       "Chromium    1.100  \n",
       "Zinc      108.000  \n",
       "Chrome      0.710  "
      ],
      "text/html": "<div>\n<style scoped>\n    .dataframe tbody tr th:only-of-type {\n        vertical-align: middle;\n    }\n\n    .dataframe tbody tr th {\n        vertical-align: top;\n    }\n\n    .dataframe thead th {\n        text-align: right;\n    }\n</style>\n<table border=\"1\" class=\"dataframe\">\n  <thead>\n    <tr style=\"text-align: right;\">\n      <th></th>\n      <th>count</th>\n      <th>mean</th>\n      <th>std</th>\n      <th>min</th>\n      <th>25%</th>\n      <th>50%</th>\n      <th>75%</th>\n      <th>max</th>\n    </tr>\n  </thead>\n  <tbody>\n    <tr>\n      <th>Lead</th>\n      <td>431.0</td>\n      <td>0.221285</td>\n      <td>0.322265</td>\n      <td>0.000</td>\n      <td>0.06250</td>\n      <td>0.130</td>\n      <td>0.24500</td>\n      <td>3.000</td>\n    </tr>\n    <tr>\n      <th>Cadmium</th>\n      <td>431.0</td>\n      <td>0.186947</td>\n      <td>0.221463</td>\n      <td>0.011</td>\n      <td>0.06000</td>\n      <td>0.110</td>\n      <td>0.22000</td>\n      <td>2.100</td>\n    </tr>\n    <tr>\n      <th>Arsenic</th>\n      <td>431.0</td>\n      <td>0.037369</td>\n      <td>0.040220</td>\n      <td>0.000</td>\n      <td>0.00000</td>\n      <td>0.037</td>\n      <td>0.05700</td>\n      <td>0.340</td>\n    </tr>\n    <tr>\n      <th>Mercury</th>\n      <td>431.0</td>\n      <td>0.000427</td>\n      <td>0.002567</td>\n      <td>0.000</td>\n      <td>0.00000</td>\n      <td>0.000</td>\n      <td>0.00000</td>\n      <td>0.042</td>\n    </tr>\n    <tr>\n      <th>Copper</th>\n      <td>431.0</td>\n      <td>7.972158</td>\n      <td>2.809016</td>\n      <td>0.000</td>\n      <td>6.60000</td>\n      <td>7.700</td>\n      <td>9.00000</td>\n      <td>37.000</td>\n    </tr>\n    <tr>\n      <th>Chromium</th>\n      <td>66.0</td>\n      <td>0.088727</td>\n      <td>0.144092</td>\n      <td>0.000</td>\n      <td>0.02725</td>\n      <td>0.044</td>\n      <td>0.11225</td>\n      <td>1.100</td>\n    </tr>\n    <tr>\n      <th>Zinc</th>\n      <td>431.0</td>\n      <td>38.679814</td>\n      <td>10.387808</td>\n      <td>15.000</td>\n      <td>32.00000</td>\n      <td>37.000</td>\n      <td>44.00000</td>\n      <td>108.000</td>\n    </tr>\n    <tr>\n      <th>Chrome</th>\n      <td>365.0</td>\n      <td>0.107748</td>\n      <td>0.091180</td>\n      <td>0.015</td>\n      <td>0.05100</td>\n      <td>0.081</td>\n      <td>0.12000</td>\n      <td>0.710</td>\n    </tr>\n  </tbody>\n</table>\n</div>"
     },
     "metadata": {},
     "execution_count": 6
    }
   ],
   "source": [
    "hm.describe().T"
   ]
  },
  {
   "cell_type": "code",
   "execution_count": 7,
   "metadata": {},
   "outputs": [
    {
     "output_type": "stream",
     "name": "stdout",
     "text": [
      "Shape of Heavy metal = (431, 10)\n"
     ]
    }
   ],
   "source": [
    "print(f'Shape of Heavy metal = {hm.shape}')"
   ]
  },
  {
   "cell_type": "code",
   "execution_count": 8,
   "metadata": {},
   "outputs": [
    {
     "output_type": "execute_result",
     "data": {
      "text/plain": [
       "REF....SUBSTANCE      0\n",
       "PERIOD                0\n",
       "Lead                  0\n",
       "Cadmium               0\n",
       "Arsenic               0\n",
       "Mercury               0\n",
       "Copper                0\n",
       "Chromium            365\n",
       "Zinc                  0\n",
       "Chrome               66\n",
       "dtype: int64"
      ]
     },
     "metadata": {},
     "execution_count": 8
    }
   ],
   "source": [
    "# null values\n",
    "hm.isna().sum()"
   ]
  },
  {
   "source": [
    "in 2020, chromium = chrome then we have to join the two columns"
   ],
   "cell_type": "markdown",
   "metadata": {}
  },
  {
   "cell_type": "code",
   "execution_count": 9,
   "metadata": {},
   "outputs": [],
   "source": [
    "# fill nan values of chrome with chromium values\n",
    "hm['Chrome'].fillna(hm['Chromium'], inplace=True)"
   ]
  },
  {
   "cell_type": "code",
   "execution_count": 10,
   "metadata": {},
   "outputs": [],
   "source": [
    "# drop chromium column\n",
    "hm.drop('Chromium', axis=1, inplace=True)"
   ]
  },
  {
   "cell_type": "code",
   "execution_count": 11,
   "metadata": {},
   "outputs": [
    {
     "output_type": "execute_result",
     "data": {
      "text/plain": [
       "REF....SUBSTANCE    0\n",
       "PERIOD              0\n",
       "Lead                0\n",
       "Cadmium             0\n",
       "Arsenic             0\n",
       "Mercury             0\n",
       "Copper              0\n",
       "Zinc                0\n",
       "Chrome              0\n",
       "dtype: int64"
      ]
     },
     "metadata": {},
     "execution_count": 11
    }
   ],
   "source": [
    "# null values\n",
    "hm.isna().sum()"
   ]
  },
  {
   "cell_type": "code",
   "execution_count": 12,
   "metadata": {},
   "outputs": [
    {
     "output_type": "stream",
     "name": "stdout",
     "text": [
      "Shape of Heavy metal = (431, 9)\n"
     ]
    }
   ],
   "source": [
    "print(f'Shape of Heavy metal = {hm.shape}')"
   ]
  },
  {
   "cell_type": "code",
   "execution_count": 13,
   "metadata": {},
   "outputs": [
    {
     "output_type": "execute_result",
     "data": {
      "text/plain": [
       "         count       mean        std     min      25%     50%     75%      max\n",
       "Lead     431.0   0.221285   0.322265   0.000   0.0625   0.130   0.245    3.000\n",
       "Cadmium  431.0   0.186947   0.221463   0.011   0.0600   0.110   0.220    2.100\n",
       "Arsenic  431.0   0.037369   0.040220   0.000   0.0000   0.037   0.057    0.340\n",
       "Mercury  431.0   0.000427   0.002567   0.000   0.0000   0.000   0.000    0.042\n",
       "Copper   431.0   7.972158   2.809016   0.000   6.6000   7.700   9.000   37.000\n",
       "Zinc     431.0  38.679814  10.387808  15.000  32.0000  37.000  44.000  108.000\n",
       "Chrome   431.0   0.104835   0.101110   0.000   0.0470   0.077   0.120    1.100"
      ],
      "text/html": "<div>\n<style scoped>\n    .dataframe tbody tr th:only-of-type {\n        vertical-align: middle;\n    }\n\n    .dataframe tbody tr th {\n        vertical-align: top;\n    }\n\n    .dataframe thead th {\n        text-align: right;\n    }\n</style>\n<table border=\"1\" class=\"dataframe\">\n  <thead>\n    <tr style=\"text-align: right;\">\n      <th></th>\n      <th>count</th>\n      <th>mean</th>\n      <th>std</th>\n      <th>min</th>\n      <th>25%</th>\n      <th>50%</th>\n      <th>75%</th>\n      <th>max</th>\n    </tr>\n  </thead>\n  <tbody>\n    <tr>\n      <th>Lead</th>\n      <td>431.0</td>\n      <td>0.221285</td>\n      <td>0.322265</td>\n      <td>0.000</td>\n      <td>0.0625</td>\n      <td>0.130</td>\n      <td>0.245</td>\n      <td>3.000</td>\n    </tr>\n    <tr>\n      <th>Cadmium</th>\n      <td>431.0</td>\n      <td>0.186947</td>\n      <td>0.221463</td>\n      <td>0.011</td>\n      <td>0.0600</td>\n      <td>0.110</td>\n      <td>0.220</td>\n      <td>2.100</td>\n    </tr>\n    <tr>\n      <th>Arsenic</th>\n      <td>431.0</td>\n      <td>0.037369</td>\n      <td>0.040220</td>\n      <td>0.000</td>\n      <td>0.0000</td>\n      <td>0.037</td>\n      <td>0.057</td>\n      <td>0.340</td>\n    </tr>\n    <tr>\n      <th>Mercury</th>\n      <td>431.0</td>\n      <td>0.000427</td>\n      <td>0.002567</td>\n      <td>0.000</td>\n      <td>0.0000</td>\n      <td>0.000</td>\n      <td>0.000</td>\n      <td>0.042</td>\n    </tr>\n    <tr>\n      <th>Copper</th>\n      <td>431.0</td>\n      <td>7.972158</td>\n      <td>2.809016</td>\n      <td>0.000</td>\n      <td>6.6000</td>\n      <td>7.700</td>\n      <td>9.000</td>\n      <td>37.000</td>\n    </tr>\n    <tr>\n      <th>Zinc</th>\n      <td>431.0</td>\n      <td>38.679814</td>\n      <td>10.387808</td>\n      <td>15.000</td>\n      <td>32.0000</td>\n      <td>37.000</td>\n      <td>44.000</td>\n      <td>108.000</td>\n    </tr>\n    <tr>\n      <th>Chrome</th>\n      <td>431.0</td>\n      <td>0.104835</td>\n      <td>0.101110</td>\n      <td>0.000</td>\n      <td>0.0470</td>\n      <td>0.077</td>\n      <td>0.120</td>\n      <td>1.100</td>\n    </tr>\n  </tbody>\n</table>\n</div>"
     },
     "metadata": {},
     "execution_count": 13
    }
   ],
   "source": [
    "hm.describe().T"
   ]
  },
  {
   "cell_type": "code",
   "execution_count": 14,
   "metadata": {},
   "outputs": [
    {
     "output_type": "execute_result",
     "data": {
      "text/plain": [
       "   REF....SUBSTANCE   PERIOD   Lead  Cadmium  Arsenic  Mercury  Copper  Zinc  \\\n",
       "7             B0103  2018/P4  1.000    0.350    0.180    0.006    12.0    55   \n",
       "29            F0027  2018/P2  0.049    0.011    0.000    0.000     7.7    37   \n",
       "2             B0021  2019/P1  0.097    0.890    0.000    0.000     4.8    37   \n",
       "20            F0020  2017/P1  0.076    0.024    0.000    0.000     9.4    31   \n",
       "2             B0019  2020/P1  0.150    0.680    0.000    0.000     7.6    46   \n",
       "15            F0001  2018/P3  0.075    0.030    0.047    0.000     8.3    35   \n",
       "7             B0067  2020/P4  0.320    0.620    0.047    0.000     6.1    29   \n",
       "24            F0020  2020/P1  0.130    0.031    0.000    0.000     9.1    30   \n",
       "6             B0096  2017/P3  0.120    0.130    0.000    0.000     7.1    33   \n",
       "17            B0140  2020/P1  0.520    0.110    0.062    0.000    12.0    45   \n",
       "\n",
       "    Chrome  \n",
       "7    0.200  \n",
       "29   0.040  \n",
       "2    0.047  \n",
       "20   0.048  \n",
       "2    0.071  \n",
       "15   0.054  \n",
       "7    0.140  \n",
       "24   0.072  \n",
       "6    0.043  \n",
       "17   0.170  "
      ],
      "text/html": "<div>\n<style scoped>\n    .dataframe tbody tr th:only-of-type {\n        vertical-align: middle;\n    }\n\n    .dataframe tbody tr th {\n        vertical-align: top;\n    }\n\n    .dataframe thead th {\n        text-align: right;\n    }\n</style>\n<table border=\"1\" class=\"dataframe\">\n  <thead>\n    <tr style=\"text-align: right;\">\n      <th></th>\n      <th>REF....SUBSTANCE</th>\n      <th>PERIOD</th>\n      <th>Lead</th>\n      <th>Cadmium</th>\n      <th>Arsenic</th>\n      <th>Mercury</th>\n      <th>Copper</th>\n      <th>Zinc</th>\n      <th>Chrome</th>\n    </tr>\n  </thead>\n  <tbody>\n    <tr>\n      <th>7</th>\n      <td>B0103</td>\n      <td>2018/P4</td>\n      <td>1.000</td>\n      <td>0.350</td>\n      <td>0.180</td>\n      <td>0.006</td>\n      <td>12.0</td>\n      <td>55</td>\n      <td>0.200</td>\n    </tr>\n    <tr>\n      <th>29</th>\n      <td>F0027</td>\n      <td>2018/P2</td>\n      <td>0.049</td>\n      <td>0.011</td>\n      <td>0.000</td>\n      <td>0.000</td>\n      <td>7.7</td>\n      <td>37</td>\n      <td>0.040</td>\n    </tr>\n    <tr>\n      <th>2</th>\n      <td>B0021</td>\n      <td>2019/P1</td>\n      <td>0.097</td>\n      <td>0.890</td>\n      <td>0.000</td>\n      <td>0.000</td>\n      <td>4.8</td>\n      <td>37</td>\n      <td>0.047</td>\n    </tr>\n    <tr>\n      <th>20</th>\n      <td>F0020</td>\n      <td>2017/P1</td>\n      <td>0.076</td>\n      <td>0.024</td>\n      <td>0.000</td>\n      <td>0.000</td>\n      <td>9.4</td>\n      <td>31</td>\n      <td>0.048</td>\n    </tr>\n    <tr>\n      <th>2</th>\n      <td>B0019</td>\n      <td>2020/P1</td>\n      <td>0.150</td>\n      <td>0.680</td>\n      <td>0.000</td>\n      <td>0.000</td>\n      <td>7.6</td>\n      <td>46</td>\n      <td>0.071</td>\n    </tr>\n    <tr>\n      <th>15</th>\n      <td>F0001</td>\n      <td>2018/P3</td>\n      <td>0.075</td>\n      <td>0.030</td>\n      <td>0.047</td>\n      <td>0.000</td>\n      <td>8.3</td>\n      <td>35</td>\n      <td>0.054</td>\n    </tr>\n    <tr>\n      <th>7</th>\n      <td>B0067</td>\n      <td>2020/P4</td>\n      <td>0.320</td>\n      <td>0.620</td>\n      <td>0.047</td>\n      <td>0.000</td>\n      <td>6.1</td>\n      <td>29</td>\n      <td>0.140</td>\n    </tr>\n    <tr>\n      <th>24</th>\n      <td>F0020</td>\n      <td>2020/P1</td>\n      <td>0.130</td>\n      <td>0.031</td>\n      <td>0.000</td>\n      <td>0.000</td>\n      <td>9.1</td>\n      <td>30</td>\n      <td>0.072</td>\n    </tr>\n    <tr>\n      <th>6</th>\n      <td>B0096</td>\n      <td>2017/P3</td>\n      <td>0.120</td>\n      <td>0.130</td>\n      <td>0.000</td>\n      <td>0.000</td>\n      <td>7.1</td>\n      <td>33</td>\n      <td>0.043</td>\n    </tr>\n    <tr>\n      <th>17</th>\n      <td>B0140</td>\n      <td>2020/P1</td>\n      <td>0.520</td>\n      <td>0.110</td>\n      <td>0.062</td>\n      <td>0.000</td>\n      <td>12.0</td>\n      <td>45</td>\n      <td>0.170</td>\n    </tr>\n  </tbody>\n</table>\n</div>"
     },
     "metadata": {},
     "execution_count": 14
    }
   ],
   "source": [
    "hm.sample(10)"
   ]
  },
  {
   "cell_type": "code",
   "execution_count": 15,
   "metadata": {},
   "outputs": [],
   "source": [
    "# heatmap to check correlation between columns\n",
    "# sns.heatmap(hm.corr(), cmap='coolwarm')"
   ]
  },
  {
   "cell_type": "code",
   "execution_count": 16,
   "metadata": {},
   "outputs": [],
   "source": [
    "# pairplot\n",
    "# sns.pairplot(hm.corr())"
   ]
  },
  {
   "source": [
    "we can see that the most correlate columns are Mercury, Arsenic and Lead.\n",
    "\n",
    "let's plot Lead  and Chrome and Lead and Arsenic"
   ],
   "cell_type": "markdown",
   "metadata": {}
  },
  {
   "cell_type": "code",
   "execution_count": 17,
   "metadata": {},
   "outputs": [],
   "source": [
    "# plt.figure(figsize=(10, 8))\n",
    "# sns.scatterplot(x='Lead', y='Chrome', data=hm)\n",
    "# plt.xlabel('Lead')\n",
    "# plt.ylabel('Chrome')\n",
    "# plt.legend()\n",
    "# plt.show()"
   ]
  },
  {
   "source": [
    "Lead and Chrome have a linear relation. but when Lead = 0, the relation is different (vertical line)"
   ],
   "cell_type": "markdown",
   "metadata": {}
  },
  {
   "cell_type": "code",
   "execution_count": 18,
   "metadata": {},
   "outputs": [],
   "source": [
    "# plt.figure(figsize=(10, 8))\n",
    "# sns.scatterplot(x='Lead', y='Arsenic', data=hm)\n",
    "# plt.xlabel('Lead')\n",
    "# plt.ylabel('Arsenic')\n",
    "# plt.legend()\n",
    "# plt.show()"
   ]
  },
  {
   "source": [
    "Similarly, we have a linear relation and when Arsenic=0, the relation change (horizontal line)"
   ],
   "cell_type": "markdown",
   "metadata": {}
  },
  {
   "cell_type": "code",
   "execution_count": 19,
   "metadata": {},
   "outputs": [
    {
     "output_type": "execute_result",
     "data": {
      "text/plain": [
       "   REF....SUBSTANCE   PERIOD   Lead  Cadmium  Arsenic  Mercury  Copper  Zinc  \\\n",
       "0             B0017  2017/P1  0.081    0.810    0.000      0.0     5.5    40   \n",
       "1             B0019  2017/P1  0.062    0.360    0.000      0.0     8.5    33   \n",
       "2             B0021  2017/P1  0.150    0.610    0.000      0.0     7.0    37   \n",
       "3             B0023  2017/P1  0.067    0.350    0.000      0.0     6.9    37   \n",
       "4             B0037  2017/P1  0.120    0.070    0.000      0.0     5.6    35   \n",
       "..              ...      ...    ...      ...      ...      ...     ...   ...   \n",
       "19            F0035  2020/P4  0.049    0.150    0.093      0.0     6.3    54   \n",
       "20            F0065  2020/P4  1.400    0.085    0.081      0.0    11.0    37   \n",
       "21            F0067  2020/P4  0.047    0.090    0.000      0.0     5.1    21   \n",
       "22            F0071  2020/P4  0.000    0.075    0.035      0.0     5.0    33   \n",
       "23            F0073  2020/P4  0.058    0.025    0.000      0.0     7.6    34   \n",
       "\n",
       "    Chrome  \n",
       "0    0.032  \n",
       "1    0.029  \n",
       "2    0.038  \n",
       "3    0.031  \n",
       "4    0.052  \n",
       "..     ...  \n",
       "19   0.087  \n",
       "20   0.340  \n",
       "21   0.049  \n",
       "22   0.056  \n",
       "23   0.064  \n",
       "\n",
       "[431 rows x 9 columns]"
      ],
      "text/html": "<div>\n<style scoped>\n    .dataframe tbody tr th:only-of-type {\n        vertical-align: middle;\n    }\n\n    .dataframe tbody tr th {\n        vertical-align: top;\n    }\n\n    .dataframe thead th {\n        text-align: right;\n    }\n</style>\n<table border=\"1\" class=\"dataframe\">\n  <thead>\n    <tr style=\"text-align: right;\">\n      <th></th>\n      <th>REF....SUBSTANCE</th>\n      <th>PERIOD</th>\n      <th>Lead</th>\n      <th>Cadmium</th>\n      <th>Arsenic</th>\n      <th>Mercury</th>\n      <th>Copper</th>\n      <th>Zinc</th>\n      <th>Chrome</th>\n    </tr>\n  </thead>\n  <tbody>\n    <tr>\n      <th>0</th>\n      <td>B0017</td>\n      <td>2017/P1</td>\n      <td>0.081</td>\n      <td>0.810</td>\n      <td>0.000</td>\n      <td>0.0</td>\n      <td>5.5</td>\n      <td>40</td>\n      <td>0.032</td>\n    </tr>\n    <tr>\n      <th>1</th>\n      <td>B0019</td>\n      <td>2017/P1</td>\n      <td>0.062</td>\n      <td>0.360</td>\n      <td>0.000</td>\n      <td>0.0</td>\n      <td>8.5</td>\n      <td>33</td>\n      <td>0.029</td>\n    </tr>\n    <tr>\n      <th>2</th>\n      <td>B0021</td>\n      <td>2017/P1</td>\n      <td>0.150</td>\n      <td>0.610</td>\n      <td>0.000</td>\n      <td>0.0</td>\n      <td>7.0</td>\n      <td>37</td>\n      <td>0.038</td>\n    </tr>\n    <tr>\n      <th>3</th>\n      <td>B0023</td>\n      <td>2017/P1</td>\n      <td>0.067</td>\n      <td>0.350</td>\n      <td>0.000</td>\n      <td>0.0</td>\n      <td>6.9</td>\n      <td>37</td>\n      <td>0.031</td>\n    </tr>\n    <tr>\n      <th>4</th>\n      <td>B0037</td>\n      <td>2017/P1</td>\n      <td>0.120</td>\n      <td>0.070</td>\n      <td>0.000</td>\n      <td>0.0</td>\n      <td>5.6</td>\n      <td>35</td>\n      <td>0.052</td>\n    </tr>\n    <tr>\n      <th>...</th>\n      <td>...</td>\n      <td>...</td>\n      <td>...</td>\n      <td>...</td>\n      <td>...</td>\n      <td>...</td>\n      <td>...</td>\n      <td>...</td>\n      <td>...</td>\n    </tr>\n    <tr>\n      <th>19</th>\n      <td>F0035</td>\n      <td>2020/P4</td>\n      <td>0.049</td>\n      <td>0.150</td>\n      <td>0.093</td>\n      <td>0.0</td>\n      <td>6.3</td>\n      <td>54</td>\n      <td>0.087</td>\n    </tr>\n    <tr>\n      <th>20</th>\n      <td>F0065</td>\n      <td>2020/P4</td>\n      <td>1.400</td>\n      <td>0.085</td>\n      <td>0.081</td>\n      <td>0.0</td>\n      <td>11.0</td>\n      <td>37</td>\n      <td>0.340</td>\n    </tr>\n    <tr>\n      <th>21</th>\n      <td>F0067</td>\n      <td>2020/P4</td>\n      <td>0.047</td>\n      <td>0.090</td>\n      <td>0.000</td>\n      <td>0.0</td>\n      <td>5.1</td>\n      <td>21</td>\n      <td>0.049</td>\n    </tr>\n    <tr>\n      <th>22</th>\n      <td>F0071</td>\n      <td>2020/P4</td>\n      <td>0.000</td>\n      <td>0.075</td>\n      <td>0.035</td>\n      <td>0.0</td>\n      <td>5.0</td>\n      <td>33</td>\n      <td>0.056</td>\n    </tr>\n    <tr>\n      <th>23</th>\n      <td>F0073</td>\n      <td>2020/P4</td>\n      <td>0.058</td>\n      <td>0.025</td>\n      <td>0.000</td>\n      <td>0.0</td>\n      <td>7.6</td>\n      <td>34</td>\n      <td>0.064</td>\n    </tr>\n  </tbody>\n</table>\n<p>431 rows × 9 columns</p>\n</div>"
     },
     "metadata": {},
     "execution_count": 19
    }
   ],
   "source": [
    "hm"
   ]
  },
  {
   "cell_type": "code",
   "execution_count": 20,
   "metadata": {},
   "outputs": [],
   "source": [
    "hm.rename(columns={\"REF....SUBSTANCE\" : 'Site'}, inplace=True)"
   ]
  },
  {
   "cell_type": "code",
   "execution_count": 21,
   "metadata": {},
   "outputs": [
    {
     "output_type": "execute_result",
     "data": {
      "text/plain": [
       "      Site   PERIOD   Lead  Cadmium  Arsenic  Mercury  Copper  Zinc  Chrome\n",
       "0    B0012  2020/P1  0.880    0.290    0.048      0.0    11.0    51   0.140\n",
       "0    B0012  2020/P2  0.650    0.230    0.000      0.0     8.7    48   0.110\n",
       "0    B0012  2020/P3  0.890    0.160    0.059      0.0     7.2    43   0.140\n",
       "0    B0012  2020/P4  0.630    0.640    0.053      0.0     9.1    40   0.160\n",
       "0    B0017  2017/P1  0.081    0.810    0.000      0.0     5.5    40   0.032\n",
       "..     ...      ...    ...      ...      ...      ...     ...   ...     ...\n",
       "31  FE0001  2018/P3  0.089    0.400    0.058      0.0     7.5    25   0.047\n",
       "34  FE0001  2018/P2  0.042    0.019    0.000      0.0     4.4    35   0.048\n",
       "41  FE0001  2020/P1  0.052    0.055    0.000      0.0     6.7    39   0.051\n",
       "16  FE0001  2017/P2  0.310    0.072    0.084      0.0     8.7    44   0.280\n",
       "18  FE0001  2019/P4  0.000    0.036    0.000      0.0     9.4    36   0.069\n",
       "\n",
       "[431 rows x 9 columns]"
      ],
      "text/html": "<div>\n<style scoped>\n    .dataframe tbody tr th:only-of-type {\n        vertical-align: middle;\n    }\n\n    .dataframe tbody tr th {\n        vertical-align: top;\n    }\n\n    .dataframe thead th {\n        text-align: right;\n    }\n</style>\n<table border=\"1\" class=\"dataframe\">\n  <thead>\n    <tr style=\"text-align: right;\">\n      <th></th>\n      <th>Site</th>\n      <th>PERIOD</th>\n      <th>Lead</th>\n      <th>Cadmium</th>\n      <th>Arsenic</th>\n      <th>Mercury</th>\n      <th>Copper</th>\n      <th>Zinc</th>\n      <th>Chrome</th>\n    </tr>\n  </thead>\n  <tbody>\n    <tr>\n      <th>0</th>\n      <td>B0012</td>\n      <td>2020/P1</td>\n      <td>0.880</td>\n      <td>0.290</td>\n      <td>0.048</td>\n      <td>0.0</td>\n      <td>11.0</td>\n      <td>51</td>\n      <td>0.140</td>\n    </tr>\n    <tr>\n      <th>0</th>\n      <td>B0012</td>\n      <td>2020/P2</td>\n      <td>0.650</td>\n      <td>0.230</td>\n      <td>0.000</td>\n      <td>0.0</td>\n      <td>8.7</td>\n      <td>48</td>\n      <td>0.110</td>\n    </tr>\n    <tr>\n      <th>0</th>\n      <td>B0012</td>\n      <td>2020/P3</td>\n      <td>0.890</td>\n      <td>0.160</td>\n      <td>0.059</td>\n      <td>0.0</td>\n      <td>7.2</td>\n      <td>43</td>\n      <td>0.140</td>\n    </tr>\n    <tr>\n      <th>0</th>\n      <td>B0012</td>\n      <td>2020/P4</td>\n      <td>0.630</td>\n      <td>0.640</td>\n      <td>0.053</td>\n      <td>0.0</td>\n      <td>9.1</td>\n      <td>40</td>\n      <td>0.160</td>\n    </tr>\n    <tr>\n      <th>0</th>\n      <td>B0017</td>\n      <td>2017/P1</td>\n      <td>0.081</td>\n      <td>0.810</td>\n      <td>0.000</td>\n      <td>0.0</td>\n      <td>5.5</td>\n      <td>40</td>\n      <td>0.032</td>\n    </tr>\n    <tr>\n      <th>...</th>\n      <td>...</td>\n      <td>...</td>\n      <td>...</td>\n      <td>...</td>\n      <td>...</td>\n      <td>...</td>\n      <td>...</td>\n      <td>...</td>\n      <td>...</td>\n    </tr>\n    <tr>\n      <th>31</th>\n      <td>FE0001</td>\n      <td>2018/P3</td>\n      <td>0.089</td>\n      <td>0.400</td>\n      <td>0.058</td>\n      <td>0.0</td>\n      <td>7.5</td>\n      <td>25</td>\n      <td>0.047</td>\n    </tr>\n    <tr>\n      <th>34</th>\n      <td>FE0001</td>\n      <td>2018/P2</td>\n      <td>0.042</td>\n      <td>0.019</td>\n      <td>0.000</td>\n      <td>0.0</td>\n      <td>4.4</td>\n      <td>35</td>\n      <td>0.048</td>\n    </tr>\n    <tr>\n      <th>41</th>\n      <td>FE0001</td>\n      <td>2020/P1</td>\n      <td>0.052</td>\n      <td>0.055</td>\n      <td>0.000</td>\n      <td>0.0</td>\n      <td>6.7</td>\n      <td>39</td>\n      <td>0.051</td>\n    </tr>\n    <tr>\n      <th>16</th>\n      <td>FE0001</td>\n      <td>2017/P2</td>\n      <td>0.310</td>\n      <td>0.072</td>\n      <td>0.084</td>\n      <td>0.0</td>\n      <td>8.7</td>\n      <td>44</td>\n      <td>0.280</td>\n    </tr>\n    <tr>\n      <th>18</th>\n      <td>FE0001</td>\n      <td>2019/P4</td>\n      <td>0.000</td>\n      <td>0.036</td>\n      <td>0.000</td>\n      <td>0.0</td>\n      <td>9.4</td>\n      <td>36</td>\n      <td>0.069</td>\n    </tr>\n  </tbody>\n</table>\n<p>431 rows × 9 columns</p>\n</div>"
     },
     "metadata": {},
     "execution_count": 21
    }
   ],
   "source": [
    "hm = hm.sort_values(by='Site')\n",
    "hm"
   ]
  },
  {
   "cell_type": "code",
   "execution_count": 22,
   "metadata": {},
   "outputs": [],
   "source": [
    "hm = hm.groupby(['Site'], as_index=False).mean()"
   ]
  },
  {
   "cell_type": "code",
   "execution_count": 23,
   "metadata": {},
   "outputs": [],
   "source": [
    "# adding columns for MLR tresholds\n",
    "hm['mlr_Lead'] = np.where(hm['Lead'] > 1.5, 1, 0)\n",
    "hm['mlr_Cadmium'] = np.where(hm['Cadmium'] > 1, 1, 0)\n",
    "hm['mlr_Arsenic'] = np.where(hm['Arsenic'] > 0.3, 1, 0)\n",
    "hm['mlr_Mercury'] = np.where(hm['Mercury'] > 1, 1, 0)\n",
    "hm['mlr_Copper'] = np.where(hm['Copper'] > 30, 1, 0)\n",
    "hm['mlr_Zinc'] = np.where(hm['Zinc'] > 0, 1, 0)\n",
    "hm['mlr_Chrome'] = np.where(hm['Chrome'] > 0, 1, 0)"
   ]
  },
  {
   "cell_type": "code",
   "execution_count": 24,
   "metadata": {},
   "outputs": [
    {
     "output_type": "execute_result",
     "data": {
      "text/plain": [
       "    Site      Lead   Cadmium   Arsenic   Mercury    Copper       Zinc  \\\n",
       "0  B0012  0.762500  0.330000  0.040000  0.000000  9.000000  45.500000   \n",
       "1  B0017  0.090000  0.334923  0.012769  0.000000  7.084615  35.615385   \n",
       "2  B0019  0.137571  0.397643  0.033143  0.000357  7.142857  38.071429   \n",
       "3  B0021  0.152929  0.498571  0.026429  0.000000  8.300000  37.857143   \n",
       "4  B0023  0.116571  0.432857  0.013357  0.000000  8.078571  37.928571   \n",
       "5  B0032  0.154917  0.199083  0.021917  0.000000  6.983333  37.333333   \n",
       "6  B0037  0.153000  0.076667  0.033000  0.000000  7.375000  39.666667   \n",
       "7  B0039  0.183750  0.072417  0.044833  0.000000  7.250000  38.833333   \n",
       "8  B0041  0.201417  0.073167  0.061000  0.000000  7.675000  38.083333   \n",
       "9  B0043  0.205917  0.091417  0.064417  0.000500  7.266667  36.083333   \n",
       "\n",
       "     Chrome  mlr_Lead  mlr_Cadmium  mlr_Arsenic  mlr_Mercury  mlr_Copper  \\\n",
       "0  0.137500         0            0            0            0           0   \n",
       "1  0.039692         0            0            0            0           0   \n",
       "2  0.066714         0            0            0            0           0   \n",
       "3  0.062929         0            0            0            0           0   \n",
       "4  0.065143         0            0            0            0           0   \n",
       "5  0.096333         0            0            0            0           0   \n",
       "6  0.094167         0            0            0            0           0   \n",
       "7  0.085500         0            0            0            0           0   \n",
       "8  0.160167         0            0            0            0           0   \n",
       "9  0.098833         0            0            0            0           0   \n",
       "\n",
       "   mlr_Zinc  mlr_Chrome  \n",
       "0         1           1  \n",
       "1         1           1  \n",
       "2         1           1  \n",
       "3         1           1  \n",
       "4         1           1  \n",
       "5         1           1  \n",
       "6         1           1  \n",
       "7         1           1  \n",
       "8         1           1  \n",
       "9         1           1  "
      ],
      "text/html": "<div>\n<style scoped>\n    .dataframe tbody tr th:only-of-type {\n        vertical-align: middle;\n    }\n\n    .dataframe tbody tr th {\n        vertical-align: top;\n    }\n\n    .dataframe thead th {\n        text-align: right;\n    }\n</style>\n<table border=\"1\" class=\"dataframe\">\n  <thead>\n    <tr style=\"text-align: right;\">\n      <th></th>\n      <th>Site</th>\n      <th>Lead</th>\n      <th>Cadmium</th>\n      <th>Arsenic</th>\n      <th>Mercury</th>\n      <th>Copper</th>\n      <th>Zinc</th>\n      <th>Chrome</th>\n      <th>mlr_Lead</th>\n      <th>mlr_Cadmium</th>\n      <th>mlr_Arsenic</th>\n      <th>mlr_Mercury</th>\n      <th>mlr_Copper</th>\n      <th>mlr_Zinc</th>\n      <th>mlr_Chrome</th>\n    </tr>\n  </thead>\n  <tbody>\n    <tr>\n      <th>0</th>\n      <td>B0012</td>\n      <td>0.762500</td>\n      <td>0.330000</td>\n      <td>0.040000</td>\n      <td>0.000000</td>\n      <td>9.000000</td>\n      <td>45.500000</td>\n      <td>0.137500</td>\n      <td>0</td>\n      <td>0</td>\n      <td>0</td>\n      <td>0</td>\n      <td>0</td>\n      <td>1</td>\n      <td>1</td>\n    </tr>\n    <tr>\n      <th>1</th>\n      <td>B0017</td>\n      <td>0.090000</td>\n      <td>0.334923</td>\n      <td>0.012769</td>\n      <td>0.000000</td>\n      <td>7.084615</td>\n      <td>35.615385</td>\n      <td>0.039692</td>\n      <td>0</td>\n      <td>0</td>\n      <td>0</td>\n      <td>0</td>\n      <td>0</td>\n      <td>1</td>\n      <td>1</td>\n    </tr>\n    <tr>\n      <th>2</th>\n      <td>B0019</td>\n      <td>0.137571</td>\n      <td>0.397643</td>\n      <td>0.033143</td>\n      <td>0.000357</td>\n      <td>7.142857</td>\n      <td>38.071429</td>\n      <td>0.066714</td>\n      <td>0</td>\n      <td>0</td>\n      <td>0</td>\n      <td>0</td>\n      <td>0</td>\n      <td>1</td>\n      <td>1</td>\n    </tr>\n    <tr>\n      <th>3</th>\n      <td>B0021</td>\n      <td>0.152929</td>\n      <td>0.498571</td>\n      <td>0.026429</td>\n      <td>0.000000</td>\n      <td>8.300000</td>\n      <td>37.857143</td>\n      <td>0.062929</td>\n      <td>0</td>\n      <td>0</td>\n      <td>0</td>\n      <td>0</td>\n      <td>0</td>\n      <td>1</td>\n      <td>1</td>\n    </tr>\n    <tr>\n      <th>4</th>\n      <td>B0023</td>\n      <td>0.116571</td>\n      <td>0.432857</td>\n      <td>0.013357</td>\n      <td>0.000000</td>\n      <td>8.078571</td>\n      <td>37.928571</td>\n      <td>0.065143</td>\n      <td>0</td>\n      <td>0</td>\n      <td>0</td>\n      <td>0</td>\n      <td>0</td>\n      <td>1</td>\n      <td>1</td>\n    </tr>\n    <tr>\n      <th>5</th>\n      <td>B0032</td>\n      <td>0.154917</td>\n      <td>0.199083</td>\n      <td>0.021917</td>\n      <td>0.000000</td>\n      <td>6.983333</td>\n      <td>37.333333</td>\n      <td>0.096333</td>\n      <td>0</td>\n      <td>0</td>\n      <td>0</td>\n      <td>0</td>\n      <td>0</td>\n      <td>1</td>\n      <td>1</td>\n    </tr>\n    <tr>\n      <th>6</th>\n      <td>B0037</td>\n      <td>0.153000</td>\n      <td>0.076667</td>\n      <td>0.033000</td>\n      <td>0.000000</td>\n      <td>7.375000</td>\n      <td>39.666667</td>\n      <td>0.094167</td>\n      <td>0</td>\n      <td>0</td>\n      <td>0</td>\n      <td>0</td>\n      <td>0</td>\n      <td>1</td>\n      <td>1</td>\n    </tr>\n    <tr>\n      <th>7</th>\n      <td>B0039</td>\n      <td>0.183750</td>\n      <td>0.072417</td>\n      <td>0.044833</td>\n      <td>0.000000</td>\n      <td>7.250000</td>\n      <td>38.833333</td>\n      <td>0.085500</td>\n      <td>0</td>\n      <td>0</td>\n      <td>0</td>\n      <td>0</td>\n      <td>0</td>\n      <td>1</td>\n      <td>1</td>\n    </tr>\n    <tr>\n      <th>8</th>\n      <td>B0041</td>\n      <td>0.201417</td>\n      <td>0.073167</td>\n      <td>0.061000</td>\n      <td>0.000000</td>\n      <td>7.675000</td>\n      <td>38.083333</td>\n      <td>0.160167</td>\n      <td>0</td>\n      <td>0</td>\n      <td>0</td>\n      <td>0</td>\n      <td>0</td>\n      <td>1</td>\n      <td>1</td>\n    </tr>\n    <tr>\n      <th>9</th>\n      <td>B0043</td>\n      <td>0.205917</td>\n      <td>0.091417</td>\n      <td>0.064417</td>\n      <td>0.000500</td>\n      <td>7.266667</td>\n      <td>36.083333</td>\n      <td>0.098833</td>\n      <td>0</td>\n      <td>0</td>\n      <td>0</td>\n      <td>0</td>\n      <td>0</td>\n      <td>1</td>\n      <td>1</td>\n    </tr>\n  </tbody>\n</table>\n</div>"
     },
     "metadata": {},
     "execution_count": 24
    }
   ],
   "source": [
    "hm.head(10)"
   ]
  },
  {
   "cell_type": "code",
   "execution_count": 34,
   "metadata": {},
   "outputs": [],
   "source": [
    "hm_T = hm.pivot_table(columns='Site')"
   ]
  },
  {
   "cell_type": "code",
   "execution_count": 35,
   "metadata": {},
   "outputs": [
    {
     "output_type": "execute_result",
     "data": {
      "text/plain": [
       "Site           B0012      B0017      B0019      B0021      B0023      B0032  \\\n",
       "Arsenic       0.0400   0.012769   0.033143   0.026429   0.013357   0.021917   \n",
       "Cadmium       0.3300   0.334923   0.397643   0.498571   0.432857   0.199083   \n",
       "Chrome        0.1375   0.039692   0.066714   0.062929   0.065143   0.096333   \n",
       "Copper        9.0000   7.084615   7.142857   8.300000   8.078571   6.983333   \n",
       "Lead          0.7625   0.090000   0.137571   0.152929   0.116571   0.154917   \n",
       "Mercury       0.0000   0.000000   0.000357   0.000000   0.000000   0.000000   \n",
       "Zinc         45.5000  35.615385  38.071429  37.857143  37.928571  37.333333   \n",
       "mlr_Arsenic   0.0000   0.000000   0.000000   0.000000   0.000000   0.000000   \n",
       "mlr_Cadmium   0.0000   0.000000   0.000000   0.000000   0.000000   0.000000   \n",
       "mlr_Chrome    1.0000   1.000000   1.000000   1.000000   1.000000   1.000000   \n",
       "mlr_Copper    0.0000   0.000000   0.000000   0.000000   0.000000   0.000000   \n",
       "mlr_Lead      0.0000   0.000000   0.000000   0.000000   0.000000   0.000000   \n",
       "mlr_Mercury   0.0000   0.000000   0.000000   0.000000   0.000000   0.000000   \n",
       "mlr_Zinc      1.0000   1.000000   1.000000   1.000000   1.000000   1.000000   \n",
       "\n",
       "Site             B0037      B0039      B0041      B0043  ...      F0055  \\\n",
       "Arsenic       0.033000   0.044833   0.061000   0.064417  ...   0.014000   \n",
       "Cadmium       0.076667   0.072417   0.073167   0.091417  ...   0.064667   \n",
       "Chrome        0.094167   0.085500   0.160167   0.098833  ...   0.083333   \n",
       "Copper        7.375000   7.250000   7.675000   7.266667  ...   9.300000   \n",
       "Lead          0.153000   0.183750   0.201417   0.205917  ...   0.230000   \n",
       "Mercury       0.000000   0.000000   0.000000   0.000500  ...   0.000000   \n",
       "Zinc         39.666667  38.833333  38.083333  36.083333  ...  37.000000   \n",
       "mlr_Arsenic   0.000000   0.000000   0.000000   0.000000  ...   0.000000   \n",
       "mlr_Cadmium   0.000000   0.000000   0.000000   0.000000  ...   0.000000   \n",
       "mlr_Chrome    1.000000   1.000000   1.000000   1.000000  ...   1.000000   \n",
       "mlr_Copper    0.000000   0.000000   0.000000   0.000000  ...   0.000000   \n",
       "mlr_Lead      0.000000   0.000000   0.000000   0.000000  ...   0.000000   \n",
       "mlr_Mercury   0.000000   0.000000   0.000000   0.000000  ...   0.000000   \n",
       "mlr_Zinc      1.000000   1.000000   1.000000   1.000000  ...   1.000000   \n",
       "\n",
       "Site             F0057      F0061      F0063      F0065     F0067    F0069  \\\n",
       "Arsenic       0.036667   0.013000   0.029667   0.065000   0.00000   0.0530   \n",
       "Cadmium       0.055000   0.166667   0.121333   0.070333   0.08425   0.0795   \n",
       "Chrome        0.148333   0.087000   0.148333   0.323333   0.04725   0.0690   \n",
       "Copper       10.900000   7.300000   8.533333  19.666667   6.12500   9.0000   \n",
       "Lead          0.137333   0.125667   0.254667   1.013333   0.04000   0.1040   \n",
       "Mercury       0.000000   0.000000   0.000000   0.000000   0.00000   0.0000   \n",
       "Zinc         32.333333  33.666667  35.000000  41.000000  32.25000  34.0000   \n",
       "mlr_Arsenic   0.000000   0.000000   0.000000   0.000000   0.00000   0.0000   \n",
       "mlr_Cadmium   0.000000   0.000000   0.000000   0.000000   0.00000   0.0000   \n",
       "mlr_Chrome    1.000000   1.000000   1.000000   1.000000   1.00000   1.0000   \n",
       "mlr_Copper    0.000000   0.000000   0.000000   0.000000   0.00000   0.0000   \n",
       "mlr_Lead      0.000000   0.000000   0.000000   0.000000   0.00000   0.0000   \n",
       "mlr_Mercury   0.000000   0.000000   0.000000   0.000000   0.00000   0.0000   \n",
       "mlr_Zinc      1.000000   1.000000   1.000000   1.000000   1.00000   1.0000   \n",
       "\n",
       "Site            F0071     F0073     FE0001  \n",
       "Arsenic       0.01625   0.01150   0.015833  \n",
       "Cadmium       0.05800   0.03650   0.070500  \n",
       "Chrome        0.04250   0.05300   0.097167  \n",
       "Copper        5.62500  11.37500   7.458333  \n",
       "Lead          0.01025   0.05275   0.096333  \n",
       "Mercury       0.00000   0.00000   0.000000  \n",
       "Zinc         34.75000  37.25000  36.000000  \n",
       "mlr_Arsenic   0.00000   0.00000   0.000000  \n",
       "mlr_Cadmium   0.00000   0.00000   0.000000  \n",
       "mlr_Chrome    1.00000   1.00000   1.000000  \n",
       "mlr_Copper    0.00000   0.00000   0.000000  \n",
       "mlr_Lead      0.00000   0.00000   0.000000  \n",
       "mlr_Mercury   0.00000   0.00000   0.000000  \n",
       "mlr_Zinc      1.00000   1.00000   1.000000  \n",
       "\n",
       "[14 rows x 60 columns]"
      ],
      "text/html": "<div>\n<style scoped>\n    .dataframe tbody tr th:only-of-type {\n        vertical-align: middle;\n    }\n\n    .dataframe tbody tr th {\n        vertical-align: top;\n    }\n\n    .dataframe thead th {\n        text-align: right;\n    }\n</style>\n<table border=\"1\" class=\"dataframe\">\n  <thead>\n    <tr style=\"text-align: right;\">\n      <th>Site</th>\n      <th>B0012</th>\n      <th>B0017</th>\n      <th>B0019</th>\n      <th>B0021</th>\n      <th>B0023</th>\n      <th>B0032</th>\n      <th>B0037</th>\n      <th>B0039</th>\n      <th>B0041</th>\n      <th>B0043</th>\n      <th>...</th>\n      <th>F0055</th>\n      <th>F0057</th>\n      <th>F0061</th>\n      <th>F0063</th>\n      <th>F0065</th>\n      <th>F0067</th>\n      <th>F0069</th>\n      <th>F0071</th>\n      <th>F0073</th>\n      <th>FE0001</th>\n    </tr>\n  </thead>\n  <tbody>\n    <tr>\n      <th>Arsenic</th>\n      <td>0.0400</td>\n      <td>0.012769</td>\n      <td>0.033143</td>\n      <td>0.026429</td>\n      <td>0.013357</td>\n      <td>0.021917</td>\n      <td>0.033000</td>\n      <td>0.044833</td>\n      <td>0.061000</td>\n      <td>0.064417</td>\n      <td>...</td>\n      <td>0.014000</td>\n      <td>0.036667</td>\n      <td>0.013000</td>\n      <td>0.029667</td>\n      <td>0.065000</td>\n      <td>0.00000</td>\n      <td>0.0530</td>\n      <td>0.01625</td>\n      <td>0.01150</td>\n      <td>0.015833</td>\n    </tr>\n    <tr>\n      <th>Cadmium</th>\n      <td>0.3300</td>\n      <td>0.334923</td>\n      <td>0.397643</td>\n      <td>0.498571</td>\n      <td>0.432857</td>\n      <td>0.199083</td>\n      <td>0.076667</td>\n      <td>0.072417</td>\n      <td>0.073167</td>\n      <td>0.091417</td>\n      <td>...</td>\n      <td>0.064667</td>\n      <td>0.055000</td>\n      <td>0.166667</td>\n      <td>0.121333</td>\n      <td>0.070333</td>\n      <td>0.08425</td>\n      <td>0.0795</td>\n      <td>0.05800</td>\n      <td>0.03650</td>\n      <td>0.070500</td>\n    </tr>\n    <tr>\n      <th>Chrome</th>\n      <td>0.1375</td>\n      <td>0.039692</td>\n      <td>0.066714</td>\n      <td>0.062929</td>\n      <td>0.065143</td>\n      <td>0.096333</td>\n      <td>0.094167</td>\n      <td>0.085500</td>\n      <td>0.160167</td>\n      <td>0.098833</td>\n      <td>...</td>\n      <td>0.083333</td>\n      <td>0.148333</td>\n      <td>0.087000</td>\n      <td>0.148333</td>\n      <td>0.323333</td>\n      <td>0.04725</td>\n      <td>0.0690</td>\n      <td>0.04250</td>\n      <td>0.05300</td>\n      <td>0.097167</td>\n    </tr>\n    <tr>\n      <th>Copper</th>\n      <td>9.0000</td>\n      <td>7.084615</td>\n      <td>7.142857</td>\n      <td>8.300000</td>\n      <td>8.078571</td>\n      <td>6.983333</td>\n      <td>7.375000</td>\n      <td>7.250000</td>\n      <td>7.675000</td>\n      <td>7.266667</td>\n      <td>...</td>\n      <td>9.300000</td>\n      <td>10.900000</td>\n      <td>7.300000</td>\n      <td>8.533333</td>\n      <td>19.666667</td>\n      <td>6.12500</td>\n      <td>9.0000</td>\n      <td>5.62500</td>\n      <td>11.37500</td>\n      <td>7.458333</td>\n    </tr>\n    <tr>\n      <th>Lead</th>\n      <td>0.7625</td>\n      <td>0.090000</td>\n      <td>0.137571</td>\n      <td>0.152929</td>\n      <td>0.116571</td>\n      <td>0.154917</td>\n      <td>0.153000</td>\n      <td>0.183750</td>\n      <td>0.201417</td>\n      <td>0.205917</td>\n      <td>...</td>\n      <td>0.230000</td>\n      <td>0.137333</td>\n      <td>0.125667</td>\n      <td>0.254667</td>\n      <td>1.013333</td>\n      <td>0.04000</td>\n      <td>0.1040</td>\n      <td>0.01025</td>\n      <td>0.05275</td>\n      <td>0.096333</td>\n    </tr>\n    <tr>\n      <th>Mercury</th>\n      <td>0.0000</td>\n      <td>0.000000</td>\n      <td>0.000357</td>\n      <td>0.000000</td>\n      <td>0.000000</td>\n      <td>0.000000</td>\n      <td>0.000000</td>\n      <td>0.000000</td>\n      <td>0.000000</td>\n      <td>0.000500</td>\n      <td>...</td>\n      <td>0.000000</td>\n      <td>0.000000</td>\n      <td>0.000000</td>\n      <td>0.000000</td>\n      <td>0.000000</td>\n      <td>0.00000</td>\n      <td>0.0000</td>\n      <td>0.00000</td>\n      <td>0.00000</td>\n      <td>0.000000</td>\n    </tr>\n    <tr>\n      <th>Zinc</th>\n      <td>45.5000</td>\n      <td>35.615385</td>\n      <td>38.071429</td>\n      <td>37.857143</td>\n      <td>37.928571</td>\n      <td>37.333333</td>\n      <td>39.666667</td>\n      <td>38.833333</td>\n      <td>38.083333</td>\n      <td>36.083333</td>\n      <td>...</td>\n      <td>37.000000</td>\n      <td>32.333333</td>\n      <td>33.666667</td>\n      <td>35.000000</td>\n      <td>41.000000</td>\n      <td>32.25000</td>\n      <td>34.0000</td>\n      <td>34.75000</td>\n      <td>37.25000</td>\n      <td>36.000000</td>\n    </tr>\n    <tr>\n      <th>mlr_Arsenic</th>\n      <td>0.0000</td>\n      <td>0.000000</td>\n      <td>0.000000</td>\n      <td>0.000000</td>\n      <td>0.000000</td>\n      <td>0.000000</td>\n      <td>0.000000</td>\n      <td>0.000000</td>\n      <td>0.000000</td>\n      <td>0.000000</td>\n      <td>...</td>\n      <td>0.000000</td>\n      <td>0.000000</td>\n      <td>0.000000</td>\n      <td>0.000000</td>\n      <td>0.000000</td>\n      <td>0.00000</td>\n      <td>0.0000</td>\n      <td>0.00000</td>\n      <td>0.00000</td>\n      <td>0.000000</td>\n    </tr>\n    <tr>\n      <th>mlr_Cadmium</th>\n      <td>0.0000</td>\n      <td>0.000000</td>\n      <td>0.000000</td>\n      <td>0.000000</td>\n      <td>0.000000</td>\n      <td>0.000000</td>\n      <td>0.000000</td>\n      <td>0.000000</td>\n      <td>0.000000</td>\n      <td>0.000000</td>\n      <td>...</td>\n      <td>0.000000</td>\n      <td>0.000000</td>\n      <td>0.000000</td>\n      <td>0.000000</td>\n      <td>0.000000</td>\n      <td>0.00000</td>\n      <td>0.0000</td>\n      <td>0.00000</td>\n      <td>0.00000</td>\n      <td>0.000000</td>\n    </tr>\n    <tr>\n      <th>mlr_Chrome</th>\n      <td>1.0000</td>\n      <td>1.000000</td>\n      <td>1.000000</td>\n      <td>1.000000</td>\n      <td>1.000000</td>\n      <td>1.000000</td>\n      <td>1.000000</td>\n      <td>1.000000</td>\n      <td>1.000000</td>\n      <td>1.000000</td>\n      <td>...</td>\n      <td>1.000000</td>\n      <td>1.000000</td>\n      <td>1.000000</td>\n      <td>1.000000</td>\n      <td>1.000000</td>\n      <td>1.00000</td>\n      <td>1.0000</td>\n      <td>1.00000</td>\n      <td>1.00000</td>\n      <td>1.000000</td>\n    </tr>\n    <tr>\n      <th>mlr_Copper</th>\n      <td>0.0000</td>\n      <td>0.000000</td>\n      <td>0.000000</td>\n      <td>0.000000</td>\n      <td>0.000000</td>\n      <td>0.000000</td>\n      <td>0.000000</td>\n      <td>0.000000</td>\n      <td>0.000000</td>\n      <td>0.000000</td>\n      <td>...</td>\n      <td>0.000000</td>\n      <td>0.000000</td>\n      <td>0.000000</td>\n      <td>0.000000</td>\n      <td>0.000000</td>\n      <td>0.00000</td>\n      <td>0.0000</td>\n      <td>0.00000</td>\n      <td>0.00000</td>\n      <td>0.000000</td>\n    </tr>\n    <tr>\n      <th>mlr_Lead</th>\n      <td>0.0000</td>\n      <td>0.000000</td>\n      <td>0.000000</td>\n      <td>0.000000</td>\n      <td>0.000000</td>\n      <td>0.000000</td>\n      <td>0.000000</td>\n      <td>0.000000</td>\n      <td>0.000000</td>\n      <td>0.000000</td>\n      <td>...</td>\n      <td>0.000000</td>\n      <td>0.000000</td>\n      <td>0.000000</td>\n      <td>0.000000</td>\n      <td>0.000000</td>\n      <td>0.00000</td>\n      <td>0.0000</td>\n      <td>0.00000</td>\n      <td>0.00000</td>\n      <td>0.000000</td>\n    </tr>\n    <tr>\n      <th>mlr_Mercury</th>\n      <td>0.0000</td>\n      <td>0.000000</td>\n      <td>0.000000</td>\n      <td>0.000000</td>\n      <td>0.000000</td>\n      <td>0.000000</td>\n      <td>0.000000</td>\n      <td>0.000000</td>\n      <td>0.000000</td>\n      <td>0.000000</td>\n      <td>...</td>\n      <td>0.000000</td>\n      <td>0.000000</td>\n      <td>0.000000</td>\n      <td>0.000000</td>\n      <td>0.000000</td>\n      <td>0.00000</td>\n      <td>0.0000</td>\n      <td>0.00000</td>\n      <td>0.00000</td>\n      <td>0.000000</td>\n    </tr>\n    <tr>\n      <th>mlr_Zinc</th>\n      <td>1.0000</td>\n      <td>1.000000</td>\n      <td>1.000000</td>\n      <td>1.000000</td>\n      <td>1.000000</td>\n      <td>1.000000</td>\n      <td>1.000000</td>\n      <td>1.000000</td>\n      <td>1.000000</td>\n      <td>1.000000</td>\n      <td>...</td>\n      <td>1.000000</td>\n      <td>1.000000</td>\n      <td>1.000000</td>\n      <td>1.000000</td>\n      <td>1.000000</td>\n      <td>1.00000</td>\n      <td>1.0000</td>\n      <td>1.00000</td>\n      <td>1.00000</td>\n      <td>1.000000</td>\n    </tr>\n  </tbody>\n</table>\n<p>14 rows × 60 columns</p>\n</div>"
     },
     "metadata": {},
     "execution_count": 35
    }
   ],
   "source": [
    "hm_T"
   ]
  },
  {
   "cell_type": "code",
   "execution_count": 31,
   "metadata": {},
   "outputs": [
    {
     "output_type": "execute_result",
     "data": {
      "text/plain": [
       "      Site  clc_1  clc_2  clc_3  clc_4  clc_5\n",
       "115  B0012   85.4    4.1    3.6    0.0    6.9\n",
       "406  B0017   24.9   22.6   52.5    0.0    0.0\n",
       "421  B0019    0.0    0.0   94.6    5.4    0.0\n",
       "417  B0021    0.0    3.8   82.9   13.3    0.0\n",
       "394  B0023    2.8   12.9   58.7   25.6    0.0"
      ],
      "text/html": "<div>\n<style scoped>\n    .dataframe tbody tr th:only-of-type {\n        vertical-align: middle;\n    }\n\n    .dataframe tbody tr th {\n        vertical-align: top;\n    }\n\n    .dataframe thead th {\n        text-align: right;\n    }\n</style>\n<table border=\"1\" class=\"dataframe\">\n  <thead>\n    <tr style=\"text-align: right;\">\n      <th></th>\n      <th>Site</th>\n      <th>clc_1</th>\n      <th>clc_2</th>\n      <th>clc_3</th>\n      <th>clc_4</th>\n      <th>clc_5</th>\n    </tr>\n  </thead>\n  <tbody>\n    <tr>\n      <th>115</th>\n      <td>B0012</td>\n      <td>85.4</td>\n      <td>4.1</td>\n      <td>3.6</td>\n      <td>0.0</td>\n      <td>6.9</td>\n    </tr>\n    <tr>\n      <th>406</th>\n      <td>B0017</td>\n      <td>24.9</td>\n      <td>22.6</td>\n      <td>52.5</td>\n      <td>0.0</td>\n      <td>0.0</td>\n    </tr>\n    <tr>\n      <th>421</th>\n      <td>B0019</td>\n      <td>0.0</td>\n      <td>0.0</td>\n      <td>94.6</td>\n      <td>5.4</td>\n      <td>0.0</td>\n    </tr>\n    <tr>\n      <th>417</th>\n      <td>B0021</td>\n      <td>0.0</td>\n      <td>3.8</td>\n      <td>82.9</td>\n      <td>13.3</td>\n      <td>0.0</td>\n    </tr>\n    <tr>\n      <th>394</th>\n      <td>B0023</td>\n      <td>2.8</td>\n      <td>12.9</td>\n      <td>58.7</td>\n      <td>25.6</td>\n      <td>0.0</td>\n    </tr>\n  </tbody>\n</table>\n</div>"
     },
     "metadata": {},
     "execution_count": 31
    }
   ],
   "source": [
    "surf_hm = pd.read_csv('data/surf_hm.csv', index_col=0)\n",
    "surf_hm.head()"
   ]
  },
  {
   "cell_type": "code",
   "execution_count": 36,
   "metadata": {},
   "outputs": [
    {
     "output_type": "execute_result",
     "data": {
      "text/plain": [
       "(60, 6)"
      ]
     },
     "metadata": {},
     "execution_count": 36
    }
   ],
   "source": [
    "surf_hm.shape"
   ]
  },
  {
   "cell_type": "code",
   "execution_count": 39,
   "metadata": {},
   "outputs": [
    {
     "output_type": "execute_result",
     "data": {
      "text/plain": [
       "                    clc_1         clc_2         clc_3        clc_4  \\\n",
       "Arsenic         92.227329     82.193379     47.475387     1.412348   \n",
       "Cadmium        326.417135    430.890222    299.109648    20.688248   \n",
       "Chrome         296.647919    215.757346    103.343573     4.433923   \n",
       "Copper       17015.156050  18722.363668  12752.681583   432.358690   \n",
       "Lead           864.097604    372.354853    154.509878     8.957606   \n",
       "Mercury          1.361387      0.316811      0.335271     0.007879   \n",
       "Zinc         77403.897763  89072.015279  61523.134857  2082.065476   \n",
       "mlr_Arsenic      0.000000      0.000000      0.000000     0.000000   \n",
       "mlr_Cadmium      0.000000      0.000000      0.000000     0.000000   \n",
       "mlr_Chrome    1858.600000   2406.200000   1615.400000    54.200000   \n",
       "mlr_Copper       0.000000      0.000000      0.000000     0.000000   \n",
       "mlr_Lead       184.800000      0.000000      2.600000     0.700000   \n",
       "mlr_Mercury      0.000000      0.000000      0.000000     0.000000   \n",
       "mlr_Zinc      1858.600000   2406.200000   1615.400000    54.200000   \n",
       "\n",
       "                   clc_5  \n",
       "Arsenic         3.508591  \n",
       "Cadmium        10.287016  \n",
       "Chrome         11.549301  \n",
       "Copper        479.527333  \n",
       "Lead           35.993100  \n",
       "Mercury         0.106681  \n",
       "Zinc         2770.481190  \n",
       "mlr_Arsenic     0.000000  \n",
       "mlr_Cadmium     0.000000  \n",
       "mlr_Chrome     65.700000  \n",
       "mlr_Copper      0.000000  \n",
       "mlr_Lead       11.900000  \n",
       "mlr_Mercury     0.000000  \n",
       "mlr_Zinc       65.700000  "
      ],
      "text/html": "<div>\n<style scoped>\n    .dataframe tbody tr th:only-of-type {\n        vertical-align: middle;\n    }\n\n    .dataframe tbody tr th {\n        vertical-align: top;\n    }\n\n    .dataframe thead th {\n        text-align: right;\n    }\n</style>\n<table border=\"1\" class=\"dataframe\">\n  <thead>\n    <tr style=\"text-align: right;\">\n      <th></th>\n      <th>clc_1</th>\n      <th>clc_2</th>\n      <th>clc_3</th>\n      <th>clc_4</th>\n      <th>clc_5</th>\n    </tr>\n  </thead>\n  <tbody>\n    <tr>\n      <th>Arsenic</th>\n      <td>92.227329</td>\n      <td>82.193379</td>\n      <td>47.475387</td>\n      <td>1.412348</td>\n      <td>3.508591</td>\n    </tr>\n    <tr>\n      <th>Cadmium</th>\n      <td>326.417135</td>\n      <td>430.890222</td>\n      <td>299.109648</td>\n      <td>20.688248</td>\n      <td>10.287016</td>\n    </tr>\n    <tr>\n      <th>Chrome</th>\n      <td>296.647919</td>\n      <td>215.757346</td>\n      <td>103.343573</td>\n      <td>4.433923</td>\n      <td>11.549301</td>\n    </tr>\n    <tr>\n      <th>Copper</th>\n      <td>17015.156050</td>\n      <td>18722.363668</td>\n      <td>12752.681583</td>\n      <td>432.358690</td>\n      <td>479.527333</td>\n    </tr>\n    <tr>\n      <th>Lead</th>\n      <td>864.097604</td>\n      <td>372.354853</td>\n      <td>154.509878</td>\n      <td>8.957606</td>\n      <td>35.993100</td>\n    </tr>\n    <tr>\n      <th>Mercury</th>\n      <td>1.361387</td>\n      <td>0.316811</td>\n      <td>0.335271</td>\n      <td>0.007879</td>\n      <td>0.106681</td>\n    </tr>\n    <tr>\n      <th>Zinc</th>\n      <td>77403.897763</td>\n      <td>89072.015279</td>\n      <td>61523.134857</td>\n      <td>2082.065476</td>\n      <td>2770.481190</td>\n    </tr>\n    <tr>\n      <th>mlr_Arsenic</th>\n      <td>0.000000</td>\n      <td>0.000000</td>\n      <td>0.000000</td>\n      <td>0.000000</td>\n      <td>0.000000</td>\n    </tr>\n    <tr>\n      <th>mlr_Cadmium</th>\n      <td>0.000000</td>\n      <td>0.000000</td>\n      <td>0.000000</td>\n      <td>0.000000</td>\n      <td>0.000000</td>\n    </tr>\n    <tr>\n      <th>mlr_Chrome</th>\n      <td>1858.600000</td>\n      <td>2406.200000</td>\n      <td>1615.400000</td>\n      <td>54.200000</td>\n      <td>65.700000</td>\n    </tr>\n    <tr>\n      <th>mlr_Copper</th>\n      <td>0.000000</td>\n      <td>0.000000</td>\n      <td>0.000000</td>\n      <td>0.000000</td>\n      <td>0.000000</td>\n    </tr>\n    <tr>\n      <th>mlr_Lead</th>\n      <td>184.800000</td>\n      <td>0.000000</td>\n      <td>2.600000</td>\n      <td>0.700000</td>\n      <td>11.900000</td>\n    </tr>\n    <tr>\n      <th>mlr_Mercury</th>\n      <td>0.000000</td>\n      <td>0.000000</td>\n      <td>0.000000</td>\n      <td>0.000000</td>\n      <td>0.000000</td>\n    </tr>\n    <tr>\n      <th>mlr_Zinc</th>\n      <td>1858.600000</td>\n      <td>2406.200000</td>\n      <td>1615.400000</td>\n      <td>54.200000</td>\n      <td>65.700000</td>\n    </tr>\n  </tbody>\n</table>\n</div>"
     },
     "metadata": {},
     "execution_count": 39
    }
   ],
   "source": [
    "hm_T.dot(surf_hm.set_index('Site'))"
   ]
  },
  {
   "cell_type": "code",
   "execution_count": null,
   "metadata": {},
   "outputs": [],
   "source": []
  }
 ]
}