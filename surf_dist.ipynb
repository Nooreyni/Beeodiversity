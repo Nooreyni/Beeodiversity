{
 "metadata": {
  "language_info": {
   "codemirror_mode": {
    "name": "ipython",
    "version": 3
   },
   "file_extension": ".py",
   "mimetype": "text/x-python",
   "name": "python",
   "nbconvert_exporter": "python",
   "pygments_lexer": "ipython3",
   "version": "3.8.5-final"
  },
  "orig_nbformat": 2,
  "kernelspec": {
   "name": "python38564bit5f2391659b0b4e51a5ae522873c52736",
   "display_name": "Python 3.8.5 64-bit",
   "language": "python"
  }
 },
 "nbformat": 4,
 "nbformat_minor": 2,
 "cells": [
  {
   "cell_type": "code",
   "execution_count": 1,
   "metadata": {},
   "outputs": [],
   "source": [
    "import pandas as pd\n",
    "import numpy as np\n",
    "import seaborn as sns\n",
    "import matplotlib.pyplot as plt"
   ]
  },
  {
   "cell_type": "code",
   "execution_count": 2,
   "metadata": {},
   "outputs": [],
   "source": [
    "# import datasets\n",
    "\n",
    "surf = pd.read_excel('data/absSurfs.xlsx')\n",
    "dist = pd.read_excel('data/distsOneSheet.xlsx')"
   ]
  },
  {
   "cell_type": "code",
   "execution_count": 3,
   "metadata": {},
   "outputs": [
    {
     "output_type": "execute_result",
     "data": {
      "text/plain": [
       "    Site  111           112           121            122  123  124  131  132  \\\n",
       "0  F0069  0.0  1.064122e+06  3.587087e+05       0.000000  0.0  0.0  0.0    0   \n",
       "1  F0025  0.0  0.000000e+00  0.000000e+00  412752.692383  0.0  0.0  0.0    0   \n",
       "2  F0027  0.0  2.741746e+05  0.000000e+00       0.000000  0.0  0.0  0.0    0   \n",
       "3  B0128  0.0  2.470089e+06  4.053755e+06  497496.251770  0.0  0.0  0.0    0   \n",
       "4  F0023  0.0  0.000000e+00  2.559254e+05       0.000000  0.0  0.0  0.0    0   \n",
       "\n",
       "   133  ...  411  412  421  422  423  511            512  521  522  523  \n",
       "0  0.0  ...    0  0.0    0    0  0.0  0.0       0.000000    0    0  0.0  \n",
       "1  0.0  ...    0  0.0    0    0  0.0  0.0       0.000000    0    0  0.0  \n",
       "2  0.0  ...    0  0.0    0    0  0.0  0.0       0.000000    0    0  0.0  \n",
       "3  0.0  ...    0  0.0    0    0  0.0  0.0       0.000000    0    0  0.0  \n",
       "4  0.0  ...    0  0.0    0    0  0.0  0.0  284728.392578    0    0  0.0  \n",
       "\n",
       "[5 rows x 45 columns]"
      ],
      "text/html": "<div>\n<style scoped>\n    .dataframe tbody tr th:only-of-type {\n        vertical-align: middle;\n    }\n\n    .dataframe tbody tr th {\n        vertical-align: top;\n    }\n\n    .dataframe thead th {\n        text-align: right;\n    }\n</style>\n<table border=\"1\" class=\"dataframe\">\n  <thead>\n    <tr style=\"text-align: right;\">\n      <th></th>\n      <th>Site</th>\n      <th>111</th>\n      <th>112</th>\n      <th>121</th>\n      <th>122</th>\n      <th>123</th>\n      <th>124</th>\n      <th>131</th>\n      <th>132</th>\n      <th>133</th>\n      <th>...</th>\n      <th>411</th>\n      <th>412</th>\n      <th>421</th>\n      <th>422</th>\n      <th>423</th>\n      <th>511</th>\n      <th>512</th>\n      <th>521</th>\n      <th>522</th>\n      <th>523</th>\n    </tr>\n  </thead>\n  <tbody>\n    <tr>\n      <th>0</th>\n      <td>F0069</td>\n      <td>0.0</td>\n      <td>1.064122e+06</td>\n      <td>3.587087e+05</td>\n      <td>0.000000</td>\n      <td>0.0</td>\n      <td>0.0</td>\n      <td>0.0</td>\n      <td>0</td>\n      <td>0.0</td>\n      <td>...</td>\n      <td>0</td>\n      <td>0.0</td>\n      <td>0</td>\n      <td>0</td>\n      <td>0.0</td>\n      <td>0.0</td>\n      <td>0.000000</td>\n      <td>0</td>\n      <td>0</td>\n      <td>0.0</td>\n    </tr>\n    <tr>\n      <th>1</th>\n      <td>F0025</td>\n      <td>0.0</td>\n      <td>0.000000e+00</td>\n      <td>0.000000e+00</td>\n      <td>412752.692383</td>\n      <td>0.0</td>\n      <td>0.0</td>\n      <td>0.0</td>\n      <td>0</td>\n      <td>0.0</td>\n      <td>...</td>\n      <td>0</td>\n      <td>0.0</td>\n      <td>0</td>\n      <td>0</td>\n      <td>0.0</td>\n      <td>0.0</td>\n      <td>0.000000</td>\n      <td>0</td>\n      <td>0</td>\n      <td>0.0</td>\n    </tr>\n    <tr>\n      <th>2</th>\n      <td>F0027</td>\n      <td>0.0</td>\n      <td>2.741746e+05</td>\n      <td>0.000000e+00</td>\n      <td>0.000000</td>\n      <td>0.0</td>\n      <td>0.0</td>\n      <td>0.0</td>\n      <td>0</td>\n      <td>0.0</td>\n      <td>...</td>\n      <td>0</td>\n      <td>0.0</td>\n      <td>0</td>\n      <td>0</td>\n      <td>0.0</td>\n      <td>0.0</td>\n      <td>0.000000</td>\n      <td>0</td>\n      <td>0</td>\n      <td>0.0</td>\n    </tr>\n    <tr>\n      <th>3</th>\n      <td>B0128</td>\n      <td>0.0</td>\n      <td>2.470089e+06</td>\n      <td>4.053755e+06</td>\n      <td>497496.251770</td>\n      <td>0.0</td>\n      <td>0.0</td>\n      <td>0.0</td>\n      <td>0</td>\n      <td>0.0</td>\n      <td>...</td>\n      <td>0</td>\n      <td>0.0</td>\n      <td>0</td>\n      <td>0</td>\n      <td>0.0</td>\n      <td>0.0</td>\n      <td>0.000000</td>\n      <td>0</td>\n      <td>0</td>\n      <td>0.0</td>\n    </tr>\n    <tr>\n      <th>4</th>\n      <td>F0023</td>\n      <td>0.0</td>\n      <td>0.000000e+00</td>\n      <td>2.559254e+05</td>\n      <td>0.000000</td>\n      <td>0.0</td>\n      <td>0.0</td>\n      <td>0.0</td>\n      <td>0</td>\n      <td>0.0</td>\n      <td>...</td>\n      <td>0</td>\n      <td>0.0</td>\n      <td>0</td>\n      <td>0</td>\n      <td>0.0</td>\n      <td>0.0</td>\n      <td>284728.392578</td>\n      <td>0</td>\n      <td>0</td>\n      <td>0.0</td>\n    </tr>\n  </tbody>\n</table>\n<p>5 rows × 45 columns</p>\n</div>"
     },
     "metadata": {},
     "execution_count": 3
    }
   ],
   "source": [
    "surf.head()"
   ]
  },
  {
   "cell_type": "code",
   "execution_count": 4,
   "metadata": {},
   "outputs": [
    {
     "output_type": "execute_result",
     "data": {
      "text/plain": [
       "      Site            111           112           121          122  123  124  \\\n",
       "12   B0012  213419.497009  3.756405e+06  2.068585e+06     0.000000  0.0  0.0   \n",
       "39   B0017       0.000000  1.755395e+06  3.380723e+03     0.000000  0.0  0.0   \n",
       "41   B0019       0.000000  0.000000e+00  0.000000e+00     0.000000  0.0  0.0   \n",
       "40   B0021       0.000000  0.000000e+00  0.000000e+00     0.000000  0.0  0.0   \n",
       "38   B0023       0.000000  0.000000e+00  0.000000e+00     0.000000  0.0  0.0   \n",
       "..     ...            ...           ...           ...          ...  ...  ...   \n",
       "0    F0069       0.000000  1.064122e+06  3.587087e+05     0.000000  0.0  0.0   \n",
       "5    F0071       0.000000  0.000000e+00  2.891049e+05     0.000000  0.0  0.0   \n",
       "6    F0073       0.000000  0.000000e+00  0.000000e+00     0.000000  0.0  0.0   \n",
       "17   F0075       0.000000  1.687705e+06  4.422800e+05  3378.383301  0.0  0.0   \n",
       "51  FE0001       0.000000  4.066819e+05  0.000000e+00     0.000000  0.0  0.0   \n",
       "\n",
       "             131  132  133  ...  411           412  421  422  423  \\\n",
       "12      0.000000    0  0.0  ...    0  0.000000e+00    0    0  0.0   \n",
       "39      0.000000    0  0.0  ...    0  0.000000e+00    0    0  0.0   \n",
       "41      0.000000    0  0.0  ...    0  3.786370e+05    0    0  0.0   \n",
       "40      0.000000    0  0.0  ...    0  9.421463e+05    0    0  0.0   \n",
       "38      0.000000    0  0.0  ...    0  1.809062e+06    0    0  0.0   \n",
       "..           ...  ...  ...  ...  ...           ...  ...  ...  ...   \n",
       "0       0.000000    0  0.0  ...    0  0.000000e+00    0    0  0.0   \n",
       "5   61128.361328    0  0.0  ...    0  0.000000e+00    0    0  0.0   \n",
       "6       0.000000    0  0.0  ...    0  0.000000e+00    0    0  0.0   \n",
       "17      0.000000    0  0.0  ...    0  0.000000e+00    0    0  0.0   \n",
       "51      0.000000    0  0.0  ...    0  0.000000e+00    0    0  0.0   \n",
       "\n",
       "              511            512  521  522  523  \n",
       "12  486328.326111       0.000000    0    0  0.0  \n",
       "39       0.000000       0.000000    0    0  0.0  \n",
       "41       0.000000       0.000000    0    0  0.0  \n",
       "40       0.000000       0.000000    0    0  0.0  \n",
       "38       0.000000       0.000000    0    0  0.0  \n",
       "..            ...            ...  ...  ...  ...  \n",
       "0        0.000000       0.000000    0    0  0.0  \n",
       "5        0.000000  643979.018311    0    0  0.0  \n",
       "6        0.000000       0.000000    0    0  0.0  \n",
       "17       0.000000       0.000000    0    0  0.0  \n",
       "51       0.000000       0.000000    0    0  0.0  \n",
       "\n",
       "[63 rows x 45 columns]"
      ],
      "text/html": "<div>\n<style scoped>\n    .dataframe tbody tr th:only-of-type {\n        vertical-align: middle;\n    }\n\n    .dataframe tbody tr th {\n        vertical-align: top;\n    }\n\n    .dataframe thead th {\n        text-align: right;\n    }\n</style>\n<table border=\"1\" class=\"dataframe\">\n  <thead>\n    <tr style=\"text-align: right;\">\n      <th></th>\n      <th>Site</th>\n      <th>111</th>\n      <th>112</th>\n      <th>121</th>\n      <th>122</th>\n      <th>123</th>\n      <th>124</th>\n      <th>131</th>\n      <th>132</th>\n      <th>133</th>\n      <th>...</th>\n      <th>411</th>\n      <th>412</th>\n      <th>421</th>\n      <th>422</th>\n      <th>423</th>\n      <th>511</th>\n      <th>512</th>\n      <th>521</th>\n      <th>522</th>\n      <th>523</th>\n    </tr>\n  </thead>\n  <tbody>\n    <tr>\n      <th>12</th>\n      <td>B0012</td>\n      <td>213419.497009</td>\n      <td>3.756405e+06</td>\n      <td>2.068585e+06</td>\n      <td>0.000000</td>\n      <td>0.0</td>\n      <td>0.0</td>\n      <td>0.000000</td>\n      <td>0</td>\n      <td>0.0</td>\n      <td>...</td>\n      <td>0</td>\n      <td>0.000000e+00</td>\n      <td>0</td>\n      <td>0</td>\n      <td>0.0</td>\n      <td>486328.326111</td>\n      <td>0.000000</td>\n      <td>0</td>\n      <td>0</td>\n      <td>0.0</td>\n    </tr>\n    <tr>\n      <th>39</th>\n      <td>B0017</td>\n      <td>0.000000</td>\n      <td>1.755395e+06</td>\n      <td>3.380723e+03</td>\n      <td>0.000000</td>\n      <td>0.0</td>\n      <td>0.0</td>\n      <td>0.000000</td>\n      <td>0</td>\n      <td>0.0</td>\n      <td>...</td>\n      <td>0</td>\n      <td>0.000000e+00</td>\n      <td>0</td>\n      <td>0</td>\n      <td>0.0</td>\n      <td>0.000000</td>\n      <td>0.000000</td>\n      <td>0</td>\n      <td>0</td>\n      <td>0.0</td>\n    </tr>\n    <tr>\n      <th>41</th>\n      <td>B0019</td>\n      <td>0.000000</td>\n      <td>0.000000e+00</td>\n      <td>0.000000e+00</td>\n      <td>0.000000</td>\n      <td>0.0</td>\n      <td>0.0</td>\n      <td>0.000000</td>\n      <td>0</td>\n      <td>0.0</td>\n      <td>...</td>\n      <td>0</td>\n      <td>3.786370e+05</td>\n      <td>0</td>\n      <td>0</td>\n      <td>0.0</td>\n      <td>0.000000</td>\n      <td>0.000000</td>\n      <td>0</td>\n      <td>0</td>\n      <td>0.0</td>\n    </tr>\n    <tr>\n      <th>40</th>\n      <td>B0021</td>\n      <td>0.000000</td>\n      <td>0.000000e+00</td>\n      <td>0.000000e+00</td>\n      <td>0.000000</td>\n      <td>0.0</td>\n      <td>0.0</td>\n      <td>0.000000</td>\n      <td>0</td>\n      <td>0.0</td>\n      <td>...</td>\n      <td>0</td>\n      <td>9.421463e+05</td>\n      <td>0</td>\n      <td>0</td>\n      <td>0.0</td>\n      <td>0.000000</td>\n      <td>0.000000</td>\n      <td>0</td>\n      <td>0</td>\n      <td>0.0</td>\n    </tr>\n    <tr>\n      <th>38</th>\n      <td>B0023</td>\n      <td>0.000000</td>\n      <td>0.000000e+00</td>\n      <td>0.000000e+00</td>\n      <td>0.000000</td>\n      <td>0.0</td>\n      <td>0.0</td>\n      <td>0.000000</td>\n      <td>0</td>\n      <td>0.0</td>\n      <td>...</td>\n      <td>0</td>\n      <td>1.809062e+06</td>\n      <td>0</td>\n      <td>0</td>\n      <td>0.0</td>\n      <td>0.000000</td>\n      <td>0.000000</td>\n      <td>0</td>\n      <td>0</td>\n      <td>0.0</td>\n    </tr>\n    <tr>\n      <th>...</th>\n      <td>...</td>\n      <td>...</td>\n      <td>...</td>\n      <td>...</td>\n      <td>...</td>\n      <td>...</td>\n      <td>...</td>\n      <td>...</td>\n      <td>...</td>\n      <td>...</td>\n      <td>...</td>\n      <td>...</td>\n      <td>...</td>\n      <td>...</td>\n      <td>...</td>\n      <td>...</td>\n      <td>...</td>\n      <td>...</td>\n      <td>...</td>\n      <td>...</td>\n      <td>...</td>\n    </tr>\n    <tr>\n      <th>0</th>\n      <td>F0069</td>\n      <td>0.000000</td>\n      <td>1.064122e+06</td>\n      <td>3.587087e+05</td>\n      <td>0.000000</td>\n      <td>0.0</td>\n      <td>0.0</td>\n      <td>0.000000</td>\n      <td>0</td>\n      <td>0.0</td>\n      <td>...</td>\n      <td>0</td>\n      <td>0.000000e+00</td>\n      <td>0</td>\n      <td>0</td>\n      <td>0.0</td>\n      <td>0.000000</td>\n      <td>0.000000</td>\n      <td>0</td>\n      <td>0</td>\n      <td>0.0</td>\n    </tr>\n    <tr>\n      <th>5</th>\n      <td>F0071</td>\n      <td>0.000000</td>\n      <td>0.000000e+00</td>\n      <td>2.891049e+05</td>\n      <td>0.000000</td>\n      <td>0.0</td>\n      <td>0.0</td>\n      <td>61128.361328</td>\n      <td>0</td>\n      <td>0.0</td>\n      <td>...</td>\n      <td>0</td>\n      <td>0.000000e+00</td>\n      <td>0</td>\n      <td>0</td>\n      <td>0.0</td>\n      <td>0.000000</td>\n      <td>643979.018311</td>\n      <td>0</td>\n      <td>0</td>\n      <td>0.0</td>\n    </tr>\n    <tr>\n      <th>6</th>\n      <td>F0073</td>\n      <td>0.000000</td>\n      <td>0.000000e+00</td>\n      <td>0.000000e+00</td>\n      <td>0.000000</td>\n      <td>0.0</td>\n      <td>0.0</td>\n      <td>0.000000</td>\n      <td>0</td>\n      <td>0.0</td>\n      <td>...</td>\n      <td>0</td>\n      <td>0.000000e+00</td>\n      <td>0</td>\n      <td>0</td>\n      <td>0.0</td>\n      <td>0.000000</td>\n      <td>0.000000</td>\n      <td>0</td>\n      <td>0</td>\n      <td>0.0</td>\n    </tr>\n    <tr>\n      <th>17</th>\n      <td>F0075</td>\n      <td>0.000000</td>\n      <td>1.687705e+06</td>\n      <td>4.422800e+05</td>\n      <td>3378.383301</td>\n      <td>0.0</td>\n      <td>0.0</td>\n      <td>0.000000</td>\n      <td>0</td>\n      <td>0.0</td>\n      <td>...</td>\n      <td>0</td>\n      <td>0.000000e+00</td>\n      <td>0</td>\n      <td>0</td>\n      <td>0.0</td>\n      <td>0.000000</td>\n      <td>0.000000</td>\n      <td>0</td>\n      <td>0</td>\n      <td>0.0</td>\n    </tr>\n    <tr>\n      <th>51</th>\n      <td>FE0001</td>\n      <td>0.000000</td>\n      <td>4.066819e+05</td>\n      <td>0.000000e+00</td>\n      <td>0.000000</td>\n      <td>0.0</td>\n      <td>0.0</td>\n      <td>0.000000</td>\n      <td>0</td>\n      <td>0.0</td>\n      <td>...</td>\n      <td>0</td>\n      <td>0.000000e+00</td>\n      <td>0</td>\n      <td>0</td>\n      <td>0.0</td>\n      <td>0.000000</td>\n      <td>0.000000</td>\n      <td>0</td>\n      <td>0</td>\n      <td>0.0</td>\n    </tr>\n  </tbody>\n</table>\n<p>63 rows × 45 columns</p>\n</div>"
     },
     "metadata": {},
     "execution_count": 4
    }
   ],
   "source": [
    "surf.sort_values(by='Site')"
   ]
  },
  {
   "cell_type": "code",
   "execution_count": 5,
   "metadata": {},
   "outputs": [
    {
     "output_type": "execute_result",
     "data": {
      "text/plain": [
       "(63, 45)"
      ]
     },
     "metadata": {},
     "execution_count": 5
    }
   ],
   "source": [
    "surf.shape"
   ]
  },
  {
   "cell_type": "code",
   "execution_count": 6,
   "metadata": {},
   "outputs": [
    {
     "output_type": "execute_result",
     "data": {
      "text/plain": [
       "Index(['Site', '111', '112', '121', '122', '123', '124', '131', '132', '133',\n",
       "       '141', '142', '211', '212', '213', '221', '222', '223', '231', '241',\n",
       "       '242', '243', '244', '311', '312', '313', '321', '322', '323', '324',\n",
       "       '331', '332', '333', '334', '335', '411', '412', '421', '422', '423',\n",
       "       '511', '512', '521', '522', '523'],\n",
       "      dtype='object')"
      ]
     },
     "metadata": {},
     "execution_count": 6
    }
   ],
   "source": [
    "surf.columns"
   ]
  },
  {
   "cell_type": "code",
   "execution_count": 7,
   "metadata": {},
   "outputs": [],
   "source": [
    "surf['clc_1'] = surf['111'] + surf['112'] + surf['121'] + surf['122'] + surf['123'] + surf['124'] + surf['131'] + surf['132'] + surf['133'] + surf['141'] + surf['142']\n",
    "\n",
    "surf['clc_2'] = surf['211'] + surf['212'] + surf['213'] + surf['221'] + surf['222'] + surf['223'] + surf['231'] + surf['241'] + surf['242'] + surf['243'] + surf['244']\n",
    "\n",
    "surf['clc_3'] = surf['311'] + surf['312'] + surf['313'] + surf['321'] + surf['322'] + surf['323'] + surf['324'] + surf['331'] + surf['332'] + surf['333'] + surf['334'] + surf['335']\n",
    "\n",
    "surf['clc_4'] = surf['411'] + surf['412'] + surf['421'] + surf['422'] + surf['423']\n",
    "\n",
    "surf['clc_5'] = surf['511'] + surf['512'] + surf['521'] + surf['522'] + surf['523']"
   ]
  },
  {
   "cell_type": "code",
   "execution_count": 8,
   "metadata": {},
   "outputs": [
    {
     "output_type": "execute_result",
     "data": {
      "text/plain": [
       "     Site  111           112           121            122  123  124  131  132  \\\n",
       "0   F0069  0.0  1.064122e+06  3.587087e+05       0.000000  0.0  0.0  0.0    0   \n",
       "1   F0025  0.0  0.000000e+00  0.000000e+00  412752.692383  0.0  0.0  0.0    0   \n",
       "2   F0027  0.0  2.741746e+05  0.000000e+00       0.000000  0.0  0.0  0.0    0   \n",
       "3   B0128  0.0  2.470089e+06  4.053755e+06  497496.251770  0.0  0.0  0.0    0   \n",
       "4   F0023  0.0  0.000000e+00  2.559254e+05       0.000000  0.0  0.0  0.0    0   \n",
       "..    ...  ...           ...           ...            ...  ...  ...  ...  ...   \n",
       "58  F0007  0.0  0.000000e+00  0.000000e+00       0.000000  0.0  0.0  0.0    0   \n",
       "59  B0069  0.0  8.704243e+05  0.000000e+00       0.000000  0.0  0.0  0.0    0   \n",
       "60  B0152  0.0  4.575279e+06  5.726391e+05  201434.000214  0.0  0.0  0.0    0   \n",
       "61  F0003  0.0  3.425116e+05  0.000000e+00       0.000000  0.0  0.0  0.0    0   \n",
       "62  B0158  0.0  1.467398e+05  0.000000e+00  318178.187439  0.0  0.0  0.0    0   \n",
       "\n",
       "    133  ...  511            512  521  522  523         clc_1         clc_2  \\\n",
       "0   0.0  ...  0.0       0.000000    0    0  0.0  1.613627e+06  5.199955e+06   \n",
       "1   0.0  ...  0.0       0.000000    0    0  0.0  4.127527e+05  1.638610e+06   \n",
       "2   0.0  ...  0.0       0.000000    0    0  0.0  2.741746e+05  3.581890e+06   \n",
       "3   0.0  ...  0.0       0.000000    0    0  0.0  7.021340e+06  4.724307e+04   \n",
       "4   0.0  ...  0.0  284728.392578    0    0  0.0  2.559254e+05  3.566308e+06   \n",
       "..  ...  ...  ...            ...  ...  ...  ...           ...           ...   \n",
       "58  0.0  ...  0.0       0.000000    0    0  0.0  0.000000e+00  3.801293e+06   \n",
       "59  0.0  ...  0.0       0.000000    0    0  0.0  1.148526e+06  5.681678e+06   \n",
       "60  0.0  ...  0.0       0.000000    0    0  0.0  5.349352e+06  1.377615e+06   \n",
       "61  0.0  ...  0.0       0.000000    0    0  0.0  3.425116e+05  6.462237e+05   \n",
       "62  0.0  ...  0.0       0.000000    0    0  0.0  4.649180e+05  6.603665e+06   \n",
       "\n",
       "           clc_3  clc_4          clc_5  \n",
       "0   2.550014e+05    0.0       0.000000  \n",
       "1   5.017221e+06    0.0       0.000000  \n",
       "2   3.212519e+06    0.0       0.000000  \n",
       "3   0.000000e+00    0.0       0.000000  \n",
       "4   2.961621e+06    0.0  284728.392578  \n",
       "..           ...    ...            ...  \n",
       "58  3.267290e+06    0.0       0.000000  \n",
       "59  2.383795e+05    0.0       0.000000  \n",
       "60  3.416169e+05    0.0       0.000000  \n",
       "61  6.079848e+06    0.0       0.000000  \n",
       "62  0.000000e+00    0.0       0.000000  \n",
       "\n",
       "[63 rows x 50 columns]"
      ],
      "text/html": "<div>\n<style scoped>\n    .dataframe tbody tr th:only-of-type {\n        vertical-align: middle;\n    }\n\n    .dataframe tbody tr th {\n        vertical-align: top;\n    }\n\n    .dataframe thead th {\n        text-align: right;\n    }\n</style>\n<table border=\"1\" class=\"dataframe\">\n  <thead>\n    <tr style=\"text-align: right;\">\n      <th></th>\n      <th>Site</th>\n      <th>111</th>\n      <th>112</th>\n      <th>121</th>\n      <th>122</th>\n      <th>123</th>\n      <th>124</th>\n      <th>131</th>\n      <th>132</th>\n      <th>133</th>\n      <th>...</th>\n      <th>511</th>\n      <th>512</th>\n      <th>521</th>\n      <th>522</th>\n      <th>523</th>\n      <th>clc_1</th>\n      <th>clc_2</th>\n      <th>clc_3</th>\n      <th>clc_4</th>\n      <th>clc_5</th>\n    </tr>\n  </thead>\n  <tbody>\n    <tr>\n      <th>0</th>\n      <td>F0069</td>\n      <td>0.0</td>\n      <td>1.064122e+06</td>\n      <td>3.587087e+05</td>\n      <td>0.000000</td>\n      <td>0.0</td>\n      <td>0.0</td>\n      <td>0.0</td>\n      <td>0</td>\n      <td>0.0</td>\n      <td>...</td>\n      <td>0.0</td>\n      <td>0.000000</td>\n      <td>0</td>\n      <td>0</td>\n      <td>0.0</td>\n      <td>1.613627e+06</td>\n      <td>5.199955e+06</td>\n      <td>2.550014e+05</td>\n      <td>0.0</td>\n      <td>0.000000</td>\n    </tr>\n    <tr>\n      <th>1</th>\n      <td>F0025</td>\n      <td>0.0</td>\n      <td>0.000000e+00</td>\n      <td>0.000000e+00</td>\n      <td>412752.692383</td>\n      <td>0.0</td>\n      <td>0.0</td>\n      <td>0.0</td>\n      <td>0</td>\n      <td>0.0</td>\n      <td>...</td>\n      <td>0.0</td>\n      <td>0.000000</td>\n      <td>0</td>\n      <td>0</td>\n      <td>0.0</td>\n      <td>4.127527e+05</td>\n      <td>1.638610e+06</td>\n      <td>5.017221e+06</td>\n      <td>0.0</td>\n      <td>0.000000</td>\n    </tr>\n    <tr>\n      <th>2</th>\n      <td>F0027</td>\n      <td>0.0</td>\n      <td>2.741746e+05</td>\n      <td>0.000000e+00</td>\n      <td>0.000000</td>\n      <td>0.0</td>\n      <td>0.0</td>\n      <td>0.0</td>\n      <td>0</td>\n      <td>0.0</td>\n      <td>...</td>\n      <td>0.0</td>\n      <td>0.000000</td>\n      <td>0</td>\n      <td>0</td>\n      <td>0.0</td>\n      <td>2.741746e+05</td>\n      <td>3.581890e+06</td>\n      <td>3.212519e+06</td>\n      <td>0.0</td>\n      <td>0.000000</td>\n    </tr>\n    <tr>\n      <th>3</th>\n      <td>B0128</td>\n      <td>0.0</td>\n      <td>2.470089e+06</td>\n      <td>4.053755e+06</td>\n      <td>497496.251770</td>\n      <td>0.0</td>\n      <td>0.0</td>\n      <td>0.0</td>\n      <td>0</td>\n      <td>0.0</td>\n      <td>...</td>\n      <td>0.0</td>\n      <td>0.000000</td>\n      <td>0</td>\n      <td>0</td>\n      <td>0.0</td>\n      <td>7.021340e+06</td>\n      <td>4.724307e+04</td>\n      <td>0.000000e+00</td>\n      <td>0.0</td>\n      <td>0.000000</td>\n    </tr>\n    <tr>\n      <th>4</th>\n      <td>F0023</td>\n      <td>0.0</td>\n      <td>0.000000e+00</td>\n      <td>2.559254e+05</td>\n      <td>0.000000</td>\n      <td>0.0</td>\n      <td>0.0</td>\n      <td>0.0</td>\n      <td>0</td>\n      <td>0.0</td>\n      <td>...</td>\n      <td>0.0</td>\n      <td>284728.392578</td>\n      <td>0</td>\n      <td>0</td>\n      <td>0.0</td>\n      <td>2.559254e+05</td>\n      <td>3.566308e+06</td>\n      <td>2.961621e+06</td>\n      <td>0.0</td>\n      <td>284728.392578</td>\n    </tr>\n    <tr>\n      <th>...</th>\n      <td>...</td>\n      <td>...</td>\n      <td>...</td>\n      <td>...</td>\n      <td>...</td>\n      <td>...</td>\n      <td>...</td>\n      <td>...</td>\n      <td>...</td>\n      <td>...</td>\n      <td>...</td>\n      <td>...</td>\n      <td>...</td>\n      <td>...</td>\n      <td>...</td>\n      <td>...</td>\n      <td>...</td>\n      <td>...</td>\n      <td>...</td>\n      <td>...</td>\n      <td>...</td>\n    </tr>\n    <tr>\n      <th>58</th>\n      <td>F0007</td>\n      <td>0.0</td>\n      <td>0.000000e+00</td>\n      <td>0.000000e+00</td>\n      <td>0.000000</td>\n      <td>0.0</td>\n      <td>0.0</td>\n      <td>0.0</td>\n      <td>0</td>\n      <td>0.0</td>\n      <td>...</td>\n      <td>0.0</td>\n      <td>0.000000</td>\n      <td>0</td>\n      <td>0</td>\n      <td>0.0</td>\n      <td>0.000000e+00</td>\n      <td>3.801293e+06</td>\n      <td>3.267290e+06</td>\n      <td>0.0</td>\n      <td>0.000000</td>\n    </tr>\n    <tr>\n      <th>59</th>\n      <td>B0069</td>\n      <td>0.0</td>\n      <td>8.704243e+05</td>\n      <td>0.000000e+00</td>\n      <td>0.000000</td>\n      <td>0.0</td>\n      <td>0.0</td>\n      <td>0.0</td>\n      <td>0</td>\n      <td>0.0</td>\n      <td>...</td>\n      <td>0.0</td>\n      <td>0.000000</td>\n      <td>0</td>\n      <td>0</td>\n      <td>0.0</td>\n      <td>1.148526e+06</td>\n      <td>5.681678e+06</td>\n      <td>2.383795e+05</td>\n      <td>0.0</td>\n      <td>0.000000</td>\n    </tr>\n    <tr>\n      <th>60</th>\n      <td>B0152</td>\n      <td>0.0</td>\n      <td>4.575279e+06</td>\n      <td>5.726391e+05</td>\n      <td>201434.000214</td>\n      <td>0.0</td>\n      <td>0.0</td>\n      <td>0.0</td>\n      <td>0</td>\n      <td>0.0</td>\n      <td>...</td>\n      <td>0.0</td>\n      <td>0.000000</td>\n      <td>0</td>\n      <td>0</td>\n      <td>0.0</td>\n      <td>5.349352e+06</td>\n      <td>1.377615e+06</td>\n      <td>3.416169e+05</td>\n      <td>0.0</td>\n      <td>0.000000</td>\n    </tr>\n    <tr>\n      <th>61</th>\n      <td>F0003</td>\n      <td>0.0</td>\n      <td>3.425116e+05</td>\n      <td>0.000000e+00</td>\n      <td>0.000000</td>\n      <td>0.0</td>\n      <td>0.0</td>\n      <td>0.0</td>\n      <td>0</td>\n      <td>0.0</td>\n      <td>...</td>\n      <td>0.0</td>\n      <td>0.000000</td>\n      <td>0</td>\n      <td>0</td>\n      <td>0.0</td>\n      <td>3.425116e+05</td>\n      <td>6.462237e+05</td>\n      <td>6.079848e+06</td>\n      <td>0.0</td>\n      <td>0.000000</td>\n    </tr>\n    <tr>\n      <th>62</th>\n      <td>B0158</td>\n      <td>0.0</td>\n      <td>1.467398e+05</td>\n      <td>0.000000e+00</td>\n      <td>318178.187439</td>\n      <td>0.0</td>\n      <td>0.0</td>\n      <td>0.0</td>\n      <td>0</td>\n      <td>0.0</td>\n      <td>...</td>\n      <td>0.0</td>\n      <td>0.000000</td>\n      <td>0</td>\n      <td>0</td>\n      <td>0.0</td>\n      <td>4.649180e+05</td>\n      <td>6.603665e+06</td>\n      <td>0.000000e+00</td>\n      <td>0.0</td>\n      <td>0.000000</td>\n    </tr>\n  </tbody>\n</table>\n<p>63 rows × 50 columns</p>\n</div>"
     },
     "metadata": {},
     "execution_count": 8
    }
   ],
   "source": [
    "surf"
   ]
  },
  {
   "cell_type": "code",
   "execution_count": 9,
   "metadata": {},
   "outputs": [],
   "source": [
    "surf = surf.round(2)"
   ]
  },
  {
   "cell_type": "code",
   "execution_count": 10,
   "metadata": {},
   "outputs": [],
   "source": [
    "clc1 = surf[['Site', 'clc_1', 'clc_2', 'clc_3', 'clc_4', 'clc_5']]\n",
    "clc1.sort_values(by='Site', inplace=True)"
   ]
  },
  {
   "cell_type": "code",
   "execution_count": 11,
   "metadata": {},
   "outputs": [
    {
     "output_type": "execute_result",
     "data": {
      "text/plain": [
       "      Site       clc_1       clc_2       clc_3       clc_4      clc_5\n",
       "12   B0012  6038409.15   290404.21   253441.67        0.00  486328.33\n",
       "39   B0017  1758775.55  1596366.49  3713441.32        0.00       0.00\n",
       "41   B0019        0.00        0.00  6689946.33   378637.02       0.00\n",
       "40   B0021        0.00   269517.65  5856919.35   942146.35       0.00\n",
       "38   B0023   194534.06   914975.64  4150011.72  1809061.93       0.00\n",
       "..     ...         ...         ...         ...         ...        ...\n",
       "0    F0069  1613626.87  5199955.10   255001.41        0.00       0.00\n",
       "5    F0071   350233.25  4251895.86  1822475.21        0.00  643979.02\n",
       "6    F0073        0.00  1019290.87  6049292.49        0.00       0.00\n",
       "17   F0075  2133363.39  4935219.99        0.00        0.00       0.00\n",
       "51  FE0001   406681.89  6442268.74   219632.73        0.00       0.00\n",
       "\n",
       "[63 rows x 6 columns]"
      ],
      "text/html": "<div>\n<style scoped>\n    .dataframe tbody tr th:only-of-type {\n        vertical-align: middle;\n    }\n\n    .dataframe tbody tr th {\n        vertical-align: top;\n    }\n\n    .dataframe thead th {\n        text-align: right;\n    }\n</style>\n<table border=\"1\" class=\"dataframe\">\n  <thead>\n    <tr style=\"text-align: right;\">\n      <th></th>\n      <th>Site</th>\n      <th>clc_1</th>\n      <th>clc_2</th>\n      <th>clc_3</th>\n      <th>clc_4</th>\n      <th>clc_5</th>\n    </tr>\n  </thead>\n  <tbody>\n    <tr>\n      <th>12</th>\n      <td>B0012</td>\n      <td>6038409.15</td>\n      <td>290404.21</td>\n      <td>253441.67</td>\n      <td>0.00</td>\n      <td>486328.33</td>\n    </tr>\n    <tr>\n      <th>39</th>\n      <td>B0017</td>\n      <td>1758775.55</td>\n      <td>1596366.49</td>\n      <td>3713441.32</td>\n      <td>0.00</td>\n      <td>0.00</td>\n    </tr>\n    <tr>\n      <th>41</th>\n      <td>B0019</td>\n      <td>0.00</td>\n      <td>0.00</td>\n      <td>6689946.33</td>\n      <td>378637.02</td>\n      <td>0.00</td>\n    </tr>\n    <tr>\n      <th>40</th>\n      <td>B0021</td>\n      <td>0.00</td>\n      <td>269517.65</td>\n      <td>5856919.35</td>\n      <td>942146.35</td>\n      <td>0.00</td>\n    </tr>\n    <tr>\n      <th>38</th>\n      <td>B0023</td>\n      <td>194534.06</td>\n      <td>914975.64</td>\n      <td>4150011.72</td>\n      <td>1809061.93</td>\n      <td>0.00</td>\n    </tr>\n    <tr>\n      <th>...</th>\n      <td>...</td>\n      <td>...</td>\n      <td>...</td>\n      <td>...</td>\n      <td>...</td>\n      <td>...</td>\n    </tr>\n    <tr>\n      <th>0</th>\n      <td>F0069</td>\n      <td>1613626.87</td>\n      <td>5199955.10</td>\n      <td>255001.41</td>\n      <td>0.00</td>\n      <td>0.00</td>\n    </tr>\n    <tr>\n      <th>5</th>\n      <td>F0071</td>\n      <td>350233.25</td>\n      <td>4251895.86</td>\n      <td>1822475.21</td>\n      <td>0.00</td>\n      <td>643979.02</td>\n    </tr>\n    <tr>\n      <th>6</th>\n      <td>F0073</td>\n      <td>0.00</td>\n      <td>1019290.87</td>\n      <td>6049292.49</td>\n      <td>0.00</td>\n      <td>0.00</td>\n    </tr>\n    <tr>\n      <th>17</th>\n      <td>F0075</td>\n      <td>2133363.39</td>\n      <td>4935219.99</td>\n      <td>0.00</td>\n      <td>0.00</td>\n      <td>0.00</td>\n    </tr>\n    <tr>\n      <th>51</th>\n      <td>FE0001</td>\n      <td>406681.89</td>\n      <td>6442268.74</td>\n      <td>219632.73</td>\n      <td>0.00</td>\n      <td>0.00</td>\n    </tr>\n  </tbody>\n</table>\n<p>63 rows × 6 columns</p>\n</div>"
     },
     "metadata": {},
     "execution_count": 11
    }
   ],
   "source": [
    "clc1"
   ]
  },
  {
   "cell_type": "code",
   "execution_count": 12,
   "metadata": {},
   "outputs": [],
   "source": [
    "clc1.to_csv('data/clc1.csv')"
   ]
  },
  {
   "cell_type": "code",
   "execution_count": 13,
   "metadata": {},
   "outputs": [
    {
     "output_type": "execute_result",
     "data": {
      "text/plain": [
       "      Site     polyID  classCLC         dist\n",
       "0    F0069   FR-88090       231  1183.022362\n",
       "1    F0069  FR-131773       242   289.926324\n",
       "2    F0069   FR-46167       211   221.344153\n",
       "3    F0069   FR-11047       112  1038.383069\n",
       "4    F0069  FR-195343       311   724.045683\n",
       "..     ...        ...       ...          ...\n",
       "627  B0158    BE-9408       231   959.550638\n",
       "628  B0158    BE-9434       231  1103.848468\n",
       "629  B0158   BE-12970       242  1229.411653\n",
       "630  B0158   BE-12998       242  1210.875452\n",
       "631  B0158   BE-18855       243     0.000000\n",
       "\n",
       "[632 rows x 4 columns]"
      ],
      "text/html": "<div>\n<style scoped>\n    .dataframe tbody tr th:only-of-type {\n        vertical-align: middle;\n    }\n\n    .dataframe tbody tr th {\n        vertical-align: top;\n    }\n\n    .dataframe thead th {\n        text-align: right;\n    }\n</style>\n<table border=\"1\" class=\"dataframe\">\n  <thead>\n    <tr style=\"text-align: right;\">\n      <th></th>\n      <th>Site</th>\n      <th>polyID</th>\n      <th>classCLC</th>\n      <th>dist</th>\n    </tr>\n  </thead>\n  <tbody>\n    <tr>\n      <th>0</th>\n      <td>F0069</td>\n      <td>FR-88090</td>\n      <td>231</td>\n      <td>1183.022362</td>\n    </tr>\n    <tr>\n      <th>1</th>\n      <td>F0069</td>\n      <td>FR-131773</td>\n      <td>242</td>\n      <td>289.926324</td>\n    </tr>\n    <tr>\n      <th>2</th>\n      <td>F0069</td>\n      <td>FR-46167</td>\n      <td>211</td>\n      <td>221.344153</td>\n    </tr>\n    <tr>\n      <th>3</th>\n      <td>F0069</td>\n      <td>FR-11047</td>\n      <td>112</td>\n      <td>1038.383069</td>\n    </tr>\n    <tr>\n      <th>4</th>\n      <td>F0069</td>\n      <td>FR-195343</td>\n      <td>311</td>\n      <td>724.045683</td>\n    </tr>\n    <tr>\n      <th>...</th>\n      <td>...</td>\n      <td>...</td>\n      <td>...</td>\n      <td>...</td>\n    </tr>\n    <tr>\n      <th>627</th>\n      <td>B0158</td>\n      <td>BE-9408</td>\n      <td>231</td>\n      <td>959.550638</td>\n    </tr>\n    <tr>\n      <th>628</th>\n      <td>B0158</td>\n      <td>BE-9434</td>\n      <td>231</td>\n      <td>1103.848468</td>\n    </tr>\n    <tr>\n      <th>629</th>\n      <td>B0158</td>\n      <td>BE-12970</td>\n      <td>242</td>\n      <td>1229.411653</td>\n    </tr>\n    <tr>\n      <th>630</th>\n      <td>B0158</td>\n      <td>BE-12998</td>\n      <td>242</td>\n      <td>1210.875452</td>\n    </tr>\n    <tr>\n      <th>631</th>\n      <td>B0158</td>\n      <td>BE-18855</td>\n      <td>243</td>\n      <td>0.000000</td>\n    </tr>\n  </tbody>\n</table>\n<p>632 rows × 4 columns</p>\n</div>"
     },
     "metadata": {},
     "execution_count": 13
    }
   ],
   "source": [
    "dist"
   ]
  },
  {
   "cell_type": "code",
   "execution_count": 14,
   "metadata": {},
   "outputs": [
    {
     "output_type": "execute_result",
     "data": {
      "text/plain": [
       "       Site    polyID  classCLC  dist\n",
       "115   B0012   BE-4014       121   0.0\n",
       "406   B0017  BE-23791       313   0.0\n",
       "421   B0019  BE-22542       312   0.0\n",
       "417   B0021  BE-23796       313   0.0\n",
       "394   B0023  BE-24779       412   0.0\n",
       "..      ...       ...       ...   ...\n",
       "7     F0069  FR-27481       121   0.0\n",
       "45    F0071  FR-37554       211   0.0\n",
       "65    F0073  FR-38154       211   0.0\n",
       "152   F0075  FR-59263       211   0.0\n",
       "517  FE0001  FR-15430       112   0.0\n",
       "\n",
       "[63 rows x 4 columns]"
      ],
      "text/html": "<div>\n<style scoped>\n    .dataframe tbody tr th:only-of-type {\n        vertical-align: middle;\n    }\n\n    .dataframe tbody tr th {\n        vertical-align: top;\n    }\n\n    .dataframe thead th {\n        text-align: right;\n    }\n</style>\n<table border=\"1\" class=\"dataframe\">\n  <thead>\n    <tr style=\"text-align: right;\">\n      <th></th>\n      <th>Site</th>\n      <th>polyID</th>\n      <th>classCLC</th>\n      <th>dist</th>\n    </tr>\n  </thead>\n  <tbody>\n    <tr>\n      <th>115</th>\n      <td>B0012</td>\n      <td>BE-4014</td>\n      <td>121</td>\n      <td>0.0</td>\n    </tr>\n    <tr>\n      <th>406</th>\n      <td>B0017</td>\n      <td>BE-23791</td>\n      <td>313</td>\n      <td>0.0</td>\n    </tr>\n    <tr>\n      <th>421</th>\n      <td>B0019</td>\n      <td>BE-22542</td>\n      <td>312</td>\n      <td>0.0</td>\n    </tr>\n    <tr>\n      <th>417</th>\n      <td>B0021</td>\n      <td>BE-23796</td>\n      <td>313</td>\n      <td>0.0</td>\n    </tr>\n    <tr>\n      <th>394</th>\n      <td>B0023</td>\n      <td>BE-24779</td>\n      <td>412</td>\n      <td>0.0</td>\n    </tr>\n    <tr>\n      <th>...</th>\n      <td>...</td>\n      <td>...</td>\n      <td>...</td>\n      <td>...</td>\n    </tr>\n    <tr>\n      <th>7</th>\n      <td>F0069</td>\n      <td>FR-27481</td>\n      <td>121</td>\n      <td>0.0</td>\n    </tr>\n    <tr>\n      <th>45</th>\n      <td>F0071</td>\n      <td>FR-37554</td>\n      <td>211</td>\n      <td>0.0</td>\n    </tr>\n    <tr>\n      <th>65</th>\n      <td>F0073</td>\n      <td>FR-38154</td>\n      <td>211</td>\n      <td>0.0</td>\n    </tr>\n    <tr>\n      <th>152</th>\n      <td>F0075</td>\n      <td>FR-59263</td>\n      <td>211</td>\n      <td>0.0</td>\n    </tr>\n    <tr>\n      <th>517</th>\n      <td>FE0001</td>\n      <td>FR-15430</td>\n      <td>112</td>\n      <td>0.0</td>\n    </tr>\n  </tbody>\n</table>\n<p>63 rows × 4 columns</p>\n</div>"
     },
     "metadata": {},
     "execution_count": 14
    }
   ],
   "source": [
    "f_dist = dist[dist['dist'] == 0].sort_values(by='Site')\n",
    "f_dist"
   ]
  },
  {
   "cell_type": "code",
   "execution_count": 15,
   "metadata": {},
   "outputs": [],
   "source": [
    "ds_j = f_dist.join(clc1.set_index('Site'), on='Site')\n",
    "#ds_j"
   ]
  },
  {
   "cell_type": "code",
   "execution_count": 16,
   "metadata": {},
   "outputs": [],
   "source": [
    "ds_j.drop(['classCLC', 'dist'], axis=1, inplace=True)"
   ]
  },
  {
   "cell_type": "code",
   "execution_count": 17,
   "metadata": {},
   "outputs": [
    {
     "output_type": "execute_result",
     "data": {
      "text/plain": [
       "       Site    polyID       clc_1       clc_2       clc_3       clc_4  \\\n",
       "115   B0012   BE-4014  6038409.15   290404.21   253441.67        0.00   \n",
       "406   B0017  BE-23791  1758775.55  1596366.49  3713441.32        0.00   \n",
       "421   B0019  BE-22542        0.00        0.00  6689946.33   378637.02   \n",
       "417   B0021  BE-23796        0.00   269517.65  5856919.35   942146.35   \n",
       "394   B0023  BE-24779   194534.06   914975.64  4150011.72  1809061.93   \n",
       "..      ...       ...         ...         ...         ...         ...   \n",
       "7     F0069  FR-27481  1613626.87  5199955.10   255001.41        0.00   \n",
       "45    F0071  FR-37554   350233.25  4251895.86  1822475.21        0.00   \n",
       "65    F0073  FR-38154        0.00  1019290.87  6049292.49        0.00   \n",
       "152   F0075  FR-59263  2133363.39  4935219.99        0.00        0.00   \n",
       "517  FE0001  FR-15430   406681.89  6442268.74   219632.73        0.00   \n",
       "\n",
       "         clc_5  \n",
       "115  486328.33  \n",
       "406       0.00  \n",
       "421       0.00  \n",
       "417       0.00  \n",
       "394       0.00  \n",
       "..         ...  \n",
       "7         0.00  \n",
       "45   643979.02  \n",
       "65        0.00  \n",
       "152       0.00  \n",
       "517       0.00  \n",
       "\n",
       "[63 rows x 7 columns]"
      ],
      "text/html": "<div>\n<style scoped>\n    .dataframe tbody tr th:only-of-type {\n        vertical-align: middle;\n    }\n\n    .dataframe tbody tr th {\n        vertical-align: top;\n    }\n\n    .dataframe thead th {\n        text-align: right;\n    }\n</style>\n<table border=\"1\" class=\"dataframe\">\n  <thead>\n    <tr style=\"text-align: right;\">\n      <th></th>\n      <th>Site</th>\n      <th>polyID</th>\n      <th>clc_1</th>\n      <th>clc_2</th>\n      <th>clc_3</th>\n      <th>clc_4</th>\n      <th>clc_5</th>\n    </tr>\n  </thead>\n  <tbody>\n    <tr>\n      <th>115</th>\n      <td>B0012</td>\n      <td>BE-4014</td>\n      <td>6038409.15</td>\n      <td>290404.21</td>\n      <td>253441.67</td>\n      <td>0.00</td>\n      <td>486328.33</td>\n    </tr>\n    <tr>\n      <th>406</th>\n      <td>B0017</td>\n      <td>BE-23791</td>\n      <td>1758775.55</td>\n      <td>1596366.49</td>\n      <td>3713441.32</td>\n      <td>0.00</td>\n      <td>0.00</td>\n    </tr>\n    <tr>\n      <th>421</th>\n      <td>B0019</td>\n      <td>BE-22542</td>\n      <td>0.00</td>\n      <td>0.00</td>\n      <td>6689946.33</td>\n      <td>378637.02</td>\n      <td>0.00</td>\n    </tr>\n    <tr>\n      <th>417</th>\n      <td>B0021</td>\n      <td>BE-23796</td>\n      <td>0.00</td>\n      <td>269517.65</td>\n      <td>5856919.35</td>\n      <td>942146.35</td>\n      <td>0.00</td>\n    </tr>\n    <tr>\n      <th>394</th>\n      <td>B0023</td>\n      <td>BE-24779</td>\n      <td>194534.06</td>\n      <td>914975.64</td>\n      <td>4150011.72</td>\n      <td>1809061.93</td>\n      <td>0.00</td>\n    </tr>\n    <tr>\n      <th>...</th>\n      <td>...</td>\n      <td>...</td>\n      <td>...</td>\n      <td>...</td>\n      <td>...</td>\n      <td>...</td>\n      <td>...</td>\n    </tr>\n    <tr>\n      <th>7</th>\n      <td>F0069</td>\n      <td>FR-27481</td>\n      <td>1613626.87</td>\n      <td>5199955.10</td>\n      <td>255001.41</td>\n      <td>0.00</td>\n      <td>0.00</td>\n    </tr>\n    <tr>\n      <th>45</th>\n      <td>F0071</td>\n      <td>FR-37554</td>\n      <td>350233.25</td>\n      <td>4251895.86</td>\n      <td>1822475.21</td>\n      <td>0.00</td>\n      <td>643979.02</td>\n    </tr>\n    <tr>\n      <th>65</th>\n      <td>F0073</td>\n      <td>FR-38154</td>\n      <td>0.00</td>\n      <td>1019290.87</td>\n      <td>6049292.49</td>\n      <td>0.00</td>\n      <td>0.00</td>\n    </tr>\n    <tr>\n      <th>152</th>\n      <td>F0075</td>\n      <td>FR-59263</td>\n      <td>2133363.39</td>\n      <td>4935219.99</td>\n      <td>0.00</td>\n      <td>0.00</td>\n      <td>0.00</td>\n    </tr>\n    <tr>\n      <th>517</th>\n      <td>FE0001</td>\n      <td>FR-15430</td>\n      <td>406681.89</td>\n      <td>6442268.74</td>\n      <td>219632.73</td>\n      <td>0.00</td>\n      <td>0.00</td>\n    </tr>\n  </tbody>\n</table>\n<p>63 rows × 7 columns</p>\n</div>"
     },
     "metadata": {},
     "execution_count": 17
    }
   ],
   "source": [
    "ds_j"
   ]
  },
  {
   "cell_type": "code",
   "execution_count": 38,
   "metadata": {},
   "outputs": [],
   "source": [
    "# ds_j['clc_1'] / ds_j['clc_1'] + ds_j['clc_1'] \n",
    "ds_j[['clc_1', 'clc_2', 'clc_3', 'clc_4', 'clc_5']] = ds_j[['clc_1', 'clc_2', 'clc_3', 'clc_4', 'clc_5']].apply(lambda x: (x/x.sum() * 100).round(1), axis=1)"
   ]
  },
  {
   "cell_type": "code",
   "execution_count": 39,
   "metadata": {},
   "outputs": [
    {
     "output_type": "execute_result",
     "data": {
      "text/plain": [
       "       Site    polyID  clc_1  clc_2  clc_3  clc_4  clc_5\n",
       "115   B0012   BE-4014   85.4    4.1    3.6    0.0    6.9\n",
       "406   B0017  BE-23791   24.9   22.6   52.5    0.0    0.0\n",
       "421   B0019  BE-22542    0.0    0.0   94.6    5.4    0.0\n",
       "417   B0021  BE-23796    0.0    3.8   82.9   13.3    0.0\n",
       "394   B0023  BE-24779    2.8   12.9   58.7   25.6    0.0\n",
       "..      ...       ...    ...    ...    ...    ...    ...\n",
       "7     F0069  FR-27481   22.8   73.6    3.6    0.0    0.0\n",
       "45    F0071  FR-37554    5.0   60.1   25.8    0.0    9.1\n",
       "65    F0073  FR-38154    0.0   14.4   85.6    0.0    0.0\n",
       "152   F0075  FR-59263   30.2   69.8    0.0    0.0    0.0\n",
       "517  FE0001  FR-15430    5.8   91.1    3.1    0.0    0.0\n",
       "\n",
       "[63 rows x 7 columns]"
      ],
      "text/html": "<div>\n<style scoped>\n    .dataframe tbody tr th:only-of-type {\n        vertical-align: middle;\n    }\n\n    .dataframe tbody tr th {\n        vertical-align: top;\n    }\n\n    .dataframe thead th {\n        text-align: right;\n    }\n</style>\n<table border=\"1\" class=\"dataframe\">\n  <thead>\n    <tr style=\"text-align: right;\">\n      <th></th>\n      <th>Site</th>\n      <th>polyID</th>\n      <th>clc_1</th>\n      <th>clc_2</th>\n      <th>clc_3</th>\n      <th>clc_4</th>\n      <th>clc_5</th>\n    </tr>\n  </thead>\n  <tbody>\n    <tr>\n      <th>115</th>\n      <td>B0012</td>\n      <td>BE-4014</td>\n      <td>85.4</td>\n      <td>4.1</td>\n      <td>3.6</td>\n      <td>0.0</td>\n      <td>6.9</td>\n    </tr>\n    <tr>\n      <th>406</th>\n      <td>B0017</td>\n      <td>BE-23791</td>\n      <td>24.9</td>\n      <td>22.6</td>\n      <td>52.5</td>\n      <td>0.0</td>\n      <td>0.0</td>\n    </tr>\n    <tr>\n      <th>421</th>\n      <td>B0019</td>\n      <td>BE-22542</td>\n      <td>0.0</td>\n      <td>0.0</td>\n      <td>94.6</td>\n      <td>5.4</td>\n      <td>0.0</td>\n    </tr>\n    <tr>\n      <th>417</th>\n      <td>B0021</td>\n      <td>BE-23796</td>\n      <td>0.0</td>\n      <td>3.8</td>\n      <td>82.9</td>\n      <td>13.3</td>\n      <td>0.0</td>\n    </tr>\n    <tr>\n      <th>394</th>\n      <td>B0023</td>\n      <td>BE-24779</td>\n      <td>2.8</td>\n      <td>12.9</td>\n      <td>58.7</td>\n      <td>25.6</td>\n      <td>0.0</td>\n    </tr>\n    <tr>\n      <th>...</th>\n      <td>...</td>\n      <td>...</td>\n      <td>...</td>\n      <td>...</td>\n      <td>...</td>\n      <td>...</td>\n      <td>...</td>\n    </tr>\n    <tr>\n      <th>7</th>\n      <td>F0069</td>\n      <td>FR-27481</td>\n      <td>22.8</td>\n      <td>73.6</td>\n      <td>3.6</td>\n      <td>0.0</td>\n      <td>0.0</td>\n    </tr>\n    <tr>\n      <th>45</th>\n      <td>F0071</td>\n      <td>FR-37554</td>\n      <td>5.0</td>\n      <td>60.1</td>\n      <td>25.8</td>\n      <td>0.0</td>\n      <td>9.1</td>\n    </tr>\n    <tr>\n      <th>65</th>\n      <td>F0073</td>\n      <td>FR-38154</td>\n      <td>0.0</td>\n      <td>14.4</td>\n      <td>85.6</td>\n      <td>0.0</td>\n      <td>0.0</td>\n    </tr>\n    <tr>\n      <th>152</th>\n      <td>F0075</td>\n      <td>FR-59263</td>\n      <td>30.2</td>\n      <td>69.8</td>\n      <td>0.0</td>\n      <td>0.0</td>\n      <td>0.0</td>\n    </tr>\n    <tr>\n      <th>517</th>\n      <td>FE0001</td>\n      <td>FR-15430</td>\n      <td>5.8</td>\n      <td>91.1</td>\n      <td>3.1</td>\n      <td>0.0</td>\n      <td>0.0</td>\n    </tr>\n  </tbody>\n</table>\n<p>63 rows × 7 columns</p>\n</div>"
     },
     "metadata": {},
     "execution_count": 39
    }
   ],
   "source": [
    "ds_j"
   ]
  },
  {
   "cell_type": "code",
   "execution_count": 58,
   "metadata": {},
   "outputs": [],
   "source": [
    "dell = ['F0045', 'F0059', 'F0075']"
   ]
  },
  {
   "cell_type": "code",
   "execution_count": 76,
   "metadata": {},
   "outputs": [],
   "source": [
    "surf_hm = ds_j[~ds_j['Site'].isin(dell)]"
   ]
  },
  {
   "cell_type": "code",
   "execution_count": 77,
   "metadata": {},
   "outputs": [],
   "source": [
    "surf_hm.drop('polyID', axis=1, inplace=True)"
   ]
  },
  {
   "cell_type": "code",
   "execution_count": 78,
   "metadata": {},
   "outputs": [
    {
     "output_type": "execute_result",
     "data": {
      "text/plain": [
       "      Site  clc_1  clc_2  clc_3  clc_4  clc_5\n",
       "115  B0012   85.4    4.1    3.6    0.0    6.9\n",
       "406  B0017   24.9   22.6   52.5    0.0    0.0\n",
       "421  B0019    0.0    0.0   94.6    5.4    0.0\n",
       "417  B0021    0.0    3.8   82.9   13.3    0.0\n",
       "394  B0023    2.8   12.9   58.7   25.6    0.0\n",
       "475  B0032   46.4   36.6   17.0    0.0    0.0\n",
       "230  B0037   28.4   66.7    4.9    0.0    0.0\n",
       "243  B0039   58.2   21.1    5.0    4.9   10.8\n",
       "211  B0041   50.5   49.5    0.0    0.0    0.0\n",
       "236  B0043   24.9   71.8    0.0    0.0    3.3"
      ],
      "text/html": "<div>\n<style scoped>\n    .dataframe tbody tr th:only-of-type {\n        vertical-align: middle;\n    }\n\n    .dataframe tbody tr th {\n        vertical-align: top;\n    }\n\n    .dataframe thead th {\n        text-align: right;\n    }\n</style>\n<table border=\"1\" class=\"dataframe\">\n  <thead>\n    <tr style=\"text-align: right;\">\n      <th></th>\n      <th>Site</th>\n      <th>clc_1</th>\n      <th>clc_2</th>\n      <th>clc_3</th>\n      <th>clc_4</th>\n      <th>clc_5</th>\n    </tr>\n  </thead>\n  <tbody>\n    <tr>\n      <th>115</th>\n      <td>B0012</td>\n      <td>85.4</td>\n      <td>4.1</td>\n      <td>3.6</td>\n      <td>0.0</td>\n      <td>6.9</td>\n    </tr>\n    <tr>\n      <th>406</th>\n      <td>B0017</td>\n      <td>24.9</td>\n      <td>22.6</td>\n      <td>52.5</td>\n      <td>0.0</td>\n      <td>0.0</td>\n    </tr>\n    <tr>\n      <th>421</th>\n      <td>B0019</td>\n      <td>0.0</td>\n      <td>0.0</td>\n      <td>94.6</td>\n      <td>5.4</td>\n      <td>0.0</td>\n    </tr>\n    <tr>\n      <th>417</th>\n      <td>B0021</td>\n      <td>0.0</td>\n      <td>3.8</td>\n      <td>82.9</td>\n      <td>13.3</td>\n      <td>0.0</td>\n    </tr>\n    <tr>\n      <th>394</th>\n      <td>B0023</td>\n      <td>2.8</td>\n      <td>12.9</td>\n      <td>58.7</td>\n      <td>25.6</td>\n      <td>0.0</td>\n    </tr>\n    <tr>\n      <th>475</th>\n      <td>B0032</td>\n      <td>46.4</td>\n      <td>36.6</td>\n      <td>17.0</td>\n      <td>0.0</td>\n      <td>0.0</td>\n    </tr>\n    <tr>\n      <th>230</th>\n      <td>B0037</td>\n      <td>28.4</td>\n      <td>66.7</td>\n      <td>4.9</td>\n      <td>0.0</td>\n      <td>0.0</td>\n    </tr>\n    <tr>\n      <th>243</th>\n      <td>B0039</td>\n      <td>58.2</td>\n      <td>21.1</td>\n      <td>5.0</td>\n      <td>4.9</td>\n      <td>10.8</td>\n    </tr>\n    <tr>\n      <th>211</th>\n      <td>B0041</td>\n      <td>50.5</td>\n      <td>49.5</td>\n      <td>0.0</td>\n      <td>0.0</td>\n      <td>0.0</td>\n    </tr>\n    <tr>\n      <th>236</th>\n      <td>B0043</td>\n      <td>24.9</td>\n      <td>71.8</td>\n      <td>0.0</td>\n      <td>0.0</td>\n      <td>3.3</td>\n    </tr>\n  </tbody>\n</table>\n</div>"
     },
     "metadata": {},
     "execution_count": 78
    }
   ],
   "source": [
    "surf_hm.head(10)"
   ]
  },
  {
   "cell_type": "code",
   "execution_count": 79,
   "metadata": {},
   "outputs": [],
   "source": [
    "surf_hm.to_csv('data/surf_hm.csv')"
   ]
  },
  {
   "cell_type": "code",
   "execution_count": null,
   "metadata": {},
   "outputs": [],
   "source": []
  }
 ]
}