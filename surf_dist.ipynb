{
 "metadata": {
  "language_info": {
   "codemirror_mode": {
    "name": "ipython",
    "version": 3
   },
   "file_extension": ".py",
   "mimetype": "text/x-python",
   "name": "python",
   "nbconvert_exporter": "python",
   "pygments_lexer": "ipython3",
   "version": "3.8.5-final"
  },
  "orig_nbformat": 2,
  "kernelspec": {
   "name": "python38564bit5f2391659b0b4e51a5ae522873c52736",
   "display_name": "Python 3.8.5 64-bit",
   "language": "python"
  }
 },
 "nbformat": 4,
 "nbformat_minor": 2,
 "cells": [
  {
   "cell_type": "code",
   "execution_count": 1,
   "metadata": {},
   "outputs": [],
   "source": [
    "import pandas as pd\n",
    "import numpy as np\n",
    "import seaborn as sns\n",
    "import matplotlib.pyplot as plt"
   ]
  },
  {
   "cell_type": "code",
   "execution_count": 3,
   "metadata": {},
   "outputs": [],
   "source": [
    "# import datasets\n",
    "\n",
    "surf = pd.read_excel('data/absSurfs.xlsx')\n",
    "dist = pd.read_excel('data/distsOneSheet.xlsx')"
   ]
  },
  {
   "cell_type": "code",
   "execution_count": 4,
   "metadata": {},
   "outputs": [
    {
     "output_type": "execute_result",
     "data": {
      "text/plain": [
       "    Site  111           112           121            122  123  124  131  132  \\\n",
       "0  F0069  0.0  1.064122e+06  3.587087e+05       0.000000  0.0  0.0  0.0    0   \n",
       "1  F0025  0.0  0.000000e+00  0.000000e+00  412752.692383  0.0  0.0  0.0    0   \n",
       "2  F0027  0.0  2.741746e+05  0.000000e+00       0.000000  0.0  0.0  0.0    0   \n",
       "3  B0128  0.0  2.470089e+06  4.053755e+06  497496.251770  0.0  0.0  0.0    0   \n",
       "4  F0023  0.0  0.000000e+00  2.559254e+05       0.000000  0.0  0.0  0.0    0   \n",
       "\n",
       "   133  ...  411  412  421  422  423  511            512  521  522  523  \n",
       "0  0.0  ...    0  0.0    0    0  0.0  0.0       0.000000    0    0  0.0  \n",
       "1  0.0  ...    0  0.0    0    0  0.0  0.0       0.000000    0    0  0.0  \n",
       "2  0.0  ...    0  0.0    0    0  0.0  0.0       0.000000    0    0  0.0  \n",
       "3  0.0  ...    0  0.0    0    0  0.0  0.0       0.000000    0    0  0.0  \n",
       "4  0.0  ...    0  0.0    0    0  0.0  0.0  284728.392578    0    0  0.0  \n",
       "\n",
       "[5 rows x 45 columns]"
      ],
      "text/html": "<div>\n<style scoped>\n    .dataframe tbody tr th:only-of-type {\n        vertical-align: middle;\n    }\n\n    .dataframe tbody tr th {\n        vertical-align: top;\n    }\n\n    .dataframe thead th {\n        text-align: right;\n    }\n</style>\n<table border=\"1\" class=\"dataframe\">\n  <thead>\n    <tr style=\"text-align: right;\">\n      <th></th>\n      <th>Site</th>\n      <th>111</th>\n      <th>112</th>\n      <th>121</th>\n      <th>122</th>\n      <th>123</th>\n      <th>124</th>\n      <th>131</th>\n      <th>132</th>\n      <th>133</th>\n      <th>...</th>\n      <th>411</th>\n      <th>412</th>\n      <th>421</th>\n      <th>422</th>\n      <th>423</th>\n      <th>511</th>\n      <th>512</th>\n      <th>521</th>\n      <th>522</th>\n      <th>523</th>\n    </tr>\n  </thead>\n  <tbody>\n    <tr>\n      <th>0</th>\n      <td>F0069</td>\n      <td>0.0</td>\n      <td>1.064122e+06</td>\n      <td>3.587087e+05</td>\n      <td>0.000000</td>\n      <td>0.0</td>\n      <td>0.0</td>\n      <td>0.0</td>\n      <td>0</td>\n      <td>0.0</td>\n      <td>...</td>\n      <td>0</td>\n      <td>0.0</td>\n      <td>0</td>\n      <td>0</td>\n      <td>0.0</td>\n      <td>0.0</td>\n      <td>0.000000</td>\n      <td>0</td>\n      <td>0</td>\n      <td>0.0</td>\n    </tr>\n    <tr>\n      <th>1</th>\n      <td>F0025</td>\n      <td>0.0</td>\n      <td>0.000000e+00</td>\n      <td>0.000000e+00</td>\n      <td>412752.692383</td>\n      <td>0.0</td>\n      <td>0.0</td>\n      <td>0.0</td>\n      <td>0</td>\n      <td>0.0</td>\n      <td>...</td>\n      <td>0</td>\n      <td>0.0</td>\n      <td>0</td>\n      <td>0</td>\n      <td>0.0</td>\n      <td>0.0</td>\n      <td>0.000000</td>\n      <td>0</td>\n      <td>0</td>\n      <td>0.0</td>\n    </tr>\n    <tr>\n      <th>2</th>\n      <td>F0027</td>\n      <td>0.0</td>\n      <td>2.741746e+05</td>\n      <td>0.000000e+00</td>\n      <td>0.000000</td>\n      <td>0.0</td>\n      <td>0.0</td>\n      <td>0.0</td>\n      <td>0</td>\n      <td>0.0</td>\n      <td>...</td>\n      <td>0</td>\n      <td>0.0</td>\n      <td>0</td>\n      <td>0</td>\n      <td>0.0</td>\n      <td>0.0</td>\n      <td>0.000000</td>\n      <td>0</td>\n      <td>0</td>\n      <td>0.0</td>\n    </tr>\n    <tr>\n      <th>3</th>\n      <td>B0128</td>\n      <td>0.0</td>\n      <td>2.470089e+06</td>\n      <td>4.053755e+06</td>\n      <td>497496.251770</td>\n      <td>0.0</td>\n      <td>0.0</td>\n      <td>0.0</td>\n      <td>0</td>\n      <td>0.0</td>\n      <td>...</td>\n      <td>0</td>\n      <td>0.0</td>\n      <td>0</td>\n      <td>0</td>\n      <td>0.0</td>\n      <td>0.0</td>\n      <td>0.000000</td>\n      <td>0</td>\n      <td>0</td>\n      <td>0.0</td>\n    </tr>\n    <tr>\n      <th>4</th>\n      <td>F0023</td>\n      <td>0.0</td>\n      <td>0.000000e+00</td>\n      <td>2.559254e+05</td>\n      <td>0.000000</td>\n      <td>0.0</td>\n      <td>0.0</td>\n      <td>0.0</td>\n      <td>0</td>\n      <td>0.0</td>\n      <td>...</td>\n      <td>0</td>\n      <td>0.0</td>\n      <td>0</td>\n      <td>0</td>\n      <td>0.0</td>\n      <td>0.0</td>\n      <td>284728.392578</td>\n      <td>0</td>\n      <td>0</td>\n      <td>0.0</td>\n    </tr>\n  </tbody>\n</table>\n<p>5 rows × 45 columns</p>\n</div>"
     },
     "metadata": {},
     "execution_count": 4
    }
   ],
   "source": [
    "surf.head()"
   ]
  },
  {
   "cell_type": "code",
   "execution_count": 10,
   "metadata": {},
   "outputs": [
    {
     "output_type": "execute_result",
     "data": {
      "text/plain": [
       "      Site            111           112           121          122  123  124  \\\n",
       "12   B0012  213419.497009  3.756405e+06  2.068585e+06     0.000000  0.0  0.0   \n",
       "39   B0017       0.000000  1.755395e+06  3.380723e+03     0.000000  0.0  0.0   \n",
       "41   B0019       0.000000  0.000000e+00  0.000000e+00     0.000000  0.0  0.0   \n",
       "40   B0021       0.000000  0.000000e+00  0.000000e+00     0.000000  0.0  0.0   \n",
       "38   B0023       0.000000  0.000000e+00  0.000000e+00     0.000000  0.0  0.0   \n",
       "..     ...            ...           ...           ...          ...  ...  ...   \n",
       "0    F0069       0.000000  1.064122e+06  3.587087e+05     0.000000  0.0  0.0   \n",
       "5    F0071       0.000000  0.000000e+00  2.891049e+05     0.000000  0.0  0.0   \n",
       "6    F0073       0.000000  0.000000e+00  0.000000e+00     0.000000  0.0  0.0   \n",
       "17   F0075       0.000000  1.687705e+06  4.422800e+05  3378.383301  0.0  0.0   \n",
       "51  FE0001       0.000000  4.066819e+05  0.000000e+00     0.000000  0.0  0.0   \n",
       "\n",
       "             131  132  133  ...  411           412  421  422  423  \\\n",
       "12      0.000000    0  0.0  ...    0  0.000000e+00    0    0  0.0   \n",
       "39      0.000000    0  0.0  ...    0  0.000000e+00    0    0  0.0   \n",
       "41      0.000000    0  0.0  ...    0  3.786370e+05    0    0  0.0   \n",
       "40      0.000000    0  0.0  ...    0  9.421463e+05    0    0  0.0   \n",
       "38      0.000000    0  0.0  ...    0  1.809062e+06    0    0  0.0   \n",
       "..           ...  ...  ...  ...  ...           ...  ...  ...  ...   \n",
       "0       0.000000    0  0.0  ...    0  0.000000e+00    0    0  0.0   \n",
       "5   61128.361328    0  0.0  ...    0  0.000000e+00    0    0  0.0   \n",
       "6       0.000000    0  0.0  ...    0  0.000000e+00    0    0  0.0   \n",
       "17      0.000000    0  0.0  ...    0  0.000000e+00    0    0  0.0   \n",
       "51      0.000000    0  0.0  ...    0  0.000000e+00    0    0  0.0   \n",
       "\n",
       "              511            512  521  522  523  \n",
       "12  486328.326111       0.000000    0    0  0.0  \n",
       "39       0.000000       0.000000    0    0  0.0  \n",
       "41       0.000000       0.000000    0    0  0.0  \n",
       "40       0.000000       0.000000    0    0  0.0  \n",
       "38       0.000000       0.000000    0    0  0.0  \n",
       "..            ...            ...  ...  ...  ...  \n",
       "0        0.000000       0.000000    0    0  0.0  \n",
       "5        0.000000  643979.018311    0    0  0.0  \n",
       "6        0.000000       0.000000    0    0  0.0  \n",
       "17       0.000000       0.000000    0    0  0.0  \n",
       "51       0.000000       0.000000    0    0  0.0  \n",
       "\n",
       "[63 rows x 45 columns]"
      ],
      "text/html": "<div>\n<style scoped>\n    .dataframe tbody tr th:only-of-type {\n        vertical-align: middle;\n    }\n\n    .dataframe tbody tr th {\n        vertical-align: top;\n    }\n\n    .dataframe thead th {\n        text-align: right;\n    }\n</style>\n<table border=\"1\" class=\"dataframe\">\n  <thead>\n    <tr style=\"text-align: right;\">\n      <th></th>\n      <th>Site</th>\n      <th>111</th>\n      <th>112</th>\n      <th>121</th>\n      <th>122</th>\n      <th>123</th>\n      <th>124</th>\n      <th>131</th>\n      <th>132</th>\n      <th>133</th>\n      <th>...</th>\n      <th>411</th>\n      <th>412</th>\n      <th>421</th>\n      <th>422</th>\n      <th>423</th>\n      <th>511</th>\n      <th>512</th>\n      <th>521</th>\n      <th>522</th>\n      <th>523</th>\n    </tr>\n  </thead>\n  <tbody>\n    <tr>\n      <th>12</th>\n      <td>B0012</td>\n      <td>213419.497009</td>\n      <td>3.756405e+06</td>\n      <td>2.068585e+06</td>\n      <td>0.000000</td>\n      <td>0.0</td>\n      <td>0.0</td>\n      <td>0.000000</td>\n      <td>0</td>\n      <td>0.0</td>\n      <td>...</td>\n      <td>0</td>\n      <td>0.000000e+00</td>\n      <td>0</td>\n      <td>0</td>\n      <td>0.0</td>\n      <td>486328.326111</td>\n      <td>0.000000</td>\n      <td>0</td>\n      <td>0</td>\n      <td>0.0</td>\n    </tr>\n    <tr>\n      <th>39</th>\n      <td>B0017</td>\n      <td>0.000000</td>\n      <td>1.755395e+06</td>\n      <td>3.380723e+03</td>\n      <td>0.000000</td>\n      <td>0.0</td>\n      <td>0.0</td>\n      <td>0.000000</td>\n      <td>0</td>\n      <td>0.0</td>\n      <td>...</td>\n      <td>0</td>\n      <td>0.000000e+00</td>\n      <td>0</td>\n      <td>0</td>\n      <td>0.0</td>\n      <td>0.000000</td>\n      <td>0.000000</td>\n      <td>0</td>\n      <td>0</td>\n      <td>0.0</td>\n    </tr>\n    <tr>\n      <th>41</th>\n      <td>B0019</td>\n      <td>0.000000</td>\n      <td>0.000000e+00</td>\n      <td>0.000000e+00</td>\n      <td>0.000000</td>\n      <td>0.0</td>\n      <td>0.0</td>\n      <td>0.000000</td>\n      <td>0</td>\n      <td>0.0</td>\n      <td>...</td>\n      <td>0</td>\n      <td>3.786370e+05</td>\n      <td>0</td>\n      <td>0</td>\n      <td>0.0</td>\n      <td>0.000000</td>\n      <td>0.000000</td>\n      <td>0</td>\n      <td>0</td>\n      <td>0.0</td>\n    </tr>\n    <tr>\n      <th>40</th>\n      <td>B0021</td>\n      <td>0.000000</td>\n      <td>0.000000e+00</td>\n      <td>0.000000e+00</td>\n      <td>0.000000</td>\n      <td>0.0</td>\n      <td>0.0</td>\n      <td>0.000000</td>\n      <td>0</td>\n      <td>0.0</td>\n      <td>...</td>\n      <td>0</td>\n      <td>9.421463e+05</td>\n      <td>0</td>\n      <td>0</td>\n      <td>0.0</td>\n      <td>0.000000</td>\n      <td>0.000000</td>\n      <td>0</td>\n      <td>0</td>\n      <td>0.0</td>\n    </tr>\n    <tr>\n      <th>38</th>\n      <td>B0023</td>\n      <td>0.000000</td>\n      <td>0.000000e+00</td>\n      <td>0.000000e+00</td>\n      <td>0.000000</td>\n      <td>0.0</td>\n      <td>0.0</td>\n      <td>0.000000</td>\n      <td>0</td>\n      <td>0.0</td>\n      <td>...</td>\n      <td>0</td>\n      <td>1.809062e+06</td>\n      <td>0</td>\n      <td>0</td>\n      <td>0.0</td>\n      <td>0.000000</td>\n      <td>0.000000</td>\n      <td>0</td>\n      <td>0</td>\n      <td>0.0</td>\n    </tr>\n    <tr>\n      <th>...</th>\n      <td>...</td>\n      <td>...</td>\n      <td>...</td>\n      <td>...</td>\n      <td>...</td>\n      <td>...</td>\n      <td>...</td>\n      <td>...</td>\n      <td>...</td>\n      <td>...</td>\n      <td>...</td>\n      <td>...</td>\n      <td>...</td>\n      <td>...</td>\n      <td>...</td>\n      <td>...</td>\n      <td>...</td>\n      <td>...</td>\n      <td>...</td>\n      <td>...</td>\n      <td>...</td>\n    </tr>\n    <tr>\n      <th>0</th>\n      <td>F0069</td>\n      <td>0.000000</td>\n      <td>1.064122e+06</td>\n      <td>3.587087e+05</td>\n      <td>0.000000</td>\n      <td>0.0</td>\n      <td>0.0</td>\n      <td>0.000000</td>\n      <td>0</td>\n      <td>0.0</td>\n      <td>...</td>\n      <td>0</td>\n      <td>0.000000e+00</td>\n      <td>0</td>\n      <td>0</td>\n      <td>0.0</td>\n      <td>0.000000</td>\n      <td>0.000000</td>\n      <td>0</td>\n      <td>0</td>\n      <td>0.0</td>\n    </tr>\n    <tr>\n      <th>5</th>\n      <td>F0071</td>\n      <td>0.000000</td>\n      <td>0.000000e+00</td>\n      <td>2.891049e+05</td>\n      <td>0.000000</td>\n      <td>0.0</td>\n      <td>0.0</td>\n      <td>61128.361328</td>\n      <td>0</td>\n      <td>0.0</td>\n      <td>...</td>\n      <td>0</td>\n      <td>0.000000e+00</td>\n      <td>0</td>\n      <td>0</td>\n      <td>0.0</td>\n      <td>0.000000</td>\n      <td>643979.018311</td>\n      <td>0</td>\n      <td>0</td>\n      <td>0.0</td>\n    </tr>\n    <tr>\n      <th>6</th>\n      <td>F0073</td>\n      <td>0.000000</td>\n      <td>0.000000e+00</td>\n      <td>0.000000e+00</td>\n      <td>0.000000</td>\n      <td>0.0</td>\n      <td>0.0</td>\n      <td>0.000000</td>\n      <td>0</td>\n      <td>0.0</td>\n      <td>...</td>\n      <td>0</td>\n      <td>0.000000e+00</td>\n      <td>0</td>\n      <td>0</td>\n      <td>0.0</td>\n      <td>0.000000</td>\n      <td>0.000000</td>\n      <td>0</td>\n      <td>0</td>\n      <td>0.0</td>\n    </tr>\n    <tr>\n      <th>17</th>\n      <td>F0075</td>\n      <td>0.000000</td>\n      <td>1.687705e+06</td>\n      <td>4.422800e+05</td>\n      <td>3378.383301</td>\n      <td>0.0</td>\n      <td>0.0</td>\n      <td>0.000000</td>\n      <td>0</td>\n      <td>0.0</td>\n      <td>...</td>\n      <td>0</td>\n      <td>0.000000e+00</td>\n      <td>0</td>\n      <td>0</td>\n      <td>0.0</td>\n      <td>0.000000</td>\n      <td>0.000000</td>\n      <td>0</td>\n      <td>0</td>\n      <td>0.0</td>\n    </tr>\n    <tr>\n      <th>51</th>\n      <td>FE0001</td>\n      <td>0.000000</td>\n      <td>4.066819e+05</td>\n      <td>0.000000e+00</td>\n      <td>0.000000</td>\n      <td>0.0</td>\n      <td>0.0</td>\n      <td>0.000000</td>\n      <td>0</td>\n      <td>0.0</td>\n      <td>...</td>\n      <td>0</td>\n      <td>0.000000e+00</td>\n      <td>0</td>\n      <td>0</td>\n      <td>0.0</td>\n      <td>0.000000</td>\n      <td>0.000000</td>\n      <td>0</td>\n      <td>0</td>\n      <td>0.0</td>\n    </tr>\n  </tbody>\n</table>\n<p>63 rows × 45 columns</p>\n</div>"
     },
     "metadata": {},
     "execution_count": 10
    }
   ],
   "source": [
    "surf.sort_values(by='Site')"
   ]
  },
  {
   "cell_type": "code",
   "execution_count": 5,
   "metadata": {},
   "outputs": [
    {
     "output_type": "execute_result",
     "data": {
      "text/plain": [
       "(63, 45)"
      ]
     },
     "metadata": {},
     "execution_count": 5
    }
   ],
   "source": [
    "surf.shape"
   ]
  },
  {
   "cell_type": "code",
   "execution_count": 13,
   "metadata": {},
   "outputs": [
    {
     "output_type": "execute_result",
     "data": {
      "text/plain": [
       "Index(['Site', '111', '112', '121', '122', '123', '124', '131', '132', '133',\n",
       "       '141', '142', '211', '212', '213', '221', '222', '223', '231', '241',\n",
       "       '242', '243', '244', '311', '312', '313', '321', '322', '323', '324',\n",
       "       '331', '332', '333', '334', '335', '411', '412', '421', '422', '423',\n",
       "       '511', '512', '521', '522', '523'],\n",
       "      dtype='object')"
      ]
     },
     "metadata": {},
     "execution_count": 13
    }
   ],
   "source": [
    "surf.columns"
   ]
  },
  {
   "cell_type": "code",
   "execution_count": 16,
   "metadata": {},
   "outputs": [],
   "source": [
    "for col in surf.columns:\n",
    "    if str(col) == 'Site':\n",
    "        pass\n",
    "    else:\n",
    "        clc1 = int(int(col)/100)\n",
    "        clc2 = int(int(col)/10)\n",
    "        if str(clc1) in surf.columns:\n",
    "            surf[str(clc1)] += surf[col]\n",
    "        else:\n",
    "            surf[str(clc1)] = surf[col]\n",
    "        if str(clc2) in surf.columns:\n",
    "            surf[str(clc2)] += surf[col]\n",
    "        else:\n",
    "            surf[str(clc2)] = surf[col]\n",
    "    "
   ]
  },
  {
   "cell_type": "code",
   "execution_count": 17,
   "metadata": {},
   "outputs": [
    {
     "output_type": "execute_result",
     "data": {
      "text/plain": [
       "     Site  111           112           121            122  123  124  131  132  \\\n",
       "0   F0069  0.0  1.064122e+06  3.587087e+05       0.000000  0.0  0.0  0.0    0   \n",
       "1   F0025  0.0  0.000000e+00  0.000000e+00  412752.692383  0.0  0.0  0.0    0   \n",
       "2   F0027  0.0  2.741746e+05  0.000000e+00       0.000000  0.0  0.0  0.0    0   \n",
       "3   B0128  0.0  2.470089e+06  4.053755e+06  497496.251770  0.0  0.0  0.0    0   \n",
       "4   F0023  0.0  0.000000e+00  2.559254e+05       0.000000  0.0  0.0  0.0    0   \n",
       "..    ...  ...           ...           ...            ...  ...  ...  ...  ...   \n",
       "58  F0007  0.0  0.000000e+00  0.000000e+00       0.000000  0.0  0.0  0.0    0   \n",
       "59  B0069  0.0  8.704243e+05  0.000000e+00       0.000000  0.0  0.0  0.0    0   \n",
       "60  B0152  0.0  4.575279e+06  5.726391e+05  201434.000214  0.0  0.0  0.0    0   \n",
       "61  F0003  0.0  3.425116e+05  0.000000e+00       0.000000  0.0  0.0  0.0    0   \n",
       "62  B0158  0.0  1.467398e+05  0.000000e+00  318178.187439  0.0  0.0  0.0    0   \n",
       "\n",
       "    133  ...             3            31             32   33    4   41   42  \\\n",
       "0   0.0  ...  2.550014e+05  2.550014e+05       0.000000  0.0  0.0  0.0  0.0   \n",
       "1   0.0  ...  5.017221e+06  4.498313e+06  518907.404297  0.0  0.0  0.0  0.0   \n",
       "2   0.0  ...  3.212519e+06  3.212519e+06       0.000000  0.0  0.0  0.0  0.0   \n",
       "3   0.0  ...  0.000000e+00  0.000000e+00       0.000000  0.0  0.0  0.0  0.0   \n",
       "4   0.0  ...  2.961621e+06  2.938245e+06   23375.861328  0.0  0.0  0.0  0.0   \n",
       "..  ...  ...           ...           ...            ...  ...  ...  ...  ...   \n",
       "58  0.0  ...  3.267290e+06  3.267290e+06       0.000000  0.0  0.0  0.0  0.0   \n",
       "59  0.0  ...  2.383795e+05  2.383795e+05       0.000000  0.0  0.0  0.0  0.0   \n",
       "60  0.0  ...  3.416169e+05  0.000000e+00  341616.858246  0.0  0.0  0.0  0.0   \n",
       "61  0.0  ...  6.079848e+06  6.079848e+06       0.000000  0.0  0.0  0.0  0.0   \n",
       "62  0.0  ...  0.000000e+00  0.000000e+00       0.000000  0.0  0.0  0.0  0.0   \n",
       "\n",
       "                5             51   52  \n",
       "0        0.000000       0.000000  0.0  \n",
       "1        0.000000       0.000000  0.0  \n",
       "2        0.000000       0.000000  0.0  \n",
       "3        0.000000       0.000000  0.0  \n",
       "4   284728.392578  284728.392578  0.0  \n",
       "..            ...            ...  ...  \n",
       "58       0.000000       0.000000  0.0  \n",
       "59       0.000000       0.000000  0.0  \n",
       "60       0.000000       0.000000  0.0  \n",
       "61       0.000000       0.000000  0.0  \n",
       "62       0.000000       0.000000  0.0  \n",
       "\n",
       "[63 rows x 65 columns]"
      ],
      "text/html": "<div>\n<style scoped>\n    .dataframe tbody tr th:only-of-type {\n        vertical-align: middle;\n    }\n\n    .dataframe tbody tr th {\n        vertical-align: top;\n    }\n\n    .dataframe thead th {\n        text-align: right;\n    }\n</style>\n<table border=\"1\" class=\"dataframe\">\n  <thead>\n    <tr style=\"text-align: right;\">\n      <th></th>\n      <th>Site</th>\n      <th>111</th>\n      <th>112</th>\n      <th>121</th>\n      <th>122</th>\n      <th>123</th>\n      <th>124</th>\n      <th>131</th>\n      <th>132</th>\n      <th>133</th>\n      <th>...</th>\n      <th>3</th>\n      <th>31</th>\n      <th>32</th>\n      <th>33</th>\n      <th>4</th>\n      <th>41</th>\n      <th>42</th>\n      <th>5</th>\n      <th>51</th>\n      <th>52</th>\n    </tr>\n  </thead>\n  <tbody>\n    <tr>\n      <th>0</th>\n      <td>F0069</td>\n      <td>0.0</td>\n      <td>1.064122e+06</td>\n      <td>3.587087e+05</td>\n      <td>0.000000</td>\n      <td>0.0</td>\n      <td>0.0</td>\n      <td>0.0</td>\n      <td>0</td>\n      <td>0.0</td>\n      <td>...</td>\n      <td>2.550014e+05</td>\n      <td>2.550014e+05</td>\n      <td>0.000000</td>\n      <td>0.0</td>\n      <td>0.0</td>\n      <td>0.0</td>\n      <td>0.0</td>\n      <td>0.000000</td>\n      <td>0.000000</td>\n      <td>0.0</td>\n    </tr>\n    <tr>\n      <th>1</th>\n      <td>F0025</td>\n      <td>0.0</td>\n      <td>0.000000e+00</td>\n      <td>0.000000e+00</td>\n      <td>412752.692383</td>\n      <td>0.0</td>\n      <td>0.0</td>\n      <td>0.0</td>\n      <td>0</td>\n      <td>0.0</td>\n      <td>...</td>\n      <td>5.017221e+06</td>\n      <td>4.498313e+06</td>\n      <td>518907.404297</td>\n      <td>0.0</td>\n      <td>0.0</td>\n      <td>0.0</td>\n      <td>0.0</td>\n      <td>0.000000</td>\n      <td>0.000000</td>\n      <td>0.0</td>\n    </tr>\n    <tr>\n      <th>2</th>\n      <td>F0027</td>\n      <td>0.0</td>\n      <td>2.741746e+05</td>\n      <td>0.000000e+00</td>\n      <td>0.000000</td>\n      <td>0.0</td>\n      <td>0.0</td>\n      <td>0.0</td>\n      <td>0</td>\n      <td>0.0</td>\n      <td>...</td>\n      <td>3.212519e+06</td>\n      <td>3.212519e+06</td>\n      <td>0.000000</td>\n      <td>0.0</td>\n      <td>0.0</td>\n      <td>0.0</td>\n      <td>0.0</td>\n      <td>0.000000</td>\n      <td>0.000000</td>\n      <td>0.0</td>\n    </tr>\n    <tr>\n      <th>3</th>\n      <td>B0128</td>\n      <td>0.0</td>\n      <td>2.470089e+06</td>\n      <td>4.053755e+06</td>\n      <td>497496.251770</td>\n      <td>0.0</td>\n      <td>0.0</td>\n      <td>0.0</td>\n      <td>0</td>\n      <td>0.0</td>\n      <td>...</td>\n      <td>0.000000e+00</td>\n      <td>0.000000e+00</td>\n      <td>0.000000</td>\n      <td>0.0</td>\n      <td>0.0</td>\n      <td>0.0</td>\n      <td>0.0</td>\n      <td>0.000000</td>\n      <td>0.000000</td>\n      <td>0.0</td>\n    </tr>\n    <tr>\n      <th>4</th>\n      <td>F0023</td>\n      <td>0.0</td>\n      <td>0.000000e+00</td>\n      <td>2.559254e+05</td>\n      <td>0.000000</td>\n      <td>0.0</td>\n      <td>0.0</td>\n      <td>0.0</td>\n      <td>0</td>\n      <td>0.0</td>\n      <td>...</td>\n      <td>2.961621e+06</td>\n      <td>2.938245e+06</td>\n      <td>23375.861328</td>\n      <td>0.0</td>\n      <td>0.0</td>\n      <td>0.0</td>\n      <td>0.0</td>\n      <td>284728.392578</td>\n      <td>284728.392578</td>\n      <td>0.0</td>\n    </tr>\n    <tr>\n      <th>...</th>\n      <td>...</td>\n      <td>...</td>\n      <td>...</td>\n      <td>...</td>\n      <td>...</td>\n      <td>...</td>\n      <td>...</td>\n      <td>...</td>\n      <td>...</td>\n      <td>...</td>\n      <td>...</td>\n      <td>...</td>\n      <td>...</td>\n      <td>...</td>\n      <td>...</td>\n      <td>...</td>\n      <td>...</td>\n      <td>...</td>\n      <td>...</td>\n      <td>...</td>\n      <td>...</td>\n    </tr>\n    <tr>\n      <th>58</th>\n      <td>F0007</td>\n      <td>0.0</td>\n      <td>0.000000e+00</td>\n      <td>0.000000e+00</td>\n      <td>0.000000</td>\n      <td>0.0</td>\n      <td>0.0</td>\n      <td>0.0</td>\n      <td>0</td>\n      <td>0.0</td>\n      <td>...</td>\n      <td>3.267290e+06</td>\n      <td>3.267290e+06</td>\n      <td>0.000000</td>\n      <td>0.0</td>\n      <td>0.0</td>\n      <td>0.0</td>\n      <td>0.0</td>\n      <td>0.000000</td>\n      <td>0.000000</td>\n      <td>0.0</td>\n    </tr>\n    <tr>\n      <th>59</th>\n      <td>B0069</td>\n      <td>0.0</td>\n      <td>8.704243e+05</td>\n      <td>0.000000e+00</td>\n      <td>0.000000</td>\n      <td>0.0</td>\n      <td>0.0</td>\n      <td>0.0</td>\n      <td>0</td>\n      <td>0.0</td>\n      <td>...</td>\n      <td>2.383795e+05</td>\n      <td>2.383795e+05</td>\n      <td>0.000000</td>\n      <td>0.0</td>\n      <td>0.0</td>\n      <td>0.0</td>\n      <td>0.0</td>\n      <td>0.000000</td>\n      <td>0.000000</td>\n      <td>0.0</td>\n    </tr>\n    <tr>\n      <th>60</th>\n      <td>B0152</td>\n      <td>0.0</td>\n      <td>4.575279e+06</td>\n      <td>5.726391e+05</td>\n      <td>201434.000214</td>\n      <td>0.0</td>\n      <td>0.0</td>\n      <td>0.0</td>\n      <td>0</td>\n      <td>0.0</td>\n      <td>...</td>\n      <td>3.416169e+05</td>\n      <td>0.000000e+00</td>\n      <td>341616.858246</td>\n      <td>0.0</td>\n      <td>0.0</td>\n      <td>0.0</td>\n      <td>0.0</td>\n      <td>0.000000</td>\n      <td>0.000000</td>\n      <td>0.0</td>\n    </tr>\n    <tr>\n      <th>61</th>\n      <td>F0003</td>\n      <td>0.0</td>\n      <td>3.425116e+05</td>\n      <td>0.000000e+00</td>\n      <td>0.000000</td>\n      <td>0.0</td>\n      <td>0.0</td>\n      <td>0.0</td>\n      <td>0</td>\n      <td>0.0</td>\n      <td>...</td>\n      <td>6.079848e+06</td>\n      <td>6.079848e+06</td>\n      <td>0.000000</td>\n      <td>0.0</td>\n      <td>0.0</td>\n      <td>0.0</td>\n      <td>0.0</td>\n      <td>0.000000</td>\n      <td>0.000000</td>\n      <td>0.0</td>\n    </tr>\n    <tr>\n      <th>62</th>\n      <td>B0158</td>\n      <td>0.0</td>\n      <td>1.467398e+05</td>\n      <td>0.000000e+00</td>\n      <td>318178.187439</td>\n      <td>0.0</td>\n      <td>0.0</td>\n      <td>0.0</td>\n      <td>0</td>\n      <td>0.0</td>\n      <td>...</td>\n      <td>0.000000e+00</td>\n      <td>0.000000e+00</td>\n      <td>0.000000</td>\n      <td>0.0</td>\n      <td>0.0</td>\n      <td>0.0</td>\n      <td>0.0</td>\n      <td>0.000000</td>\n      <td>0.000000</td>\n      <td>0.0</td>\n    </tr>\n  </tbody>\n</table>\n<p>63 rows × 65 columns</p>\n</div>"
     },
     "metadata": {},
     "execution_count": 17
    }
   ],
   "source": [
    "surf"
   ]
  },
  {
   "cell_type": "code",
   "execution_count": null,
   "metadata": {},
   "outputs": [],
   "source": []
  }
 ]
}