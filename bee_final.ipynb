{
 "cells": [
  {
   "cell_type": "markdown",
   "metadata": {},
   "source": [
    "# Beeodiversity challenge: Could bees predict the soil pollution?\n",
    "###### Yellow Farm is a cooperative organization that is growing organic peers and apples. They are currently based in south east of Brussels and they are looking for a new orchard implementation. This area should contain a great versatility of insects (especially pollinators) and should bee be free from pesticides to keep their organic label.\n"
   ]
  },
  {
   "cell_type": "code",
   "execution_count": 2,
   "metadata": {},
   "outputs": [],
   "source": [
    "# import related libraries\n",
    "\n",
    "import pandas as pd\n",
    "import numpy as np\n",
    "import seaborn as sns\n",
    "import matplotlib.pyplot as plt"
   ]
  },
  {
   "cell_type": "markdown",
   "metadata": {},
   "source": [
    "# Import Heavy Metals dataset, data exploration and preparation"
   ]
  },
  {
   "cell_type": "code",
   "execution_count": 3,
   "metadata": {},
   "outputs": [],
   "source": [
    "# heavy metals from 2017 to 2020\n",
    "hm1 = pd.read_excel('data/2017/HM/HM_2017_P1.xlsx')\n",
    "hm2 = pd.read_excel('data/2017/HM/HM_2017_P2.xlsx')\n",
    "hm3 = pd.read_excel('data/2017/HM/HM_2017_P3.xlsx')\n",
    "hm4 = pd.read_excel('data/2017/HM/HM_2017_P4.xlsx')\n",
    "hm5 = pd.read_excel('data/2018/HM/HM_2018_P1.xlsx')\n",
    "hm6 = pd.read_excel('data/2018/HM/HM_2018_P2.xlsx')\n",
    "hm7 = pd.read_excel('data/2018/HM/HM_2018_P3.xlsx')\n",
    "hm8 = pd.read_excel('data/2018/HM/HM_2018_P4.xlsx')\n",
    "hm9 = pd.read_excel('data/2019/HM/HM_2019_P1.xlsx')\n",
    "hm10 = pd.read_excel('data/2019/HM/HM_2019_P2.xlsx')\n",
    "hm11 = pd.read_excel('data/2019/HM/HM_2019_P3.xlsx')\n",
    "hm12 = pd.read_excel('data/2019/HM/HM_2019_P4.xlsx')\n",
    "hm13 = pd.read_excel('data/2020/HM/HM_2020_P1.xlsx')\n",
    "hm14 = pd.read_excel('data/2020/HM/HM_2020_P2.xlsx')\n",
    "hm15 = pd.read_excel('data/2020/HM/HM_2020_P3.xlsx')\n",
    "hm16 = pd.read_excel('data/2020/HM/HM_2020_P4.xlsx')\n"
   ]
  },
  {
   "cell_type": "code",
   "execution_count": 4,
   "metadata": {},
   "outputs": [],
   "source": [
    "list1 = [hm1, hm2, hm3, hm4, hm5, hm6, hm7, hm8, hm9, hm10, hm11, hm12, hm13, hm14, hm15, hm16]\n",
    "\n",
    "# checking for columns dispositons\n",
    "#for i in list1:\n",
    " #   print(i.columns)"
   ]
  },
  {
   "cell_type": "code",
   "execution_count": 5,
   "metadata": {},
   "outputs": [],
   "source": [
    "# join the hm datasets\n",
    "hm = pd.concat([hm1, hm2, hm3, hm4, hm5, hm6, hm7, hm8, hm9, hm10, hm11, hm12, hm13, hm14, hm15, hm16], axis=0)"
   ]
  },
  {
   "cell_type": "code",
   "execution_count": 6,
   "metadata": {},
   "outputs": [],
   "source": [
    "#hm"
   ]
  },
  {
   "cell_type": "code",
   "execution_count": 6,
   "metadata": {},
   "outputs": [
    {
     "data": {
      "text/html": [
       "<div>\n",
       "<style scoped>\n",
       "    .dataframe tbody tr th:only-of-type {\n",
       "        vertical-align: middle;\n",
       "    }\n",
       "\n",
       "    .dataframe tbody tr th {\n",
       "        vertical-align: top;\n",
       "    }\n",
       "\n",
       "    .dataframe thead th {\n",
       "        text-align: right;\n",
       "    }\n",
       "</style>\n",
       "<table border=\"1\" class=\"dataframe\">\n",
       "  <thead>\n",
       "    <tr style=\"text-align: right;\">\n",
       "      <th></th>\n",
       "      <th>count</th>\n",
       "      <th>mean</th>\n",
       "      <th>std</th>\n",
       "      <th>min</th>\n",
       "      <th>25%</th>\n",
       "      <th>50%</th>\n",
       "      <th>75%</th>\n",
       "      <th>max</th>\n",
       "    </tr>\n",
       "  </thead>\n",
       "  <tbody>\n",
       "    <tr>\n",
       "      <th>Lead</th>\n",
       "      <td>431.0</td>\n",
       "      <td>0.221285</td>\n",
       "      <td>0.322265</td>\n",
       "      <td>0.000</td>\n",
       "      <td>0.06250</td>\n",
       "      <td>0.130</td>\n",
       "      <td>0.24500</td>\n",
       "      <td>3.000</td>\n",
       "    </tr>\n",
       "    <tr>\n",
       "      <th>Cadmium</th>\n",
       "      <td>431.0</td>\n",
       "      <td>0.186947</td>\n",
       "      <td>0.221463</td>\n",
       "      <td>0.011</td>\n",
       "      <td>0.06000</td>\n",
       "      <td>0.110</td>\n",
       "      <td>0.22000</td>\n",
       "      <td>2.100</td>\n",
       "    </tr>\n",
       "    <tr>\n",
       "      <th>Arsenic</th>\n",
       "      <td>431.0</td>\n",
       "      <td>0.037369</td>\n",
       "      <td>0.040220</td>\n",
       "      <td>0.000</td>\n",
       "      <td>0.00000</td>\n",
       "      <td>0.037</td>\n",
       "      <td>0.05700</td>\n",
       "      <td>0.340</td>\n",
       "    </tr>\n",
       "    <tr>\n",
       "      <th>Mercury</th>\n",
       "      <td>431.0</td>\n",
       "      <td>0.000427</td>\n",
       "      <td>0.002567</td>\n",
       "      <td>0.000</td>\n",
       "      <td>0.00000</td>\n",
       "      <td>0.000</td>\n",
       "      <td>0.00000</td>\n",
       "      <td>0.042</td>\n",
       "    </tr>\n",
       "    <tr>\n",
       "      <th>Copper</th>\n",
       "      <td>431.0</td>\n",
       "      <td>7.972158</td>\n",
       "      <td>2.809016</td>\n",
       "      <td>0.000</td>\n",
       "      <td>6.60000</td>\n",
       "      <td>7.700</td>\n",
       "      <td>9.00000</td>\n",
       "      <td>37.000</td>\n",
       "    </tr>\n",
       "    <tr>\n",
       "      <th>Chromium</th>\n",
       "      <td>66.0</td>\n",
       "      <td>0.088727</td>\n",
       "      <td>0.144092</td>\n",
       "      <td>0.000</td>\n",
       "      <td>0.02725</td>\n",
       "      <td>0.044</td>\n",
       "      <td>0.11225</td>\n",
       "      <td>1.100</td>\n",
       "    </tr>\n",
       "    <tr>\n",
       "      <th>Zinc</th>\n",
       "      <td>431.0</td>\n",
       "      <td>38.679814</td>\n",
       "      <td>10.387808</td>\n",
       "      <td>15.000</td>\n",
       "      <td>32.00000</td>\n",
       "      <td>37.000</td>\n",
       "      <td>44.00000</td>\n",
       "      <td>108.000</td>\n",
       "    </tr>\n",
       "    <tr>\n",
       "      <th>Chrome</th>\n",
       "      <td>365.0</td>\n",
       "      <td>0.107748</td>\n",
       "      <td>0.091180</td>\n",
       "      <td>0.015</td>\n",
       "      <td>0.05100</td>\n",
       "      <td>0.081</td>\n",
       "      <td>0.12000</td>\n",
       "      <td>0.710</td>\n",
       "    </tr>\n",
       "  </tbody>\n",
       "</table>\n",
       "</div>"
      ],
      "text/plain": [
       "          count       mean        std     min       25%     50%       75%  \\\n",
       "Lead      431.0   0.221285   0.322265   0.000   0.06250   0.130   0.24500   \n",
       "Cadmium   431.0   0.186947   0.221463   0.011   0.06000   0.110   0.22000   \n",
       "Arsenic   431.0   0.037369   0.040220   0.000   0.00000   0.037   0.05700   \n",
       "Mercury   431.0   0.000427   0.002567   0.000   0.00000   0.000   0.00000   \n",
       "Copper    431.0   7.972158   2.809016   0.000   6.60000   7.700   9.00000   \n",
       "Chromium   66.0   0.088727   0.144092   0.000   0.02725   0.044   0.11225   \n",
       "Zinc      431.0  38.679814  10.387808  15.000  32.00000  37.000  44.00000   \n",
       "Chrome    365.0   0.107748   0.091180   0.015   0.05100   0.081   0.12000   \n",
       "\n",
       "              max  \n",
       "Lead        3.000  \n",
       "Cadmium     2.100  \n",
       "Arsenic     0.340  \n",
       "Mercury     0.042  \n",
       "Copper     37.000  \n",
       "Chromium    1.100  \n",
       "Zinc      108.000  \n",
       "Chrome      0.710  "
      ]
     },
     "execution_count": 6,
     "metadata": {},
     "output_type": "execute_result"
    }
   ],
   "source": [
    "hm.describe().T"
   ]
  },
  {
   "cell_type": "code",
   "execution_count": 7,
   "metadata": {},
   "outputs": [
    {
     "name": "stdout",
     "output_type": "stream",
     "text": [
      "Shape of Heavy metal = (431, 10)\n"
     ]
    }
   ],
   "source": [
    "print(f'Shape of Heavy metal = {hm.shape}')"
   ]
  },
  {
   "cell_type": "code",
   "execution_count": 8,
   "metadata": {},
   "outputs": [
    {
     "data": {
      "text/plain": [
       "REF....SUBSTANCE      0\n",
       "PERIOD                0\n",
       "Lead                  0\n",
       "Cadmium               0\n",
       "Arsenic               0\n",
       "Mercury               0\n",
       "Copper                0\n",
       "Chromium            365\n",
       "Zinc                  0\n",
       "Chrome               66\n",
       "dtype: int64"
      ]
     },
     "execution_count": 8,
     "metadata": {},
     "output_type": "execute_result"
    }
   ],
   "source": [
    "# null values\n",
    "hm.isna().sum()"
   ]
  },
  {
   "cell_type": "markdown",
   "metadata": {},
   "source": [
    "in 2020, chromium = chrome then we have to join the two columns"
   ]
  },
  {
   "cell_type": "code",
   "execution_count": 9,
   "metadata": {},
   "outputs": [],
   "source": [
    "# fill nan values of chrome with chromium values\n",
    "hm['Chrome'].fillna(hm['Chromium'], inplace=True)"
   ]
  },
  {
   "cell_type": "code",
   "execution_count": 10,
   "metadata": {},
   "outputs": [],
   "source": [
    "# drop chromium column\n",
    "hm.drop('Chromium', axis=1, inplace=True)"
   ]
  },
  {
   "cell_type": "code",
   "execution_count": 11,
   "metadata": {},
   "outputs": [
    {
     "data": {
      "text/plain": [
       "REF....SUBSTANCE    0\n",
       "PERIOD              0\n",
       "Lead                0\n",
       "Cadmium             0\n",
       "Arsenic             0\n",
       "Mercury             0\n",
       "Copper              0\n",
       "Zinc                0\n",
       "Chrome              0\n",
       "dtype: int64"
      ]
     },
     "execution_count": 11,
     "metadata": {},
     "output_type": "execute_result"
    }
   ],
   "source": [
    "# null values\n",
    "hm.isna().sum()"
   ]
  },
  {
   "cell_type": "code",
   "execution_count": 13,
   "metadata": {},
   "outputs": [
    {
     "name": "stdout",
     "output_type": "stream",
     "text": [
      "Shape of Heavy metal = (431, 9)\n"
     ]
    }
   ],
   "source": [
    "print(f'Shape of Heavy metal = {hm.shape}')"
   ]
  },
  {
   "cell_type": "code",
   "execution_count": 14,
   "metadata": {},
   "outputs": [],
   "source": [
    "#hm.describe().T"
   ]
  },
  {
   "cell_type": "code",
   "execution_count": 15,
   "metadata": {},
   "outputs": [],
   "source": [
    "#hm.sample(10)"
   ]
  },
  {
   "cell_type": "code",
   "execution_count": 16,
   "metadata": {},
   "outputs": [],
   "source": [
    "# heatmap to check correlation between columns\n",
    "# sns.heatmap(hm.corr(), cmap='coolwarm')"
   ]
  },
  {
   "cell_type": "code",
   "execution_count": 14,
   "metadata": {},
   "outputs": [
    {
     "data": {
      "text/plain": [
       "<seaborn.axisgrid.PairGrid at 0x2848f1bfb80>"
      ]
     },
     "execution_count": 14,
     "metadata": {},
     "output_type": "execute_result"
    },
    {
     "data": {
      "image/png": "[encoded data removed]",
      "text/plain": [
       "<Figure size 1260x1260 with 56 Axes>"
      ]
     },
     "metadata": {
      "needs_background": "light"
     },
     "output_type": "display_data"
    }
   ],
   "source": [
    "# pairplot\n",
    "sns.pairplot(hm.corr())"
   ]
  },
  {
   "cell_type": "markdown",
   "metadata": {},
   "source": [
    "we can see that the most correlate columns are Mercury, Arsenic and Lead.\n",
    "\n",
    "let's plot Lead  and Chrome and Lead and Arsenic"
   ]
  },
  {
   "cell_type": "code",
   "execution_count": 18,
   "metadata": {},
   "outputs": [],
   "source": [
    "# plt.figure(figsize=(10, 8))\n",
    "# sns.scatterplot(x='Lead', y='Chrome', data=hm)\n",
    "# plt.xlabel('Lead')\n",
    "# plt.ylabel('Chrome')\n",
    "# plt.legend()\n",
    "# plt.show()"
   ]
  },
  {
   "cell_type": "markdown",
   "metadata": {},
   "source": [
    "Lead and Chrome have a linear relation. but when Lead = 0, the relation is different (vertical line)"
   ]
  },
  {
   "cell_type": "code",
   "execution_count": 19,
   "metadata": {},
   "outputs": [],
   "source": [
    "# plt.figure(figsize=(10, 8))\n",
    "# sns.scatterplot(x='Lead', y='Arsenic', data=hm)\n",
    "# plt.xlabel('Lead')\n",
    "# plt.ylabel('Arsenic')\n",
    "# plt.legend()\n",
    "# plt.show()"
   ]
  },
  {
   "cell_type": "markdown",
   "metadata": {},
   "source": [
    "Similarly, we have a linear relation and when Arsenic=0, the relation change (horizontal line)"
   ]
  },
  {
   "cell_type": "code",
   "execution_count": 20,
   "metadata": {},
   "outputs": [],
   "source": [
    "#hm"
   ]
  },
  {
   "cell_type": "code",
   "execution_count": 21,
   "metadata": {},
   "outputs": [],
   "source": [
    "hm.rename(columns={\"REF....SUBSTANCE\" : 'Site'}, inplace=True)"
   ]
  },
  {
   "cell_type": "code",
   "execution_count": 22,
   "metadata": {},
   "outputs": [],
   "source": [
    "hm = hm.sort_values(by='Site')\n",
    "#hm"
   ]
  },
  {
   "cell_type": "code",
   "execution_count": 23,
   "metadata": {},
   "outputs": [],
   "source": [
    "hm = hm.groupby(['Site'], as_index=True).mean()"
   ]
  },
  {
   "cell_type": "code",
   "execution_count": 24,
   "metadata": {},
   "outputs": [],
   "source": [
    "# adding columns for MLR tresholds\n",
    "hm['mlr_Lead'] = np.where(hm['Lead'] > 1.5, 1, 0)\n",
    "hm['mlr_Cadmium'] = np.where(hm['Cadmium'] > 1, 1, 0)\n",
    "hm['mlr_Arsenic'] = np.where(hm['Arsenic'] > 0.3, 1, 0)\n",
    "hm['mlr_Mercury'] = np.where(hm['Mercury'] > 1, 1, 0)\n",
    "hm['mlr_Copper'] = np.where(hm['Copper'] > 30, 1, 0)\n",
    "hm['mlr_Zinc'] = np.where(hm['Zinc'] > 0, 1, 0)\n",
    "hm['mlr_Chrome'] = np.where(hm['Chrome'] > 0, 1, 0)"
   ]
  },
  {
   "cell_type": "code",
   "execution_count": 25,
   "metadata": {
    "scrolled": true
   },
   "outputs": [
    {
     "name": "stdout",
     "output_type": "stream",
     "text": [
      "0\n"
     ]
    }
   ],
   "source": [
    "hm.head(10)\n",
    "print(hm.isnull().sum().sum())"
   ]
  },
  {
   "cell_type": "code",
   "execution_count": 26,
   "metadata": {},
   "outputs": [],
   "source": [
    "#hm_T = hm.pivot_table(columns='Site')"
   ]
  },
  {
   "cell_type": "markdown",
   "metadata": {},
   "source": [
    "# Import surface dataset and preparation"
   ]
  },
  {
   "cell_type": "code",
   "execution_count": 27,
   "metadata": {},
   "outputs": [
    {
     "data": {
      "text/html": [
       "<div>\n",
       "<style scoped>\n",
       "    .dataframe tbody tr th:only-of-type {\n",
       "        vertical-align: middle;\n",
       "    }\n",
       "\n",
       "    .dataframe tbody tr th {\n",
       "        vertical-align: top;\n",
       "    }\n",
       "\n",
       "    .dataframe thead th {\n",
       "        text-align: right;\n",
       "    }\n",
       "</style>\n",
       "<table border=\"1\" class=\"dataframe\">\n",
       "  <thead>\n",
       "    <tr style=\"text-align: right;\">\n",
       "      <th></th>\n",
       "      <th>111</th>\n",
       "      <th>112</th>\n",
       "      <th>121</th>\n",
       "      <th>122</th>\n",
       "      <th>123</th>\n",
       "      <th>124</th>\n",
       "      <th>131</th>\n",
       "      <th>132</th>\n",
       "      <th>133</th>\n",
       "      <th>141</th>\n",
       "      <th>...</th>\n",
       "      <th>411</th>\n",
       "      <th>412</th>\n",
       "      <th>421</th>\n",
       "      <th>422</th>\n",
       "      <th>423</th>\n",
       "      <th>511</th>\n",
       "      <th>512</th>\n",
       "      <th>521</th>\n",
       "      <th>522</th>\n",
       "      <th>523</th>\n",
       "    </tr>\n",
       "    <tr>\n",
       "      <th>Site</th>\n",
       "      <th></th>\n",
       "      <th></th>\n",
       "      <th></th>\n",
       "      <th></th>\n",
       "      <th></th>\n",
       "      <th></th>\n",
       "      <th></th>\n",
       "      <th></th>\n",
       "      <th></th>\n",
       "      <th></th>\n",
       "      <th></th>\n",
       "      <th></th>\n",
       "      <th></th>\n",
       "      <th></th>\n",
       "      <th></th>\n",
       "      <th></th>\n",
       "      <th></th>\n",
       "      <th></th>\n",
       "      <th></th>\n",
       "      <th></th>\n",
       "      <th></th>\n",
       "    </tr>\n",
       "  </thead>\n",
       "  <tbody>\n",
       "    <tr>\n",
       "      <th>F0069</th>\n",
       "      <td>0.0</td>\n",
       "      <td>1.064122e+06</td>\n",
       "      <td>3.587087e+05</td>\n",
       "      <td>0.000000</td>\n",
       "      <td>0.0</td>\n",
       "      <td>0.0</td>\n",
       "      <td>0.0</td>\n",
       "      <td>0</td>\n",
       "      <td>0.0</td>\n",
       "      <td>0.0</td>\n",
       "      <td>...</td>\n",
       "      <td>0</td>\n",
       "      <td>0.0</td>\n",
       "      <td>0</td>\n",
       "      <td>0</td>\n",
       "      <td>0.0</td>\n",
       "      <td>0.0</td>\n",
       "      <td>0.000000</td>\n",
       "      <td>0</td>\n",
       "      <td>0</td>\n",
       "      <td>0.0</td>\n",
       "    </tr>\n",
       "    <tr>\n",
       "      <th>F0025</th>\n",
       "      <td>0.0</td>\n",
       "      <td>0.000000e+00</td>\n",
       "      <td>0.000000e+00</td>\n",
       "      <td>412752.692383</td>\n",
       "      <td>0.0</td>\n",
       "      <td>0.0</td>\n",
       "      <td>0.0</td>\n",
       "      <td>0</td>\n",
       "      <td>0.0</td>\n",
       "      <td>0.0</td>\n",
       "      <td>...</td>\n",
       "      <td>0</td>\n",
       "      <td>0.0</td>\n",
       "      <td>0</td>\n",
       "      <td>0</td>\n",
       "      <td>0.0</td>\n",
       "      <td>0.0</td>\n",
       "      <td>0.000000</td>\n",
       "      <td>0</td>\n",
       "      <td>0</td>\n",
       "      <td>0.0</td>\n",
       "    </tr>\n",
       "    <tr>\n",
       "      <th>F0027</th>\n",
       "      <td>0.0</td>\n",
       "      <td>2.741746e+05</td>\n",
       "      <td>0.000000e+00</td>\n",
       "      <td>0.000000</td>\n",
       "      <td>0.0</td>\n",
       "      <td>0.0</td>\n",
       "      <td>0.0</td>\n",
       "      <td>0</td>\n",
       "      <td>0.0</td>\n",
       "      <td>0.0</td>\n",
       "      <td>...</td>\n",
       "      <td>0</td>\n",
       "      <td>0.0</td>\n",
       "      <td>0</td>\n",
       "      <td>0</td>\n",
       "      <td>0.0</td>\n",
       "      <td>0.0</td>\n",
       "      <td>0.000000</td>\n",
       "      <td>0</td>\n",
       "      <td>0</td>\n",
       "      <td>0.0</td>\n",
       "    </tr>\n",
       "    <tr>\n",
       "      <th>B0128</th>\n",
       "      <td>0.0</td>\n",
       "      <td>2.470089e+06</td>\n",
       "      <td>4.053755e+06</td>\n",
       "      <td>497496.251770</td>\n",
       "      <td>0.0</td>\n",
       "      <td>0.0</td>\n",
       "      <td>0.0</td>\n",
       "      <td>0</td>\n",
       "      <td>0.0</td>\n",
       "      <td>0.0</td>\n",
       "      <td>...</td>\n",
       "      <td>0</td>\n",
       "      <td>0.0</td>\n",
       "      <td>0</td>\n",
       "      <td>0</td>\n",
       "      <td>0.0</td>\n",
       "      <td>0.0</td>\n",
       "      <td>0.000000</td>\n",
       "      <td>0</td>\n",
       "      <td>0</td>\n",
       "      <td>0.0</td>\n",
       "    </tr>\n",
       "    <tr>\n",
       "      <th>F0023</th>\n",
       "      <td>0.0</td>\n",
       "      <td>0.000000e+00</td>\n",
       "      <td>2.559254e+05</td>\n",
       "      <td>0.000000</td>\n",
       "      <td>0.0</td>\n",
       "      <td>0.0</td>\n",
       "      <td>0.0</td>\n",
       "      <td>0</td>\n",
       "      <td>0.0</td>\n",
       "      <td>0.0</td>\n",
       "      <td>...</td>\n",
       "      <td>0</td>\n",
       "      <td>0.0</td>\n",
       "      <td>0</td>\n",
       "      <td>0</td>\n",
       "      <td>0.0</td>\n",
       "      <td>0.0</td>\n",
       "      <td>284728.392578</td>\n",
       "      <td>0</td>\n",
       "      <td>0</td>\n",
       "      <td>0.0</td>\n",
       "    </tr>\n",
       "  </tbody>\n",
       "</table>\n",
       "<p>5 rows × 44 columns</p>\n",
       "</div>"
      ],
      "text/plain": [
       "       111           112           121            122  123  124  131  132  \\\n",
       "Site                                                                        \n",
       "F0069  0.0  1.064122e+06  3.587087e+05       0.000000  0.0  0.0  0.0    0   \n",
       "F0025  0.0  0.000000e+00  0.000000e+00  412752.692383  0.0  0.0  0.0    0   \n",
       "F0027  0.0  2.741746e+05  0.000000e+00       0.000000  0.0  0.0  0.0    0   \n",
       "B0128  0.0  2.470089e+06  4.053755e+06  497496.251770  0.0  0.0  0.0    0   \n",
       "F0023  0.0  0.000000e+00  2.559254e+05       0.000000  0.0  0.0  0.0    0   \n",
       "\n",
       "       133  141  ...  411  412  421  422  423  511            512  521  522  \\\n",
       "Site             ...                                                          \n",
       "F0069  0.0  0.0  ...    0  0.0    0    0  0.0  0.0       0.000000    0    0   \n",
       "F0025  0.0  0.0  ...    0  0.0    0    0  0.0  0.0       0.000000    0    0   \n",
       "F0027  0.0  0.0  ...    0  0.0    0    0  0.0  0.0       0.000000    0    0   \n",
       "B0128  0.0  0.0  ...    0  0.0    0    0  0.0  0.0       0.000000    0    0   \n",
       "F0023  0.0  0.0  ...    0  0.0    0    0  0.0  0.0  284728.392578    0    0   \n",
       "\n",
       "       523  \n",
       "Site        \n",
       "F0069  0.0  \n",
       "F0025  0.0  \n",
       "F0027  0.0  \n",
       "B0128  0.0  \n",
       "F0023  0.0  \n",
       "\n",
       "[5 rows x 44 columns]"
      ]
     },
     "execution_count": 27,
     "metadata": {},
     "output_type": "execute_result"
    }
   ],
   "source": [
    "#surf_hm = pd.read_csv('data/surf_hm.csv', index_col=0)\n",
    "#surf_hm.head\n",
    "surf_hm = pd.read_excel('data/absSurfs.xlsx', index_col=0)\n",
    "surf_hm.head(5)"
   ]
  },
  {
   "cell_type": "code",
   "execution_count": 28,
   "metadata": {},
   "outputs": [
    {
     "name": "stdout",
     "output_type": "stream",
     "text": [
      "(63, 44)\n",
      "0\n"
     ]
    },
    {
     "data": {
      "image/png": "[encoded data removed]",
      "text/plain": [
       "<Figure size 432x288 with 1 Axes>"
      ]
     },
     "metadata": {
      "needs_background": "light"
     },
     "output_type": "display_data"
    }
   ],
   "source": [
    "print(surf_hm.shape)\n",
    "print(surf_hm.isnull().sum().sum())\n",
    "area_check= surf_hm.sum(axis=1)\n",
    "area_check.plot()\n",
    "plt.show()\n"
   ]
  },
  {
   "cell_type": "code",
   "execution_count": 29,
   "metadata": {},
   "outputs": [
    {
     "data": {
      "text/plain": [
       "<bound method Series.max of Site\n",
       "F0069    15.4\n",
       "F0025    25.4\n",
       "F0027     9.8\n",
       "B0128    24.8\n",
       "F0023    22.0\n",
       "         ... \n",
       "F0007    17.1\n",
       "B0069    13.2\n",
       "B0152    26.6\n",
       "F0003    19.4\n",
       "B0158    45.7\n",
       "Length: 63, dtype: float64>"
      ]
     },
     "execution_count": 29,
     "metadata": {},
     "output_type": "execute_result"
    }
   ],
   "source": [
    "surf_hm = surf_hm.apply(lambda x: (x/surf_hm.sum() * 100).round(1), axis=1)\n",
    "check=surf_hm.sum(axis=1)\n",
    "check.max\n"
   ]
  },
  {
   "cell_type": "code",
   "execution_count": 30,
   "metadata": {},
   "outputs": [
    {
     "data": {
      "text/plain": [
       "Site\n",
       "F0069    100.0\n",
       "F0025    100.0\n",
       "F0027    100.1\n",
       "B0128     99.9\n",
       "F0023     99.9\n",
       "         ...  \n",
       "F0007    100.0\n",
       "B0069    100.0\n",
       "B0152    100.0\n",
       "F0003    100.0\n",
       "B0158     99.9\n",
       "Length: 63, dtype: float64"
      ]
     },
     "execution_count": 30,
     "metadata": {},
     "output_type": "execute_result"
    }
   ],
   "source": [
    "surf_hm_perc = surf_hm.apply(lambda x: (x/x.sum() * 100).round(1), axis=1)\n",
    "check=surf_hm_perc.sum(axis=1)\n",
    "check\n"
   ]
  },
  {
   "cell_type": "markdown",
   "metadata": {},
   "source": [
    "# Import pesticide prepared dataset\n",
    "## Mainf steps of preparation\n",
    "#### 1) select the most seen pesticides (>250 times), plot them on a heatmap and pair plot to see correlations\n",
    "#### 2) join different xls in a single dataset\n",
    "#### 3) keep only family (5 of them) for further calculation"
   ]
  },
  {
   "cell_type": "markdown",
   "metadata": {},
   "source": []
  },
  {
   "cell_type": "code",
   "execution_count": 31,
   "metadata": {},
   "outputs": [
    {
     "name": "stdout",
     "output_type": "stream",
     "text": [
      "(38, 5)\n"
     ]
    },
    {
     "data": {
      "text/plain": [
       "B0012    0.000000\n",
       "B0017    0.840909\n",
       "B0019    0.025000\n",
       "B0021    0.000000\n",
       "B0032    0.000000\n",
       "B0061    0.000000\n",
       "B0067    0.100000\n",
       "B0069    2.108636\n",
       "B0077    0.769545\n",
       "B0093    0.067727\n",
       "B0103    0.129091\n",
       "B0105    0.000000\n",
       "B0140    0.000000\n",
       "B0152    0.066818\n",
       "B0158    0.535455\n",
       "B0163    0.534545\n",
       "F0001    0.049545\n",
       "F0005    0.000000\n",
       "F0007    0.000000\n",
       "F0009    0.025909\n",
       "F0011    0.000000\n",
       "F0013    0.000000\n",
       "F0015    0.000000\n",
       "F0017    0.000000\n",
       "F0019    0.000000\n",
       "F0020    0.977045\n",
       "F0021    0.125909\n",
       "F0029    1.225606\n",
       "F0033    0.017273\n",
       "F0035    0.000000\n",
       "F0039    0.285000\n",
       "F0055    0.000000\n",
       "F0057    0.510000\n",
       "F0061    0.193333\n",
       "F0063    1.391364\n",
       "F0065    1.427273\n",
       "F0071    0.102500\n",
       "F0073    1.581212\n",
       "dtype: float64"
      ]
     },
     "execution_count": 31,
     "metadata": {},
     "output_type": "execute_result"
    }
   ],
   "source": [
    "pest=pd.read_csv('pest_prep.csv',index_col=0)\n",
    "pest.drop('LMR', axis=0, inplace=True)\n",
    "pest_inc = pest.apply(lambda x: x*100, axis=1)\n",
    "print(pest_inc.shape)\n",
    "check1=pest_inc.sum(axis=1)\n",
    "check1"
   ]
  },
  {
   "cell_type": "markdown",
   "metadata": {},
   "source": [
    "# Import distance dataset and preparation"
   ]
  },
  {
   "cell_type": "code",
   "execution_count": 32,
   "metadata": {},
   "outputs": [
    {
     "name": "stdout",
     "output_type": "stream",
     "text": [
      "    Site  classCLC         dist\n",
      "0  B0012       111  1020.033273\n",
      "1  B0012       112   564.609800\n",
      "2  B0012       121   117.220148\n",
      "3  B0012       242  1253.539431\n",
      "4  B0012       243   922.008813\n",
      "(384, 3) (632, 3)\n"
     ]
    }
   ],
   "source": [
    "dist_hm = pd.read_excel('data/distsOneSheet.xlsx')\n",
    "dist_hm.drop('polyID',axis=1, inplace=True)\n",
    "dist_hm_gr=dist_hm.groupby(['Site','classCLC'],as_index = False)['dist'].mean()\n",
    "print(dist_hm_gr.head(5))\n",
    "print(dist_hm_gr.shape, dist_hm.shape)"
   ]
  },
  {
   "cell_type": "markdown",
   "metadata": {},
   "source": [
    "### Transformation of distance data to reflect \"how close the hive is from the specific area\"\n",
    "##### 1) create new columns\n",
    "##### 2) scale non null distance with max distance value to get a decreasing distribution when the hive is further\n",
    "##### 3) replace null value arbitray 200 value to increase the weigh of having a hive with the land\n",
    "##### 4) replace NaN with nulls"
   ]
  },
  {
   "cell_type": "code",
   "execution_count": 34,
   "metadata": {},
   "outputs": [
    {
     "name": "stdout",
     "output_type": "stream",
     "text": [
      "classCLC\n",
      "111_d     87.889227\n",
      "112_d    200.000000\n",
      "121_d    200.000000\n",
      "122_d    100.000000\n",
      "123_d     99.675879\n",
      "124_d     65.680683\n",
      "131_d    200.000000\n",
      "133_d    100.000000\n",
      "141_d    100.000000\n",
      "142_d    200.000000\n",
      "211_d    200.000000\n",
      "221_d     73.143818\n",
      "231_d    200.000000\n",
      "242_d    200.000000\n",
      "243_d    200.000000\n",
      "311_d    200.000000\n",
      "312_d    200.000000\n",
      "313_d    200.000000\n",
      "322_d     98.927805\n",
      "324_d    100.000000\n",
      "331_d    100.000000\n",
      "412_d    200.000000\n",
      "423_d    100.000000\n",
      "511_d     88.282037\n",
      "512_d    100.000000\n",
      "523_d     93.469251\n",
      "dtype: float64\n"
     ]
    }
   ],
   "source": [
    "trans_dist_hm = dist_hm_gr.pivot(index='Site',columns = 'classCLC', values='dist')\n",
    "\n",
    "trans_dist_hm=trans_dist_hm.rename(columns=lambda x: str(x) +'_d')\n",
    "trans_dist_hm_perc = trans_dist_hm.apply(lambda x: (x/x.max())*100, axis=1)\n",
    "trans_dist_hm_perc=trans_dist_hm_perc.replace([0],200)\n",
    "trans_dist_hm_perc=trans_dist_hm_perc.fillna(0.0)\n",
    "#print(trans_dist_hm_perc.head(5))\n",
    "print(trans_dist_hm_perc.max())\n"
   ]
  },
  {
   "cell_type": "code",
   "execution_count": 35,
   "metadata": {},
   "outputs": [
    {
     "data": {
      "text/plain": [
       "0"
      ]
     },
     "execution_count": 35,
     "metadata": {},
     "output_type": "execute_result"
    }
   ],
   "source": [
    "trans_dist_hm_perc.isnull().sum().sum()\n"
   ]
  },
  {
   "cell_type": "markdown",
   "metadata": {},
   "source": [
    "# Modeling\n",
    "### Classification prediction \n",
    "#### 1) Are Lead, Zinc or Chrome are present in the soil above MRL value in the area?\n",
    "#### 2) Is Mercury is present in the soil in the surrounding area?\n",
    "#### 3) Is insecticide is present in the soil in the surrounding area?\n",
    "#### 4) Is fungicide is present in the soil in the surrounding area?\n",
    "#### 5) Is herbicide is present in the soil in the surrounding area?\n",
    "### Regression prediction \n",
    "#### Fail"
   ]
  },
  {
   "cell_type": "code",
   "execution_count": 38,
   "metadata": {},
   "outputs": [],
   "source": [
    "from sklearn.model_selection import train_test_split\n",
    "from sklearn.neighbors import KNeighborsClassifier\n",
    "from sklearn.preprocessing import StandardScaler\n",
    "from sklearn.pipeline import Pipeline\n",
    "from sklearn.metrics import accuracy_score\n",
    "from sklearn.metrics import classification_report\n",
    "from sklearn.model_selection import GridSearchCV\n",
    "from sklearn.svm import SVC\n",
    "from sklearn.preprocessing import scale \n",
    "from sklearn.preprocessing import StandardScaler\n",
    "from sklearn.pipeline import Pipeline"
   ]
  },
  {
   "cell_type": "markdown",
   "metadata": {},
   "source": [
    "#### 1) Are Lead, Zinc or Chrome are present in the soil above MRL value in the area?"
   ]
  },
  {
   "cell_type": "code",
   "execution_count": 66,
   "metadata": {},
   "outputs": [
    {
     "name": "stdout",
     "output_type": "stream",
     "text": [
      "Mean of Unscaled Features for mlr_Lead: 5.890071207558484\n",
      "Standard Deviation of Unscaled Features for mlr_Lead: 22.40346605333686\n",
      "Mean of Scaled Features for mlr_Lead: 8.985583175057957e-18\n",
      "Standard Deviation of Scaled Features for mlr_Lead: 0.8707707839849465\n",
      "Accuracy with Scaling for mlr_Lead: 1.0\n",
      "Accuracy without Scaling for mlr_Lead: 1.0\n",
      "Accuracy for mlr_Lead: 1.0\n",
      "              precision    recall  f1-score   support\n",
      "\n",
      "         0.0       1.00      1.00      1.00        13\n",
      "\n",
      "    accuracy                           1.00        13\n",
      "   macro avg       1.00      1.00      1.00        13\n",
      "weighted avg       1.00      1.00      1.00        13\n",
      "\n",
      "Tuned Model Parameters for mlr_Lead: {'SVM__C': 1, 'SVM__gamma': 0.1}\n",
      "Mean of Unscaled Features for mlr_Zinc: 5.8799543402987595\n",
      "Standard Deviation of Unscaled Features for mlr_Zinc: 22.40589766382656\n",
      "Mean of Scaled Features for mlr_Zinc: 6.8166493052163805e-18\n",
      "Standard Deviation of Scaled Features for mlr_Zinc: 0.8707707839849465\n",
      "Accuracy with Scaling for mlr_Zinc: 0.8947368421052632\n",
      "Accuracy without Scaling for mlr_Zinc: 0.8947368421052632\n",
      "Accuracy for mlr_Zinc: 0.9230769230769231\n",
      "              precision    recall  f1-score   support\n",
      "\n",
      "         0.0       0.00      0.00      0.00         1\n",
      "         1.0       0.92      1.00      0.96        12\n",
      "\n",
      "    accuracy                           0.92        13\n",
      "   macro avg       0.46      0.50      0.48        13\n",
      "weighted avg       0.85      0.92      0.89        13\n",
      "\n",
      "Tuned Model Parameters for mlr_Zinc: {'SVM__C': 1, 'SVM__gamma': 0.1}\n",
      "Mean of Unscaled Features for mlr_Chrome: 5.8799543402987595\n",
      "Standard Deviation of Unscaled Features for mlr_Chrome: 22.40589766382656\n",
      "Mean of Scaled Features for mlr_Chrome: 6.8166493052163805e-18\n",
      "Standard Deviation of Scaled Features for mlr_Chrome: 0.8707707839849465\n",
      "Accuracy with Scaling for mlr_Chrome: 0.8947368421052632\n",
      "Accuracy without Scaling for mlr_Chrome: 0.8947368421052632\n",
      "Accuracy for mlr_Chrome: 0.9230769230769231\n",
      "              precision    recall  f1-score   support\n",
      "\n",
      "         0.0       0.00      0.00      0.00         1\n",
      "         1.0       0.92      1.00      0.96        12\n",
      "\n",
      "    accuracy                           0.92        13\n",
      "   macro avg       0.46      0.50      0.48        13\n",
      "weighted avg       0.85      0.92      0.89        13\n",
      "\n",
      "Tuned Model Parameters for mlr_Chrome: {'SVM__C': 1, 'SVM__gamma': 0.1}\n"
     ]
    },
    {
     "name": "stderr",
     "output_type": "stream",
     "text": [
      "C:\\ProgramData\\Anaconda3\\lib\\site-packages\\sklearn\\metrics\\_classification.py:1221: UndefinedMetricWarning: Precision and F-score are ill-defined and being set to 0.0 in labels with no predicted samples. Use `zero_division` parameter to control this behavior.\n",
      "  _warn_prf(average, modifier, msg_start, len(result))\n",
      "C:\\ProgramData\\Anaconda3\\lib\\site-packages\\sklearn\\metrics\\_classification.py:1221: UndefinedMetricWarning: Precision and F-score are ill-defined and being set to 0.0 in labels with no predicted samples. Use `zero_division` parameter to control this behavior.\n",
      "  _warn_prf(average, modifier, msg_start, len(result))\n"
     ]
    }
   ],
   "source": [
    "#Classification for heavy metals MLR\n",
    "metals_list=[ 'mlr_Lead', 'mlr_Zinc', 'mlr_Chrome']\n",
    "for m in metals_list:\n",
    "    total = [surf_hm, hm,trans_dist_hm_perc,pest_inc]\n",
    "    df = pd.concat(total, axis = 1)\n",
    "    df =df.fillna(0.0)\n",
    "    X = df.drop(m , 1).values # drop target variable\n",
    "    y1 = df[m].values\n",
    "    y = y1\n",
    "    X_scaled = scale(X)\n",
    "    \n",
    "    print(\"Mean of Unscaled Features for {}: {}\".format(m,np.mean(X))) \n",
    "    print(\"Standard Deviation of Unscaled Features for {}: {}\".format(m,np.std(X)))\n",
    "    print(\"Mean of Scaled Features for {}: {}\".format(m,np.mean(X_scaled))) \n",
    "    print(\"Standard Deviation of Scaled Features for {}: {}\".format(m,np.std(X_scaled)))\n",
    "    \n",
    "    steps = [('scaler', StandardScaler()),\n",
    "        ('knn', KNeighborsClassifier())]\n",
    "        \n",
    "    pipeline = Pipeline(steps)\n",
    "\n",
    "    X_train, X_test, y_train, y_test = train_test_split(X, y, test_size=0.3, random_state=42)\n",
    "\n",
    "    knn_scaled = pipeline.fit(X_train, y_train)\n",
    "    knn_unscaled = KNeighborsClassifier().fit(X_train, y_train)\n",
    "\n",
    "    print('Accuracy with Scaling for {}: {}'.format(m,knn_scaled.score(X_test, y_test)))\n",
    "    print('Accuracy without Scaling for {}: {}'.format(m,knn_unscaled.score(X_test, y_test)))\n",
    "    steps = [('scaler', StandardScaler()),\n",
    "         ('SVM', SVC())]\n",
    "\n",
    "    pipeline = Pipeline(steps)\n",
    "\n",
    "    parameters = {'SVM__C':[1, 10, 100],\n",
    "              'SVM__gamma':[0.1, 0.01]}\n",
    "\n",
    "    X_train, X_test, y_train, y_test = train_test_split(X, y, test_size=0.2, random_state=21)\n",
    "\n",
    "    cv = GridSearchCV(pipeline, parameters, cv=2)\n",
    "\n",
    "    cv.fit(X_train, y_train)\n",
    "    y_pred = cv.predict(X_test)\n",
    "\n",
    "    print(\"Accuracy for {}: {}\".format(m,cv.score(X_test, y_test)))\n",
    "    print(classification_report(y_test, y_pred))\n",
    "    print(\"Tuned Model Parameters for {}: {}\".format(m,cv.best_params_))"
   ]
  },
  {
   "cell_type": "code",
   "execution_count": 67,
   "metadata": {},
   "outputs": [],
   "source": [
    "total = [surf_hm, hm,trans_dist_hm_perc,pest_inc]\n",
    "result = pd.concat(total, axis = 1)\n",
    "result = result.fillna(0)\n",
    "result.to_excel('global.xls')"
   ]
  },
  {
   "cell_type": "markdown",
   "metadata": {},
   "source": [
    "#### 2) Is Mercury  present in the soil in the surrounding area?"
   ]
  },
  {
   "cell_type": "code",
   "execution_count": 57,
   "metadata": {},
   "outputs": [
    {
     "name": "stdout",
     "output_type": "stream",
     "text": [
      "Index(['Lead', 'Cadmium', 'Arsenic', 'Mercury', 'Copper', 'Zinc', 'Chrome',\n",
      "       'mlr_Lead', 'mlr_Cadmium', 'mlr_Arsenic', 'mlr_Mercury', 'mlr_Copper',\n",
      "       'mlr_Zinc', 'mlr_Chrome', 'is_Mercury'],\n",
      "      dtype='object')\n",
      "Mean of Unscaled Features for Mercury: 6.020645078214672\n",
      "Standard Deviation of Unscaled Features for Mercury: 22.636627206443013\n",
      "Mean of Scaled Features for Mercury: 1.2355612045052571e-17\n",
      "Standard Deviation of Scaled Features for Mercury: 0.8740966444394034\n",
      "Accuracy with Scaling for Mercury: 0.7368421052631579\n",
      "Accuracy without Scaling for Mercury: 0.7368421052631579\n",
      "Accuracy for Mercury: 0.7368421052631579\n",
      "              precision    recall  f1-score   support\n",
      "\n",
      "         0.0       0.74      1.00      0.85        14\n",
      "         1.0       0.00      0.00      0.00         5\n",
      "\n",
      "    accuracy                           0.74        19\n",
      "   macro avg       0.37      0.50      0.42        19\n",
      "weighted avg       0.54      0.74      0.63        19\n",
      "\n",
      "Tuned Model Parameters for Mercury: {'SVM__C': 1, 'SVM__gamma': 0.1}\n"
     ]
    },
    {
     "name": "stderr",
     "output_type": "stream",
     "text": [
      "C:\\ProgramData\\Anaconda3\\lib\\site-packages\\sklearn\\metrics\\_classification.py:1221: UndefinedMetricWarning: Precision and F-score are ill-defined and being set to 0.0 in labels with no predicted samples. Use `zero_division` parameter to control this behavior.\n",
      "  _warn_prf(average, modifier, msg_start, len(result))\n"
     ]
    }
   ],
   "source": [
    "#Classification for mercury(presence or absence)\n",
    "#metals_list=[ 'mlr_Lead', 'mlr_Zinc', 'mlr_Chrome']\n",
    "#for m in metals_list:\n",
    "print(hm.columns)\n",
    "m='Mercury'\n",
    "hm['is_Mercury'] = np.where(hm['Mercury'] > 0, 1, 0)\n",
    "hm_Hg=hm.drop(['Mercury'],1)\n",
    "hm_Hg=hm_Hg.drop(['mlr_Mercury'],1)\n",
    "total = [surf_hm, hm_Hg,trans_dist_hm_perc,pest_inc]\n",
    "df = pd.concat(total, axis = 1)\n",
    "df =df.fillna(0.0)\n",
    "X = df.drop(['is_Mercury'] , 1).values # drop target variable\n",
    "y1 = df['is_Mercury'].values\n",
    "y = y1\n",
    "X_scaled = scale(X)\n",
    "\n",
    "print(\"Mean of Unscaled Features for {}: {}\".format(m,np.mean(X))) \n",
    "print(\"Standard Deviation of Unscaled Features for {}: {}\".format(m,np.std(X)))\n",
    "print(\"Mean of Scaled Features for {}: {}\".format(m,np.mean(X_scaled))) \n",
    "print(\"Standard Deviation of Scaled Features for {}: {}\".format(m,np.std(X_scaled)))\n",
    "\n",
    "steps = [('scaler', StandardScaler()),\n",
    "    ('knn', KNeighborsClassifier())]\n",
    "\n",
    "pipeline = Pipeline(steps)\n",
    "\n",
    "X_train, X_test, y_train, y_test = train_test_split(X, y, test_size=0.3, random_state=42)\n",
    "\n",
    "knn_scaled = pipeline.fit(X_train, y_train)\n",
    "knn_unscaled = KNeighborsClassifier().fit(X_train, y_train)\n",
    "\n",
    "print('Accuracy with Scaling for {}: {}'.format(m,knn_scaled.score(X_test, y_test)))\n",
    "print('Accuracy without Scaling for {}: {}'.format(m,knn_unscaled.score(X_test, y_test)))\n",
    "steps = [('scaler', StandardScaler()),\n",
    "     ('SVM', SVC())]\n",
    "\n",
    "pipeline = Pipeline(steps)\n",
    "\n",
    "parameters = {'SVM__C':[1, 10, 100],\n",
    "          'SVM__gamma':[0.1, 0.01]}\n",
    "\n",
    "X_train, X_test, y_train, y_test = train_test_split(X, y, test_size=0.3, random_state=42)\n",
    "\n",
    "cv = GridSearchCV(pipeline, parameters, cv=2)\n",
    "\n",
    "cv.fit(X_train, y_train)\n",
    "y_pred = cv.predict(X_test)\n",
    "\n",
    "print(\"Accuracy for {}: {}\".format(m,cv.score(X_test, y_test)))\n",
    "print(classification_report(y_test, y_pred))\n",
    "print(\"Tuned Model Parameters for {}: {}\".format(m,cv.best_params_))"
   ]
  },
  {
   "cell_type": "markdown",
   "metadata": {},
   "source": [
    "#### 3) Is insecticide  present in the soil in the surrounding area?"
   ]
  },
  {
   "cell_type": "code",
   "execution_count": 65,
   "metadata": {},
   "outputs": [
    {
     "name": "stdout",
     "output_type": "stream",
     "text": [
      "Index(['bird repellant', 'fungicide', 'fungicide and growth regulator',\n",
      "       'herbicide', 'insecticide', 'is_herbicide', 'is_insecticide'],\n",
      "      dtype='object')\n",
      "Mean of Unscaled Features for insecticide: 6.090442572189095\n",
      "Standard Deviation of Unscaled Features for insecticide: 22.75539164606703\n",
      "Mean of Scaled Features for insecticide: 1.1815144021083015e-17\n",
      "Standard Deviation of Scaled Features for insecticide: 0.8725615372932939\n",
      "Accuracy with Scaling for insecticide: 0.90625\n",
      "Accuracy without Scaling for insecticide: 0.90625\n",
      "              precision    recall  f1-score   support\n",
      "\n",
      "         0.0       0.91      1.00      0.95        29\n",
      "         1.0       0.00      0.00      0.00         3\n",
      "\n",
      "    accuracy                           0.91        32\n",
      "   macro avg       0.45      0.50      0.48        32\n",
      "weighted avg       0.82      0.91      0.86        32\n",
      "\n"
     ]
    },
    {
     "name": "stderr",
     "output_type": "stream",
     "text": [
      "C:\\ProgramData\\Anaconda3\\lib\\site-packages\\sklearn\\metrics\\_classification.py:1221: UndefinedMetricWarning: Precision and F-score are ill-defined and being set to 0.0 in labels with no predicted samples. Use `zero_division` parameter to control this behavior.\n",
      "  _warn_prf(average, modifier, msg_start, len(result))\n"
     ]
    }
   ],
   "source": [
    "#Classification for insecticide(presence or absence)\n",
    "\n",
    "print(pest_inc.columns)\n",
    "m='insecticide'\n",
    "pest_inc['is_insecticide'] = np.where(pest_inc['insecticide'] > 0, 1, 0)\n",
    "pest_inc_ins=pest_inc.drop(['insecticide'],1)\n",
    "#hm_Hg=hm_Hg.drop(['mlr_Mercury'],1)\n",
    "total = [surf_hm, hm_Hg,trans_dist_hm_perc,pest_inc_ins]\n",
    "df = pd.concat(total, axis = 1)\n",
    "df =df.fillna(0.0)\n",
    "X = df.drop(['is_insecticide'] , 1).values # drop target variable\n",
    "y1 = df['is_insecticide'].values\n",
    "y = y1\n",
    "X_scaled = scale(X)\n",
    "\n",
    "print(\"Mean of Unscaled Features for {}: {}\".format(m,np.mean(X))) \n",
    "print(\"Standard Deviation of Unscaled Features for {}: {}\".format(m,np.std(X)))\n",
    "print(\"Mean of Scaled Features for {}: {}\".format(m,np.mean(X_scaled))) \n",
    "print(\"Standard Deviation of Scaled Features for {}: {}\".format(m,np.std(X_scaled)))\n",
    "\n",
    "steps = [('scaler', StandardScaler()),\n",
    "    ('knn', KNeighborsClassifier())]\n",
    "\n",
    "pipeline = Pipeline(steps)\n",
    "\n",
    "X_train, X_test, y_train, y_test = train_test_split(X, y, test_size=0.5, random_state=42)\n",
    "\n",
    "knn_scaled = pipeline.fit(X_train, y_train)\n",
    "knn_unscaled = KNeighborsClassifier().fit(X_train, y_train)\n",
    "\n",
    "print('Accuracy with Scaling for {}: {}'.format(m,knn_scaled.score(X_test, y_test)))\n",
    "print('Accuracy without Scaling for {}: {}'.format(m,knn_unscaled.score(X_test, y_test)))\n",
    "y_pred = knn_scaled.predict(X_test)\n",
    "print(classification_report(y_test, y_pred))\n",
    "#steps = [('scaler', StandardScaler()),\n",
    "#     ('SVM', SVC())]\n",
    "\n",
    "#pipeline = Pipeline(steps)\n",
    "\n",
    "#parameters = {'SVM__C':[1, 10, 100],\n",
    "#          'SVM__gamma':[0.1, 0.01]}\n",
    "\n",
    "#X_train, X_test, y_train, y_test = train_test_split(X, y, test_size=0.5, random_state=42)\n",
    "\n",
    "#cv = GridSearchCV(pipeline, parameters, cv=2)\n",
    "\n",
    "#cv.fit(X_train, y_train)\n",
    "#y_pred = cv.predict(X_test)\n",
    "\n",
    "#print(\"Accuracy for {}: {}\".format(m,cv.score(X_test, y_test)))\n",
    "#print(classification_report(y_test, y_pred))\n",
    "#print(\"Tuned Model Parameters for {}: {}\".format(m,cv.best_params_))"
   ]
  },
  {
   "cell_type": "markdown",
   "metadata": {},
   "source": [
    "#### 4) Is fungicide  present in the soil in the surrounding area?"
   ]
  },
  {
   "cell_type": "code",
   "execution_count": 58,
   "metadata": {},
   "outputs": [
    {
     "name": "stdout",
     "output_type": "stream",
     "text": [
      "Index(['bird repellant', 'fungicide', 'fungicide and growth regulator',\n",
      "       'herbicide', 'insecticide'],\n",
      "      dtype='object')\n",
      "Mean of Unscaled Features for fungicide: 6.158296039028153\n",
      "Standard Deviation of Unscaled Features for fungicide: 22.87690489969965\n",
      "Mean of Scaled Features for fungicide: 9.884853786117065e-18\n",
      "Standard Deviation of Scaled Features for fungicide: 0.8709883407113854\n",
      "Accuracy with Scaling for fungicide: 0.7894736842105263\n",
      "Accuracy without Scaling for fungicide: 0.5789473684210527\n",
      "Accuracy for fungicide: 0.7368421052631579\n",
      "              precision    recall  f1-score   support\n",
      "\n",
      "         0.0       0.87      0.81      0.84        16\n",
      "         1.0       0.25      0.33      0.29         3\n",
      "\n",
      "    accuracy                           0.74        19\n",
      "   macro avg       0.56      0.57      0.56        19\n",
      "weighted avg       0.77      0.74      0.75        19\n",
      "\n",
      "Tuned Model Parameters for fungicide: {'SVM__C': 10, 'SVM__gamma': 0.01}\n"
     ]
    }
   ],
   "source": [
    "#Classification for fungicide(presence or absence)\n",
    "pest_inc = pest.apply(lambda x: x*100, axis=1)\n",
    "print(pest_inc.columns)\n",
    "m='fungicide'\n",
    "pest_inc['is_fungicide'] = np.where(pest_inc['fungicide'] > 0, 1, 0)\n",
    "pest_inc_fun=pest_inc.drop(['fungicide'],1)\n",
    "#hm_Hg=hm_Hg.drop(['mlr_Mercury'],1)\n",
    "total = [surf_hm, hm_Hg,trans_dist_hm_perc,pest_inc_fun]\n",
    "df = pd.concat(total, axis = 1)\n",
    "df =df.fillna(0.0)\n",
    "X = df.drop(['is_fungicide'] , 1).values # drop target variable\n",
    "y1 = df['is_fungicide'].values\n",
    "y = y1\n",
    "X_scaled = scale(X)\n",
    "\n",
    "print(\"Mean of Unscaled Features for {}: {}\".format(m,np.mean(X))) \n",
    "print(\"Standard Deviation of Unscaled Features for {}: {}\".format(m,np.std(X)))\n",
    "print(\"Mean of Scaled Features for {}: {}\".format(m,np.mean(X_scaled))) \n",
    "print(\"Standard Deviation of Scaled Features for {}: {}\".format(m,np.std(X_scaled)))\n",
    "\n",
    "steps = [('scaler', StandardScaler()),\n",
    "    ('knn', KNeighborsClassifier())]\n",
    "\n",
    "pipeline = Pipeline(steps)\n",
    "\n",
    "X_train, X_test, y_train, y_test = train_test_split(X, y, test_size=0.3, random_state=21)\n",
    "\n",
    "knn_scaled = pipeline.fit(X_train, y_train)\n",
    "knn_unscaled = KNeighborsClassifier().fit(X_train, y_train)\n",
    "\n",
    "print('Accuracy with Scaling for {}: {}'.format(m,knn_scaled.score(X_test, y_test)))\n",
    "print('Accuracy without Scaling for {}: {}'.format(m,knn_unscaled.score(X_test, y_test)))\n",
    "steps = [('scaler', StandardScaler()),\n",
    "     ('SVM', SVC())]\n",
    "\n",
    "pipeline = Pipeline(steps)\n",
    "\n",
    "parameters = {'SVM__C':[1, 10, 100],\n",
    "          'SVM__gamma':[0.1, 0.01]}\n",
    "\n",
    "X_train, X_test, y_train, y_test = train_test_split(X, y, test_size=0.3, random_state=21)\n",
    "\n",
    "cv = GridSearchCV(pipeline, parameters, cv=2)\n",
    "\n",
    "cv.fit(X_train, y_train)\n",
    "y_pred = cv.predict(X_test)\n",
    "\n",
    "print(\"Accuracy for {}: {}\".format(m,cv.score(X_test, y_test)))\n",
    "print(classification_report(y_test, y_pred))\n",
    "print(\"Tuned Model Parameters for {}: {}\".format(m,cv.best_params_))"
   ]
  },
  {
   "cell_type": "markdown",
   "metadata": {},
   "source": [
    "#### 4) Is herbicide is present in the soil in the surrounding area?"
   ]
  },
  {
   "cell_type": "code",
   "execution_count": 60,
   "metadata": {},
   "outputs": [
    {
     "name": "stdout",
     "output_type": "stream",
     "text": [
      "Index(['bird repellant', 'fungicide', 'fungicide and growth regulator',\n",
      "       'herbicide', 'insecticide'],\n",
      "      dtype='object')\n",
      "Index(['111', '112', '121', '122', '123', '124', '131', '132', '133', '141',\n",
      "       '142', '211', '212', '213', '221', '222', '223', '231', '241', '242',\n",
      "       '243', '244', '311', '312', '313', '321', '322', '323', '324', '331',\n",
      "       '332', '333', '334', '335', '411', '412', '421', '422', '423', '511',\n",
      "       '512', '521', '522', '523', 'Lead', 'Cadmium', 'Arsenic', 'Copper',\n",
      "       'Zinc', 'Chrome', 'mlr_Lead', 'mlr_Cadmium', 'mlr_Arsenic',\n",
      "       'mlr_Copper', 'mlr_Zinc', 'mlr_Chrome', 'is_Mercury', '111_d', '112_d',\n",
      "       '121_d', '122_d', '123_d', '124_d', '131_d', '133_d', '141_d', '142_d',\n",
      "       '211_d', '221_d', '231_d', '242_d', '243_d', '311_d', '312_d', '313_d',\n",
      "       '322_d', '324_d', '331_d', '412_d', '423_d', '511_d', '512_d', '523_d',\n",
      "       'bird repellant', 'fungicide', 'fungicide and growth regulator',\n",
      "       'insecticide', 'is_herbicide'],\n",
      "      dtype='object')\n",
      "Mean of Unscaled Features for herbicide: 6.159224038232014\n",
      "Standard Deviation of Unscaled Features for herbicide: 22.876676254878667\n",
      "Mean of Scaled Features for herbicide: 9.884853786117065e-18\n",
      "Standard Deviation of Scaled Features for herbicide: 0.8709883407113854\n",
      "Accuracy with Scaling for herbicide: 0.9615384615384616\n",
      "Accuracy without Scaling for herbicide: 0.8461538461538461\n",
      "Accuracy for herbicide: 0.9615384615384616\n",
      "              precision    recall  f1-score   support\n",
      "\n",
      "         0.0       0.96      1.00      0.98        25\n",
      "         1.0       0.00      0.00      0.00         1\n",
      "\n",
      "    accuracy                           0.96        26\n",
      "   macro avg       0.48      0.50      0.49        26\n",
      "weighted avg       0.92      0.96      0.94        26\n",
      "\n",
      "Tuned Model Parameters for herbicide: {'SVM__C': 1, 'SVM__gamma': 0.1}\n"
     ]
    },
    {
     "name": "stderr",
     "output_type": "stream",
     "text": [
      "C:\\ProgramData\\Anaconda3\\lib\\site-packages\\sklearn\\metrics\\_classification.py:1221: UndefinedMetricWarning: Precision and F-score are ill-defined and being set to 0.0 in labels with no predicted samples. Use `zero_division` parameter to control this behavior.\n",
      "  _warn_prf(average, modifier, msg_start, len(result))\n"
     ]
    }
   ],
   "source": [
    "#Classification for herbicide(presence or absence)\n",
    "pest_inc = pest.apply(lambda x: x*100, axis=1)\n",
    "print(pest_inc.columns)\n",
    "m='herbicide'\n",
    "pest_inc['is_herbicide'] = np.where(pest_inc['herbicide'] > 0, 1, 0)\n",
    "pest_inc_fun=pest_inc.drop(['herbicide'],1)\n",
    "#hm_Hg=hm_Hg.drop(['mlr_Mercury'],1)\n",
    "total = [surf_hm, hm_Hg,trans_dist_hm_perc,pest_inc_fun]\n",
    "df = pd.concat(total, axis = 1)\n",
    "df =df.fillna(0.0)\n",
    "print(df.columns)\n",
    "X = df.drop(['is_herbicide'] , 1).values # drop target variable\n",
    "y1 = df['is_herbicide'].values\n",
    "y = y1\n",
    "X_scaled = scale(X)\n",
    "\n",
    "print(\"Mean of Unscaled Features for {}: {}\".format(m,np.mean(X))) \n",
    "print(\"Standard Deviation of Unscaled Features for {}: {}\".format(m,np.std(X)))\n",
    "print(\"Mean of Scaled Features for {}: {}\".format(m,np.mean(X_scaled))) \n",
    "print(\"Standard Deviation of Scaled Features for {}: {}\".format(m,np.std(X_scaled)))\n",
    "\n",
    "steps = [('scaler', StandardScaler()),\n",
    "    ('knn', KNeighborsClassifier())]\n",
    "\n",
    "pipeline = Pipeline(steps)\n",
    "\n",
    "X_train, X_test, y_train, y_test = train_test_split(X, y, test_size=0.4, random_state=42)\n",
    "\n",
    "knn_scaled = pipeline.fit(X_train, y_train)\n",
    "knn_unscaled = KNeighborsClassifier().fit(X_train, y_train)\n",
    "\n",
    "print('Accuracy with Scaling for {}: {}'.format(m,knn_scaled.score(X_test, y_test)))\n",
    "print('Accuracy without Scaling for {}: {}'.format(m,knn_unscaled.score(X_test, y_test)))\n",
    "steps = [('scaler', StandardScaler()),\n",
    "     ('SVM', SVC())]\n",
    "\n",
    "pipeline = Pipeline(steps)\n",
    "\n",
    "parameters = {'SVM__C':[1, 10, 100],\n",
    "          'SVM__gamma':[0.1, 0.01]}\n",
    "\n",
    "X_train, X_test, y_train, y_test = train_test_split(X, y, test_size=0.4, random_state=42)\n",
    "\n",
    "cv = GridSearchCV(pipeline, parameters, cv=2)\n",
    "\n",
    "cv.fit(X_train, y_train)\n",
    "y_pred = cv.predict(X_test)\n",
    "\n",
    "print(\"Accuracy for {}: {}\".format(m,cv.score(X_test, y_test)))\n",
    "print(classification_report(y_test, y_pred))\n",
    "print(\"Tuned Model Parameters for {}: {}\".format(m,cv.best_params_))"
   ]
  },
  {
   "cell_type": "code",
   "execution_count": null,
   "metadata": {},
   "outputs": [],
   "source": []
  }
 ],
 "metadata": {
  "kernelspec": {
   "display_name": "Python 3",
   "language": "python",
   "name": "python3"
  },
  "language_info": {
   "codemirror_mode": {
    "name": "ipython",
    "version": 3
   },
   "file_extension": ".py",
   "mimetype": "text/x-python",
   "name": "python",
   "nbconvert_exporter": "python",
   "pygments_lexer": "ipython3",
   "version": "3.8.5"
  }
 },
 "nbformat": 4,
 "nbformat_minor": 2
}
