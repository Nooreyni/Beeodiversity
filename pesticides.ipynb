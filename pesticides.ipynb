{
 "metadata": {
  "language_info": {
   "codemirror_mode": {
    "name": "ipython",
    "version": 3
   },
   "file_extension": ".py",
   "mimetype": "text/x-python",
   "name": "python",
   "nbconvert_exporter": "python",
   "pygments_lexer": "ipython3",
   "version": "3.8.5-final"
  },
  "orig_nbformat": 2,
  "kernelspec": {
   "name": "python38564bit5f2391659b0b4e51a5ae522873c52736",
   "display_name": "Python 3.8.5 64-bit",
   "language": "python"
  }
 },
 "nbformat": 4,
 "nbformat_minor": 2,
 "cells": [
  {
   "cell_type": "code",
   "execution_count": 1,
   "metadata": {},
   "outputs": [],
   "source": [
    "# import relaited librairies\n",
    "\n",
    "import pandas as pd\n",
    "import numpy as np\n",
    "import seaborn as sns\n",
    "import matplotlib.pyplot as plt"
   ]
  },
  {
   "source": [
    " import datasets"
   ],
   "cell_type": "markdown",
   "metadata": {}
  },
  {
   "cell_type": "code",
   "execution_count": 2,
   "metadata": {},
   "outputs": [],
   "source": [
    "# pesticides from 2017 to 2020\n",
    "p1 = pd.read_excel('data/2017/Pesticides/PESTICIDES_2017_P1.xlsx')\n",
    "p2 = pd.read_excel('data/2017/Pesticides/PESTICIDES_2017_P2.xlsx')\n",
    "p3 = pd.read_excel('data/2017/Pesticides/PESTICIDES_2017_P3.xlsx')\n",
    "p4 = pd.read_excel('data/2017/Pesticides/PESTICIDES_2017_P4.xlsx')\n",
    "p5 = pd.read_excel('data/2018/Pesticides/PESTICIDES_2018_P1.xlsx')\n",
    "p6 = pd.read_excel('data/2018/Pesticides/PESTICIDES_2018_P2.xlsx')\n",
    "p7 = pd.read_excel('data/2018/Pesticides/PESTICIDES_2018_P3.xlsx')\n",
    "p8 = pd.read_excel('data/2018/Pesticides/PESTICIDES_2018_P4.xlsx')\n",
    "p5 = pd.read_excel('data/2018/Pesticides/PESTICIDES_2018_P1.xlsx')\n",
    "p9 = pd.read_excel('data/2019/Pesticides/PESTICIDES_2019_P1.xlsx')\n",
    "p10 = pd.read_excel('data/2019/Pesticides/PESTICIDES_2019_P2.xlsx')\n",
    "p11 = pd.read_excel('data/2019/Pesticides/PESTICIDES_2019_P3.xlsx')\n",
    "p12 = pd.read_excel('data/2019/Pesticides/PESTICIDES_2019_P4.xlsx')\n",
    "p13 = pd.read_excel('data/2020/Pesticides/PESTICIDES_2020_P1.xlsx')\n",
    "p14 = pd.read_excel('data/2020/Pesticides/PESTICIDES_2020_P2.xlsx')\n",
    "p15 = pd.read_excel('data/2020/Pesticides/PESTICIDES_2020_P3.xlsx')\n",
    "p16 = pd.read_excel('data/2020/Pesticides/PESTICIDES_2020_P4.xlsx')\n"
   ]
  },
  {
   "cell_type": "code",
   "execution_count": 11,
   "metadata": {},
   "outputs": [],
   "source": [
    "# setting display options\n",
    "pd.options.display.max_rows=50\n",
    "pd.options.display.max_columns= 30"
   ]
  },
  {
   "cell_type": "code",
   "execution_count": 3,
   "metadata": {},
   "outputs": [
    {
     "output_type": "stream",
     "name": "stdout",
     "text": [
      "Index(['REF....SUBSTANCE', 'PERIOD', 'Aldrin', 'Benalaxyl', 'Chlorpropham',\n       'Cyanofenphos', 'Cypermethrin', 'Ethofumesate', 'Fludioxonil',\n       'Fluopyram', 'Flutolanil', 'Pencycuron', 'Pendimethalin',\n       'Tau.fluvalinate', 'Tebuconazole'],\n      dtype='object')\nIndex(['REF....SUBSTANCE', 'PERIOD', 'X2.phenylphenol', 'Benalaxyl', 'Captan',\n       'Clethodim', 'Cyazofamid', 'Deet', 'Famoxadone', 'Fluopicolide',\n       'Metrafenone', 'Tau.fluvalinate', 'Trifloxystrobin'],\n      dtype='object')\nIndex(['REF....SUBSTANCE', 'PERIOD', 'Captan', 'Difenoconazole',\n       'Dimethomorph', 'Fluopicolide', 'Fluopyram', 'Propamocarb',\n       'Tetradifon'],\n      dtype='object')\nIndex(['REF....SUBSTANCE', 'PERIOD', 'Anthraquinone', 'Chlorpropham',\n       'Flufenacet', 'Prosulfocarb'],\n      dtype='object')\nIndex(['REF....SUBSTANCE', 'PERIOD', 'Ametoctradin', 'Azoxystrobin',\n       'Benalaxyl', 'Captan', 'Chlorothalonil', 'Cyazofamid', 'Cyprodinil',\n       'Dimethomorph', 'Fludioxonil', 'Fluopicolide', 'Fluopyram',\n       'Iprovalicarb', 'Mandipropamid', 'Metalaxyl', 'Metrafenone',\n       'Prosulfocarb', 'Quinoxyfen', 'Tau.fluvalinate', 'Trifloxystrobin'],\n      dtype='object')\nIndex(['REF....SUBSTANCE', 'PERIOD', 'Captan', 'Chlorothalonil', 'Fludioxonil',\n       'Fluopyram', 'Hexaconazole', 'Pyrimethanil', 'Trifloxystrobin'],\n      dtype='object')\nIndex(['REF....SUBSTANCE', 'PERIOD', 'Aclonifen', 'Benalaxyl', 'Captan',\n       'Difenoconazole', 'Fenpropidin', 'Fludioxonil', 'Imidacloprid',\n       'Methabenzthiazuron', 'Propamocarb'],\n      dtype='object')\nIndex(['REF....SUBSTANCE', 'PERIOD', 'Benalaxyl', 'Chlorotoluron',\n       'Difenoconazole', 'Pendimethalin', 'Propargite', 'Prosulfocarb',\n       'Tri.allate'],\n      dtype='object')\nIndex(['REF....SUBSTANCE', 'PERIOD', 'Benalaxyl', 'Boscalid', 'Bupirimate',\n       'Captan', 'Cyprodinil', 'Difenoconazole', 'Etofenprox', 'Fenhexamid',\n       'Flonicamid', 'Fludioxonil', 'Fluopyram', 'Flutolanil', 'Metamitron',\n       'Metconazole', 'Methiocarb_total', 'Metobromuron', 'Metolachlor',\n       'Pendimethalin', 'Phenmedipham', 'Prosulfocarb', 'Prothioconazole_d',\n       'Pyraclostrobin', 'Tebuconazole', 'Tetraconazole', 'Trifloxystrobin'],\n      dtype='object')\nIndex(['REF....SUBSTANCE', 'PERIOD', 'Aclonifen', 'Ametoctradin', 'Benalaxyl',\n       'Boscalid', 'Captan', 'Chlorothalonil', 'Cyazofamid', 'Cyprodinil',\n       'Dimethomorph', 'Flucythrinate', 'Fludioxonil', 'Fluopicolide',\n       'Fluopyram', 'Metrafenone', 'Pendimethalin', 'Propiconazole',\n       'Prosulfocarb', 'Thiacloprid', 'Trifloxystrobin', 'Zoxamide'],\n      dtype='object')\nIndex(['REF....SUBSTANCE', 'PERIOD', 'Ametoctradin', 'Anthraquinone',\n       'Benalaxyl', 'Benthiavalicarb.iso', 'Boscalid', 'Bupirimate', 'Captan',\n       'Carbendazim', 'Chlorantraniliprole', 'Chlorothalonil', 'Cyazofamid',\n       'Cyflumetofen', 'Cyprodinil', 'Difenoconazole', 'Dimethomorph',\n       'Ethirimol', 'Fenpropidin', 'Fluazinam', 'Fludioxonil', 'Fluopicolide',\n       'Fluopyram', 'Imidacloprid', 'Penconazole', 'Propamocarb', 'Propanil',\n       'Pyraclostrobin', 'Pyrimethanil', 'Spinosad', 'Tebuconazole',\n       'Thiacloprid', 'Trifloxystrobin'],\n      dtype='object')\nIndex(['REF....SUBSTANCE', 'PERIOD', 'Anthraquinone', 'Azoxystrobin',\n       'Benalaxyl', 'Benfluralin', 'Boscalid', 'Captan', 'Carbendazim',\n       'Cyazofamid', 'Cyprodinil', 'Difenoconazole', 'Diflufenican',\n       'Dimethomorph', 'Epoxiconazole', 'Ethofumesate.2.keto', 'Fenhexamid',\n       'Fenpropidin', 'Fluazinam', 'Fludioxonil', 'Fluopyram', 'Prosulfocarb',\n       'Pyraclostrobin', 'Pyrimethanil', 'Spinosad', 'Trifloxystrobin'],\n      dtype='object')\nIndex(['REF....SUBSTANCE', 'PERIOD', 'X6.benzylaminopurine', 'Aclonifen',\n       'Ametoctradin', 'Anthraquinone', 'Azoxystrobin', 'Benalaxyl',\n       'Boscalid', 'Captan', 'Carbendazim', 'Chlorothalonil', 'Chlorpropham',\n       'Chlorpyrifos.methyl', 'Clethodim', 'Cyflufenamid', 'Cymoxanil',\n       'Cyprodinil', 'Difenoconazole', 'Dimethomorph', 'Dimoxystrobin',\n       'Dodine', 'Ethofumesate', 'Fenoxycarb', 'Fenpropathrin',\n       'Fenpropimorph', 'Flonicamid', 'Fluazifop', 'Fluazinam', 'Fludioxonil',\n       'Fluopicolide', 'Fluopyram', 'Flupyradifurone', 'Flutolanil',\n       'Fluxapyroxad', 'Indoxacarb', 'Isofetamid', 'Metalaxyl', 'Metamitron',\n       'Methiocarb_total', 'Methoxyfenozide', 'Metobromuron', 'Metolachlor',\n       'Metrafenone', 'Penconazole', 'Pendimethalin', 'Phenmedipham',\n       'Phosmet', 'Pirimicarb', 'Prochloraz', 'Propyzamide', 'Prosulfocarb',\n       'Prothioconazole_d', 'Pyraclostrobin', 'Pyrimethanil', 'Quinoxyfen',\n       'Spinosad', 'Spirotetramat', 'Spiroxamine', 'Tau.fluvalinate',\n       'Tebuconazole', 'Tebufenozide', 'Tetraconazole', 'Thiabendazole',\n       'Thiacloprid', 'Thiophanate.methyl', 'Tri.allate', 'Trifloxystrobin',\n       'Zoxamide'],\n      dtype='object')\nIndex(['REF....SUBSTANCE', 'PERIOD', 'Aclonifen', 'Ametoctradin',\n       'Anthraquinone', 'Azoxystrobin', 'Benalaxyl', 'Benfluralin',\n       'Benzovindiflupyr', 'Boscalid', 'Captan', 'Carbendazim',\n       'Chlorantraniliprole', 'Chlorothalonil', 'Coumaphos', 'Cyazofamid',\n       'Cyprodinil', 'Difenoconazole', 'Dimethomorph', 'Diphenylamine',\n       'Dodine', 'Fenbuconazole', 'Fenoxycarb', 'Fenpropidin', 'Flonicamid',\n       'Fludioxonil', 'Fluopicolide', 'Fluopyram', 'Fluxapyroxad',\n       'Metolachlor', 'Metrafenone', 'Nicosulfuron', 'Pendimethalin',\n       'Phenmedipham', 'Phosmet', 'Piperonylbutoxide', 'Pirimicarb',\n       'Prochloraz', 'Prosulfocarb', 'Prosulfuron', 'Prothioconazole_d',\n       'Pyrimethanil', 'Simazine', 'Spinosad', 'Spirotetramat', 'Spiroxamine',\n       'Tau.fluvalinate', 'Tebuconazole', 'Terbuthylazine', 'Tetraconazole',\n       'Trifloxystrobin', 'Zoxamide'],\n      dtype='object')\nIndex(['REF....SUBSTANCE', 'PERIOD', 'Ametoctradin', 'Anthraquinone',\n       'Azoxystrobin', 'Benalaxyl', 'Boscalid', 'Captan', 'Carbendazim',\n       'Chlorantraniliprole', 'Chlorpropham', 'Cyprodinil', 'Deet', 'Dieldrin',\n       'Difenoconazole', 'Diflufenican', 'Epoxiconazole', 'Ethofumesate',\n       'Fenamidone', 'Fenpropidin', 'Fenpropimorph', 'Fluazinam',\n       'Fludioxonil', 'Fluopicolide', 'Fluopyram', 'Indoxacarb',\n       'Mandipropamid', 'Metolachlor', 'Penconazole', 'Pendimethalin',\n       'Propamocarb', 'Pyraclostrobin', 'Pyrimethanil', 'Spinosad',\n       'Tau.fluvalinate', 'Tebuconazole', 'Thiophanate.methyl',\n       'Trifloxystrobin', 'Trifluralin', 'Zoxamide'],\n      dtype='object')\nIndex(['REF....SUBSTANCE', 'PERIOD', 'Ametoctradin', 'Anthraquinone',\n       'Azoxystrobin', 'Benalaxyl', 'Boscalid', 'Captan',\n       'Chlorantraniliprole', 'Cyazofamid', 'Cycloate', 'Cyprodinil',\n       'Difenoconazole', 'Dodine', 'Epoxiconazole', 'Fenpropidin',\n       'Fenpropimorph', 'Fludioxonil', 'Fluopicolide', 'Fluopyram',\n       'Metolachlor', 'Pentachloroanisol', 'Phenmedipham', 'Propamocarb',\n       'Propiconazole', 'Prosulfocarb', 'Pyraclostrobin', 'Pyrimethanil',\n       'Spinosad', 'Tau.fluvalinate', 'Tebuconazole', 'Thiabendazole',\n       'Zoxamide'],\n      dtype='object')\n"
     ]
    }
   ],
   "source": [
    "list2 = [p1, p2, p3, p4, p5, p6, p7, p8, p9, p10, p11, p12, p13, p14, p15, p16]\n",
    "\n",
    "# checking for columns dispositons\n",
    "for i in list2:\n",
    "    print(i.columns)"
   ]
  },
  {
   "cell_type": "code",
   "execution_count": 4,
   "metadata": {},
   "outputs": [],
   "source": [
    "# join the hm datasets\n",
    "pt = pd.concat([p1, p2, p3, p4, p5, p6, p7, p8, p9, p10, p11, p12, p13, p14, p15, p16], axis=0)"
   ]
  },
  {
   "cell_type": "code",
   "execution_count": 5,
   "metadata": {},
   "outputs": [
    {
     "output_type": "execute_result",
     "data": {
      "text/plain": [
       "   REF....SUBSTANCE   PERIOD  Aldrin  Benalaxyl  Chlorpropham  Cyanofenphos  \\\n",
       "0             B0017  2017/P1     0.0     0.0000          0.00           0.0   \n",
       "1             B0019  2017/P1     0.0     0.0188          0.00           0.0   \n",
       "2             B0021  2017/P1     0.0     0.0711          0.00           0.0   \n",
       "3             B0023  2017/P1     0.0     0.0294          0.00           0.0   \n",
       "4             B0037  2017/P1     0.0     0.0000          0.01           0.0   \n",
       "..              ...      ...     ...        ...           ...           ...   \n",
       "33            F0061  2020/P4     NaN     0.0000           NaN           NaN   \n",
       "34            F0063  2020/P4     NaN     0.1004           NaN           NaN   \n",
       "35            F0065  2020/P4     NaN     0.0000           NaN           NaN   \n",
       "36            F0071  2020/P4     NaN     0.0000           NaN           NaN   \n",
       "37            F0073  2020/P4     NaN     0.0000           NaN           NaN   \n",
       "\n",
       "    Cypermethrin  Ethofumesate  Fludioxonil  Fluopyram  ...  Nicosulfuron  \\\n",
       "0            0.0           0.0          0.0        0.0  ...           NaN   \n",
       "1            0.0           0.0          0.0        0.0  ...           NaN   \n",
       "2            0.0           0.0          0.0        0.0  ...           NaN   \n",
       "3            0.0           0.0          0.0        0.0  ...           NaN   \n",
       "4            0.0           0.0          0.0        0.0  ...           NaN   \n",
       "..           ...           ...          ...        ...  ...           ...   \n",
       "33           NaN           NaN          0.0        0.0  ...           NaN   \n",
       "34           NaN           NaN          0.0        0.0  ...           NaN   \n",
       "35           NaN           NaN          0.0        0.0  ...           NaN   \n",
       "36           NaN           NaN          0.0        0.0  ...           NaN   \n",
       "37           NaN           NaN          0.0        0.0  ...           NaN   \n",
       "\n",
       "    Piperonylbutoxide  Prosulfuron  Simazine  Terbuthylazine  Dieldrin  \\\n",
       "0                 NaN          NaN       NaN             NaN       NaN   \n",
       "1                 NaN          NaN       NaN             NaN       NaN   \n",
       "2                 NaN          NaN       NaN             NaN       NaN   \n",
       "3                 NaN          NaN       NaN             NaN       NaN   \n",
       "4                 NaN          NaN       NaN             NaN       NaN   \n",
       "..                ...          ...       ...             ...       ...   \n",
       "33                NaN          NaN       NaN             NaN       NaN   \n",
       "34                NaN          NaN       NaN             NaN       NaN   \n",
       "35                NaN          NaN       NaN             NaN       NaN   \n",
       "36                NaN          NaN       NaN             NaN       NaN   \n",
       "37                NaN          NaN       NaN             NaN       NaN   \n",
       "\n",
       "    Fenamidone  Trifluralin  Cycloate  Pentachloroanisol  \n",
       "0          NaN          NaN       NaN                NaN  \n",
       "1          NaN          NaN       NaN                NaN  \n",
       "2          NaN          NaN       NaN                NaN  \n",
       "3          NaN          NaN       NaN                NaN  \n",
       "4          NaN          NaN       NaN                NaN  \n",
       "..         ...          ...       ...                ...  \n",
       "33         NaN          NaN       0.0                0.0  \n",
       "34         NaN          NaN       0.0                0.0  \n",
       "35         NaN          NaN       0.0                0.0  \n",
       "36         NaN          NaN       0.0                0.0  \n",
       "37         NaN          NaN       0.0                0.0  \n",
       "\n",
       "[520 rows x 117 columns]"
      ],
      "text/html": "<div>\n<style scoped>\n    .dataframe tbody tr th:only-of-type {\n        vertical-align: middle;\n    }\n\n    .dataframe tbody tr th {\n        vertical-align: top;\n    }\n\n    .dataframe thead th {\n        text-align: right;\n    }\n</style>\n<table border=\"1\" class=\"dataframe\">\n  <thead>\n    <tr style=\"text-align: right;\">\n      <th></th>\n      <th>REF....SUBSTANCE</th>\n      <th>PERIOD</th>\n      <th>Aldrin</th>\n      <th>Benalaxyl</th>\n      <th>Chlorpropham</th>\n      <th>Cyanofenphos</th>\n      <th>Cypermethrin</th>\n      <th>Ethofumesate</th>\n      <th>Fludioxonil</th>\n      <th>Fluopyram</th>\n      <th>...</th>\n      <th>Nicosulfuron</th>\n      <th>Piperonylbutoxide</th>\n      <th>Prosulfuron</th>\n      <th>Simazine</th>\n      <th>Terbuthylazine</th>\n      <th>Dieldrin</th>\n      <th>Fenamidone</th>\n      <th>Trifluralin</th>\n      <th>Cycloate</th>\n      <th>Pentachloroanisol</th>\n    </tr>\n  </thead>\n  <tbody>\n    <tr>\n      <th>0</th>\n      <td>B0017</td>\n      <td>2017/P1</td>\n      <td>0.0</td>\n      <td>0.0000</td>\n      <td>0.00</td>\n      <td>0.0</td>\n      <td>0.0</td>\n      <td>0.0</td>\n      <td>0.0</td>\n      <td>0.0</td>\n      <td>...</td>\n      <td>NaN</td>\n      <td>NaN</td>\n      <td>NaN</td>\n      <td>NaN</td>\n      <td>NaN</td>\n      <td>NaN</td>\n      <td>NaN</td>\n      <td>NaN</td>\n      <td>NaN</td>\n      <td>NaN</td>\n    </tr>\n    <tr>\n      <th>1</th>\n      <td>B0019</td>\n      <td>2017/P1</td>\n      <td>0.0</td>\n      <td>0.0188</td>\n      <td>0.00</td>\n      <td>0.0</td>\n      <td>0.0</td>\n      <td>0.0</td>\n      <td>0.0</td>\n      <td>0.0</td>\n      <td>...</td>\n      <td>NaN</td>\n      <td>NaN</td>\n      <td>NaN</td>\n      <td>NaN</td>\n      <td>NaN</td>\n      <td>NaN</td>\n      <td>NaN</td>\n      <td>NaN</td>\n      <td>NaN</td>\n      <td>NaN</td>\n    </tr>\n    <tr>\n      <th>2</th>\n      <td>B0021</td>\n      <td>2017/P1</td>\n      <td>0.0</td>\n      <td>0.0711</td>\n      <td>0.00</td>\n      <td>0.0</td>\n      <td>0.0</td>\n      <td>0.0</td>\n      <td>0.0</td>\n      <td>0.0</td>\n      <td>...</td>\n      <td>NaN</td>\n      <td>NaN</td>\n      <td>NaN</td>\n      <td>NaN</td>\n      <td>NaN</td>\n      <td>NaN</td>\n      <td>NaN</td>\n      <td>NaN</td>\n      <td>NaN</td>\n      <td>NaN</td>\n    </tr>\n    <tr>\n      <th>3</th>\n      <td>B0023</td>\n      <td>2017/P1</td>\n      <td>0.0</td>\n      <td>0.0294</td>\n      <td>0.00</td>\n      <td>0.0</td>\n      <td>0.0</td>\n      <td>0.0</td>\n      <td>0.0</td>\n      <td>0.0</td>\n      <td>...</td>\n      <td>NaN</td>\n      <td>NaN</td>\n      <td>NaN</td>\n      <td>NaN</td>\n      <td>NaN</td>\n      <td>NaN</td>\n      <td>NaN</td>\n      <td>NaN</td>\n      <td>NaN</td>\n      <td>NaN</td>\n    </tr>\n    <tr>\n      <th>4</th>\n      <td>B0037</td>\n      <td>2017/P1</td>\n      <td>0.0</td>\n      <td>0.0000</td>\n      <td>0.01</td>\n      <td>0.0</td>\n      <td>0.0</td>\n      <td>0.0</td>\n      <td>0.0</td>\n      <td>0.0</td>\n      <td>...</td>\n      <td>NaN</td>\n      <td>NaN</td>\n      <td>NaN</td>\n      <td>NaN</td>\n      <td>NaN</td>\n      <td>NaN</td>\n      <td>NaN</td>\n      <td>NaN</td>\n      <td>NaN</td>\n      <td>NaN</td>\n    </tr>\n    <tr>\n      <th>...</th>\n      <td>...</td>\n      <td>...</td>\n      <td>...</td>\n      <td>...</td>\n      <td>...</td>\n      <td>...</td>\n      <td>...</td>\n      <td>...</td>\n      <td>...</td>\n      <td>...</td>\n      <td>...</td>\n      <td>...</td>\n      <td>...</td>\n      <td>...</td>\n      <td>...</td>\n      <td>...</td>\n      <td>...</td>\n      <td>...</td>\n      <td>...</td>\n      <td>...</td>\n      <td>...</td>\n    </tr>\n    <tr>\n      <th>33</th>\n      <td>F0061</td>\n      <td>2020/P4</td>\n      <td>NaN</td>\n      <td>0.0000</td>\n      <td>NaN</td>\n      <td>NaN</td>\n      <td>NaN</td>\n      <td>NaN</td>\n      <td>0.0</td>\n      <td>0.0</td>\n      <td>...</td>\n      <td>NaN</td>\n      <td>NaN</td>\n      <td>NaN</td>\n      <td>NaN</td>\n      <td>NaN</td>\n      <td>NaN</td>\n      <td>NaN</td>\n      <td>NaN</td>\n      <td>0.0</td>\n      <td>0.0</td>\n    </tr>\n    <tr>\n      <th>34</th>\n      <td>F0063</td>\n      <td>2020/P4</td>\n      <td>NaN</td>\n      <td>0.1004</td>\n      <td>NaN</td>\n      <td>NaN</td>\n      <td>NaN</td>\n      <td>NaN</td>\n      <td>0.0</td>\n      <td>0.0</td>\n      <td>...</td>\n      <td>NaN</td>\n      <td>NaN</td>\n      <td>NaN</td>\n      <td>NaN</td>\n      <td>NaN</td>\n      <td>NaN</td>\n      <td>NaN</td>\n      <td>NaN</td>\n      <td>0.0</td>\n      <td>0.0</td>\n    </tr>\n    <tr>\n      <th>35</th>\n      <td>F0065</td>\n      <td>2020/P4</td>\n      <td>NaN</td>\n      <td>0.0000</td>\n      <td>NaN</td>\n      <td>NaN</td>\n      <td>NaN</td>\n      <td>NaN</td>\n      <td>0.0</td>\n      <td>0.0</td>\n      <td>...</td>\n      <td>NaN</td>\n      <td>NaN</td>\n      <td>NaN</td>\n      <td>NaN</td>\n      <td>NaN</td>\n      <td>NaN</td>\n      <td>NaN</td>\n      <td>NaN</td>\n      <td>0.0</td>\n      <td>0.0</td>\n    </tr>\n    <tr>\n      <th>36</th>\n      <td>F0071</td>\n      <td>2020/P4</td>\n      <td>NaN</td>\n      <td>0.0000</td>\n      <td>NaN</td>\n      <td>NaN</td>\n      <td>NaN</td>\n      <td>NaN</td>\n      <td>0.0</td>\n      <td>0.0</td>\n      <td>...</td>\n      <td>NaN</td>\n      <td>NaN</td>\n      <td>NaN</td>\n      <td>NaN</td>\n      <td>NaN</td>\n      <td>NaN</td>\n      <td>NaN</td>\n      <td>NaN</td>\n      <td>0.0</td>\n      <td>0.0</td>\n    </tr>\n    <tr>\n      <th>37</th>\n      <td>F0073</td>\n      <td>2020/P4</td>\n      <td>NaN</td>\n      <td>0.0000</td>\n      <td>NaN</td>\n      <td>NaN</td>\n      <td>NaN</td>\n      <td>NaN</td>\n      <td>0.0</td>\n      <td>0.0</td>\n      <td>...</td>\n      <td>NaN</td>\n      <td>NaN</td>\n      <td>NaN</td>\n      <td>NaN</td>\n      <td>NaN</td>\n      <td>NaN</td>\n      <td>NaN</td>\n      <td>NaN</td>\n      <td>0.0</td>\n      <td>0.0</td>\n    </tr>\n  </tbody>\n</table>\n<p>520 rows × 117 columns</p>\n</div>"
     },
     "metadata": {},
     "execution_count": 5
    }
   ],
   "source": [
    "pt"
   ]
  },
  {
   "cell_type": "code",
   "execution_count": 7,
   "metadata": {},
   "outputs": [
    {
     "output_type": "stream",
     "name": "stdout",
     "text": [
      "Shape of Heavy metal = (520, 117)\n"
     ]
    }
   ],
   "source": [
    "print(f'Shape of Heavy metal = {pt.shape}')"
   ]
  },
  {
   "cell_type": "code",
   "execution_count": 10,
   "metadata": {},
   "outputs": [
    {
     "output_type": "execute_result",
     "data": {
      "text/plain": [
       "REF....SUBSTANCE          0\n",
       "PERIOD                    0\n",
       "Aldrin                  498\n",
       "Benalaxyl                66\n",
       "Chlorpropham            394\n",
       "Cyanofenphos            498\n",
       "Cypermethrin            498\n",
       "Ethofumesate            403\n",
       "Fludioxonil              70\n",
       "Fluopyram                85\n",
       "Flutolanil              410\n",
       "Pencycuron              498\n",
       "Pendimethalin           255\n",
       "Tau.fluvalinate         260\n",
       "Tebuconazole            242\n",
       "X2.phenylphenol         496\n",
       "Captan                   47\n",
       "Clethodim               448\n",
       "Cyazofamid              275\n",
       "Deet                    449\n",
       "Famoxadone              496\n",
       "Fluopicolide            186\n",
       "Metrafenone             325\n",
       "Trifloxystrobin         142\n",
       "Difenoconazole          164\n",
       "Dimethomorph            268\n",
       "Propamocarb             345\n",
       "Tetradifon              499\n",
       "Anthraquinone           268\n",
       "Flufenacet              511\n",
       "Prosulfocarb            219\n",
       "Ametoctradin            231\n",
       "Azoxystrobin            279\n",
       "Chlorothalonil          280\n",
       "Cyprodinil              164\n",
       "Iprovalicarb            489\n",
       "Mandipropamid           442\n",
       "Metalaxyl               441\n",
       "Quinoxyfen              441\n",
       "Hexaconazole            484\n",
       "Pyrimethanil            241\n",
       "Aclonifen               344\n",
       "Fenpropidin             289\n",
       "Imidacloprid            451\n",
       "Methabenzthiazuron      484\n",
       "Chlorotoluron           504\n",
       "Propargite              504\n",
       "Tri.allate              456\n",
       "Boscalid                195\n",
       "Bupirimate              447\n",
       "Etofenprox              480\n",
       "Fenhexamid              453\n",
       "Flonicamid              382\n",
       "Metamitron              432\n",
       "Metconazole             480\n",
       "Methiocarb_total        432\n",
       "Metobromuron            432\n",
       "Metolachlor             297\n",
       "Phenmedipham            344\n",
       "Prothioconazole_d       382\n",
       "Pyraclostrobin          287\n",
       "Tetraconazole           382\n",
       "Flucythrinate           478\n",
       "Propiconazole           440\n",
       "Thiacloprid             397\n",
       "Zoxamide                295\n",
       "Benthiavalicarb.iso     487\n",
       "Carbendazim             315\n",
       "Chlorantraniliprole     352\n",
       "Cyflumetofen            487\n",
       "Ethirimol               487\n",
       "Fluazinam               365\n",
       "Penconazole             392\n",
       "Propanil                487\n",
       "Spinosad                277\n",
       "Benfluralin             443\n",
       "Diflufenican            446\n",
       "Epoxiconazole           408\n",
       "Ethofumesate.2.keto     493\n",
       "X6.benzylaminopurine    472\n",
       "Chlorpyrifos.methyl     472\n",
       "Cyflufenamid            472\n",
       "Cymoxanil               472\n",
       "Dimoxystrobin           472\n",
       "Dodine                  384\n",
       "Fenoxycarb              422\n",
       "Fenpropathrin           472\n",
       "Fenpropimorph           387\n",
       "Fluazifop               472\n",
       "Flupyradifurone         472\n",
       "Fluxapyroxad            422\n",
       "Indoxacarb              425\n",
       "Isofetamid              472\n",
       "Methoxyfenozide         472\n",
       "Phosmet                 422\n",
       "Pirimicarb              422\n",
       "Prochloraz              422\n",
       "Propyzamide             472\n",
       "Spirotetramat           422\n",
       "Spiroxamine             422\n",
       "Tebufenozide            472\n",
       "Thiabendazole           434\n",
       "Thiophanate.methyl      425\n",
       "Benzovindiflupyr        470\n",
       "Coumaphos               470\n",
       "Diphenylamine           470\n",
       "Fenbuconazole           470\n",
       "Nicosulfuron            470\n",
       "Piperonylbutoxide       470\n",
       "Prosulfuron             470\n",
       "Simazine                470\n",
       "Terbuthylazine          470\n",
       "Dieldrin                473\n",
       "Fenamidone              473\n",
       "Trifluralin             473\n",
       "Cycloate                482\n",
       "Pentachloroanisol       482\n",
       "dtype: int64"
      ]
     },
     "metadata": {},
     "execution_count": 10
    }
   ],
   "source": [
    "pt.isna().sum()"
   ]
  },
  {
   "cell_type": "code",
   "execution_count": 12,
   "metadata": {},
   "outputs": [
    {
     "output_type": "execute_result",
     "data": {
      "text/plain": [
       "                   count      mean       std  min  25%  50%  75%     max\n",
       "Aldrin              22.0  0.000455  0.002132  0.0  0.0  0.0  0.0  0.0100\n",
       "Benalaxyl          454.0  0.006504  0.020901  0.0  0.0  0.0  0.0  0.1850\n",
       "Chlorpropham       126.0  0.000421  0.002006  0.0  0.0  0.0  0.0  0.0137\n",
       "Cyanofenphos        22.0  0.000455  0.002132  0.0  0.0  0.0  0.0  0.0100\n",
       "Cypermethrin        22.0  0.000455  0.002132  0.0  0.0  0.0  0.0  0.0100\n",
       "...                  ...       ...       ...  ...  ...  ...  ...     ...\n",
       "Dieldrin            47.0  0.000255  0.001750  0.0  0.0  0.0  0.0  0.0120\n",
       "Fenamidone          47.0  0.000064  0.000438  0.0  0.0  0.0  0.0  0.0030\n",
       "Trifluralin         47.0  0.000179  0.000858  0.0  0.0  0.0  0.0  0.0044\n",
       "Cycloate            38.0  0.000026  0.000162  0.0  0.0  0.0  0.0  0.0010\n",
       "Pentachloroanisol   38.0  0.000105  0.000649  0.0  0.0  0.0  0.0  0.0040\n",
       "\n",
       "[115 rows x 8 columns]"
      ],
      "text/html": "<div>\n<style scoped>\n    .dataframe tbody tr th:only-of-type {\n        vertical-align: middle;\n    }\n\n    .dataframe tbody tr th {\n        vertical-align: top;\n    }\n\n    .dataframe thead th {\n        text-align: right;\n    }\n</style>\n<table border=\"1\" class=\"dataframe\">\n  <thead>\n    <tr style=\"text-align: right;\">\n      <th></th>\n      <th>count</th>\n      <th>mean</th>\n      <th>std</th>\n      <th>min</th>\n      <th>25%</th>\n      <th>50%</th>\n      <th>75%</th>\n      <th>max</th>\n    </tr>\n  </thead>\n  <tbody>\n    <tr>\n      <th>Aldrin</th>\n      <td>22.0</td>\n      <td>0.000455</td>\n      <td>0.002132</td>\n      <td>0.0</td>\n      <td>0.0</td>\n      <td>0.0</td>\n      <td>0.0</td>\n      <td>0.0100</td>\n    </tr>\n    <tr>\n      <th>Benalaxyl</th>\n      <td>454.0</td>\n      <td>0.006504</td>\n      <td>0.020901</td>\n      <td>0.0</td>\n      <td>0.0</td>\n      <td>0.0</td>\n      <td>0.0</td>\n      <td>0.1850</td>\n    </tr>\n    <tr>\n      <th>Chlorpropham</th>\n      <td>126.0</td>\n      <td>0.000421</td>\n      <td>0.002006</td>\n      <td>0.0</td>\n      <td>0.0</td>\n      <td>0.0</td>\n      <td>0.0</td>\n      <td>0.0137</td>\n    </tr>\n    <tr>\n      <th>Cyanofenphos</th>\n      <td>22.0</td>\n      <td>0.000455</td>\n      <td>0.002132</td>\n      <td>0.0</td>\n      <td>0.0</td>\n      <td>0.0</td>\n      <td>0.0</td>\n      <td>0.0100</td>\n    </tr>\n    <tr>\n      <th>Cypermethrin</th>\n      <td>22.0</td>\n      <td>0.000455</td>\n      <td>0.002132</td>\n      <td>0.0</td>\n      <td>0.0</td>\n      <td>0.0</td>\n      <td>0.0</td>\n      <td>0.0100</td>\n    </tr>\n    <tr>\n      <th>...</th>\n      <td>...</td>\n      <td>...</td>\n      <td>...</td>\n      <td>...</td>\n      <td>...</td>\n      <td>...</td>\n      <td>...</td>\n      <td>...</td>\n    </tr>\n    <tr>\n      <th>Dieldrin</th>\n      <td>47.0</td>\n      <td>0.000255</td>\n      <td>0.001750</td>\n      <td>0.0</td>\n      <td>0.0</td>\n      <td>0.0</td>\n      <td>0.0</td>\n      <td>0.0120</td>\n    </tr>\n    <tr>\n      <th>Fenamidone</th>\n      <td>47.0</td>\n      <td>0.000064</td>\n      <td>0.000438</td>\n      <td>0.0</td>\n      <td>0.0</td>\n      <td>0.0</td>\n      <td>0.0</td>\n      <td>0.0030</td>\n    </tr>\n    <tr>\n      <th>Trifluralin</th>\n      <td>47.0</td>\n      <td>0.000179</td>\n      <td>0.000858</td>\n      <td>0.0</td>\n      <td>0.0</td>\n      <td>0.0</td>\n      <td>0.0</td>\n      <td>0.0044</td>\n    </tr>\n    <tr>\n      <th>Cycloate</th>\n      <td>38.0</td>\n      <td>0.000026</td>\n      <td>0.000162</td>\n      <td>0.0</td>\n      <td>0.0</td>\n      <td>0.0</td>\n      <td>0.0</td>\n      <td>0.0010</td>\n    </tr>\n    <tr>\n      <th>Pentachloroanisol</th>\n      <td>38.0</td>\n      <td>0.000105</td>\n      <td>0.000649</td>\n      <td>0.0</td>\n      <td>0.0</td>\n      <td>0.0</td>\n      <td>0.0</td>\n      <td>0.0040</td>\n    </tr>\n  </tbody>\n</table>\n<p>115 rows × 8 columns</p>\n</div>"
     },
     "metadata": {},
     "execution_count": 12
    }
   ],
   "source": [
    "pt.describe().T"
   ]
  },
  {
   "cell_type": "code",
   "execution_count": 13,
   "metadata": {},
   "outputs": [],
   "source": [
    "# filling nan values by 0 as precised in the docs, 0 means not detected\n",
    "pt.fillna(0, inplace=True)"
   ]
  },
  {
   "cell_type": "code",
   "execution_count": null,
   "metadata": {},
   "outputs": [],
   "source": []
  }
 ]
}